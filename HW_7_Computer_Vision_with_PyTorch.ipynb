{
  "cells": [
    {
      "cell_type": "markdown",
      "metadata": {
        "id": "vllfFC_C7dGt"
      },
      "source": [
        "\u0412 \u0446\u044c\u043e\u043c\u0443 \u043d\u0430\u0431\u043e\u0440\u0456 \u0437\u0430\u0432\u0434\u0430\u043d\u044c \u0437\u0430\u043a\u0440\u0456\u043f\u0438\u043c\u043e \u0442\u0435, \u0449\u043e \u0431\u0443\u043b\u043e \u043d\u0430 \u043b\u0435\u043a\u0446\u0456\u0457 \u0437 Computer Vision."
      ]
    },
    {
      "cell_type": "markdown",
      "metadata": {
        "id": "Vex99np2wFVt"
      },
      "source": [
        "# Computer Vision with PyTorch\n"
      ]
    },
    {
      "cell_type": "markdown",
      "metadata": {
        "id": "FSFX7tc1w-en"
      },
      "source": [
        "## 1. \u041d\u0430\u0432\u0435\u0434\u0456\u0442\u044c 3 \u0433\u0430\u043b\u0443\u0437\u0456 \u043f\u0440\u043e\u043c\u0438\u0441\u043b\u043e\u0432\u043e\u0441\u0442\u0456, \u0434\u0435 \u043a\u043e\u043c\u043f'\u044e\u0442\u0435\u0440\u043d\u0438\u0439 \u0437\u0456\u0440 \u0432\u0438\u043a\u043e\u0440\u0438\u0441\u0442\u043e\u0432\u0443\u0454\u0442\u044c\u0441\u044f \u0441\u044c\u043e\u0433\u043e\u0434\u043d\u0456 (\u043c\u043e\u0436\u043d\u0430 \u0437\u0433\u0430\u0434\u0430\u0442\u0438 \u0437 \u043b\u0435\u043a\u0446\u0456\u0457, \u0430\u0431\u043e \u043f\u0440\u043e\u0432\u0435\u0441\u0442\u0438 \u043c\u0456\u043d\u0456-\u0440\u0456\u0441\u0435\u0440\u0447)."
      ]
    },
    {
      "cell_type": "markdown",
      "metadata": {
        "id": "7Y48drsigF8c"
      },
      "source": [
        "1. \u041a\u043e\u043d\u0442\u0440\u043e\u043b\u044c \u044f\u043a\u043e\u0441\u0442\u0456 \u043d\u0430 \u0432\u0438\u0440\u043e\u0431\u043d\u0438\u0446\u0442\u0432\u0456\n",
        "2. \u0410\u0432\u0442\u043e\u043c\u043e\u0431\u0456\u043b\u044c\u043d\u0430 \u043f\u0440\u043e\u043c\u0438\u0441\u043b\u043e\u0432\u0456\u0441\u0442\u044c\n",
        "3. \u0412\u0456\u0439\u0441\u044c\u043a\u043e\u0432\u0430 \u0433\u0430\u043b\u0443\u0437\u044c"
      ]
    },
    {
      "cell_type": "markdown",
      "metadata": {
        "id": "DKdEEFEqxM-8"
      },
      "source": [
        "## 2. \u0412\u0438\u0434\u0456\u043b\u0456\u0442\u044c 20 \u0445\u0432\u0438\u043b\u0438\u043d \u0430\u0431\u0438 \u043e\u0437\u043d\u0430\u0439\u043e\u043c\u0438\u0442\u0438\u0441\u044c \u0442\u0430 \u043f\u0435\u0440\u0435\u0433\u043b\u044f\u043d\u0443\u0442\u0438 \u0441\u0430\u0439\u0442 [CNN Explainer](https://poloclub.github.io/cnn-explainer/).\n",
        "\n",
        "* \u0417\u0430\u0432\u0430\u043d\u0442\u0430\u0436\u0442\u0435 \u0432\u043b\u0430\u0441\u043d\u0435 \u0431\u0443\u0434\u044c-\u044f\u043a\u0435 \u0437\u043e\u0431\u0440\u0430\u0436\u0435\u043d\u043d\u044f \u0437\u0430 \u0434\u043e\u043f\u043e\u043c\u043e\u0433\u043e\u044e \u043a\u043d\u043e\u043f\u043a\u0438 Upload\" \u043d\u0430 \u0441\u0430\u0439\u0442\u0456 \u0442\u0430 \u043f\u043e\u0434\u0438\u0432\u0456\u0442\u044c\u0441\u044f, \u0449\u043e \u0432\u0456\u0434\u0431\u0443\u0432\u0430\u0454\u0442\u044c\u0441\u044f \u043d\u0430 \u043a\u043e\u0436\u043d\u043e\u043c\u0443 \u0448\u0430\u0440\u0456 CNN, \u043a\u043e\u043b\u0438 \u0432\u0430\u0448\u0435 \u0437\u043e\u0431\u0440\u0430\u0436\u0435\u043d\u043d\u044f \u043f\u0440\u043e\u0445\u043e\u0434\u0438\u0442\u044c \u0447\u0435\u0440\u0435\u0437 \u043d\u044c\u043e\u0433\u043e.\n",
        "\n",
        "\u041d\u0430\u043f\u0438\u0448\u0456\u0442\u044c 3 \u043f\u0443\u043d\u043a\u0442\u0438, \u0449\u043e \u0432\u0438 \u0434\u0456\u0437\u043d\u0430\u043b\u0438\u0441\u044c \u043f\u0456\u0441\u043b\u044f \u0446\u0456\u0454\u0457 \u0432\u043f\u0440\u0430\u0432\u0438?"
      ]
    },
    {
      "cell_type": "markdown",
      "metadata": {
        "id": "O-IDmDIUCnoU"
      },
      "source": [
        "1. \u0413\u043b\u0438\u0431\u0448\u0456 \u0448\u0430\u0440\u0438 \u0440\u043e\u0437\u043f\u0456\u0437\u043d\u0430\u044e\u0442\u044c \u0441\u043a\u043b\u0430\u0434\u043d\u0456\u0448\u0456 \u043e\u0437\u043d\u0430\u043a\u0438. \u041d\u0430 \u043f\u043e\u0447\u0430\u0442\u043a\u043e\u0432\u0438\u0445 \u0448\u0430\u0440\u0430\u0445 \u043d\u0435\u0439\u0440\u043e\u043d\u043d\u0430 \u043c\u0435\u0440\u0435\u0436\u0430 \u0440\u043e\u0437\u043f\u0456\u0437\u043d\u0430\u0454 \u043f\u0440\u043e\u0441\u0442\u0456 \u0432\u0456\u0437\u0435\u0440\u0443\u043d\u043a\u0438. \u0410 \u043d\u0430 \u0433\u043b\u0438\u0431\u0448\u0438\u0445 \u0448\u0430\u0440\u0430\u0445 \u0437\u2019\u044f\u0432\u043b\u044f\u044e\u0442\u044c\u0441\u044f \u0431\u0456\u043b\u044c\u0448 \u0441\u043a\u043b\u0430\u0434\u043d\u0456 \u0442\u0430 \u0430\u0431\u0441\u0442\u0440\u0430\u043a\u0442\u043d\u0456 \u043e\u0437\u043d\u0430\u043a\u0438, \u0447\u0430\u0441\u0442\u0438\u043d\u0438 \u0437\u043e\u0431\u0440\u0430\u0436\u0435\u043d\u043d\u044f.\n",
        "2. \u041a\u043e\u0436\u0435\u043d \u0444\u0456\u043b\u044c\u0442\u0440 \"\u0432\u0456\u0434\u043f\u043e\u0432\u0456\u0434\u0430\u0454\" \u0437\u0430 \u0432\u0438\u044f\u0432\u043b\u0435\u043d\u043d\u044f \u043f\u0435\u0432\u043d\u043e\u0433\u043e \u0442\u0438\u043f\u0443 \u043e\u0437\u043d\u0430\u043a. \u041d\u0430 \u0441\u0430\u0439\u0442\u0456 \u0432\u0438\u0434\u043d\u043e, \u044f\u043a \u0440\u0456\u0437\u043d\u0456 \u0444\u0456\u043b\u044c\u0442\u0440\u0438 \u0440\u0435\u0430\u0433\u0443\u044e\u0442\u044c \u043d\u0430 \u0440\u0456\u0437\u043d\u0456 \u0447\u0430\u0441\u0442\u0438\u043d\u0438 \u0437\u043e\u0431\u0440\u0430\u0436\u0435\u043d\u043d\u044f, \u043f\u0456\u0434\u0441\u0438\u043b\u044e\u044e\u0447\u0438 \u0430\u0431\u043e \u043f\u0440\u0438\u0433\u043b\u0443\u0448\u0443\u044e\u0447\u0438 \u043e\u043a\u0440\u0435\u043c\u0456 \u0439\u043e\u0433\u043e \u0435\u043b\u0435\u043c\u0435\u043d\u0442\u0438.\n",
        "3. \u0417\u0433\u043e\u0440\u0442\u043a\u0430 (convolution) \u0432\u0438\u0442\u044f\u0433\u0443\u0454 \u043e\u0437\u043d\u0430\u043a\u0438 \u0437 \u0437\u043e\u0431\u0440\u0430\u0436\u0435\u043d\u043d\u044f, \u0430 pooling (\u043c\u0430\u043a\u0441\u0438\u043c\u0430\u043b\u044c\u043d\u0435 \u0437\u043c\u0435\u043d\u0448\u0435\u043d\u043d\u044f) \u2014 \u0437\u043c\u0435\u043d\u0448\u0443\u0454 \u0440\u043e\u0437\u043c\u0456\u0440 \u043f\u0440\u043e\u0441\u0442\u043e\u0440\u043e\u0432\u0438\u0445 \u0434\u0430\u043d\u0438\u0445, \u0437\u0431\u0435\u0440\u0456\u0433\u0430\u044e\u0447\u0438 \u043d\u0430\u0439\u0432\u0430\u0436\u043b\u0438\u0432\u0456\u0448\u0443 \u0456\u043d\u0444\u043e\u0440\u043c\u0430\u0446\u0456\u044e."
      ]
    },
    {
      "cell_type": "markdown",
      "metadata": {
        "id": "lvf-3pODxXYI"
      },
      "source": [
        "## 3. \u0417\u0430\u0432\u0430\u043d\u0442\u0430\u0436\u0442\u0435 \u043d\u0430\u0432\u0447\u0430\u043b\u044c\u043d\u0456 \u0442\u0430 \u0442\u0435\u0441\u0442\u043e\u0432\u0456 \u043d\u0430\u0431\u043e\u0440\u0438 \u0434\u0430\u043d\u0438\u0445 [`torchvision.datasets.MNIST()`](https://pytorch.org/vision/stable/generated/torchvision.datasets.MNIST.html#torchvision.datasets.MNIST).\n",
        "\n",
        "MNIST - \u0431\u0430\u0437\u043e\u0432\u0438\u0439 \u043d\u0430\u0431\u0456\u0440 \u0434\u0430\u043d\u0438\u0445 \u0434\u043b\u044f \u0437\u0430\u0434\u0430\u0447 Computer Vision. \u0427\u0430\u0441\u0442\u043e \u0432\u0438\u043a\u043e\u0440\u0438\u0441\u0442\u043e\u0432\u0443\u0454\u0442\u044c\u0441\u044f \u0434\u043b\u044f \u043d\u0430\u0432\u0447\u0430\u043d\u043d\u044f.\n",
        "\n",
        "- \u0412\u0438\u0432\u0435\u0434\u0456\u0442\u044c, \u0441\u043a\u0456\u043b\u044c\u043a\u0438 \u0435\u043b\u0435\u043c\u0435\u043d\u0442\u0456\u0432 \u0432 \u043a\u043e\u0436\u043d\u043e\u043c\u0443 \u043d\u0430\u0431\u043e\u0440\u0456.\n",
        "- \u041f\u043e\u043a\u0430\u0436\u0456\u0442\u044c \u0444\u043e\u0440\u043c\u0430\u0442 (\u0440\u043e\u0437\u043c\u0456\u0440\u043d\u043e\u0441\u0442\u0456) \u043a\u043e\u0436\u043d\u043e\u0457 \u043a\u0430\u0440\u0442\u0438\u043d\u043a\u0438.\n",
        "- \u0412\u0438\u0432\u0435\u0434\u0456\u0442\u044c, \u044f\u043a\u0456 \u043a\u043b\u0430\u0441\u0438 \u043f\u0440\u0435\u0434\u0441\u0442\u0430\u0432\u043b\u0435\u043d\u0456 \u0432 \u0446\u044c\u043e\u043c\u0443 \u043d\u0430\u0431\u043e\u0440\u0456 \u0434\u0430\u043d\u0438\u0445."
      ]
    },
    {
      "cell_type": "code",
      "execution_count": 32,
      "metadata": {
        "colab": {
          "base_uri": "https://localhost:8080/"
        },
        "id": "tZK9qXC5cWKJ",
        "outputId": "84b44e71-7040-423e-ad08-1b284c2593a0"
      },
      "outputs": [
        {
          "name": "stdout",
          "output_type": "stream",
          "text": [
            "\u001b[2K   \u001b[90m\u2501\u2501\u2501\u2501\u2501\u2501\u2501\u2501\u2501\u2501\u2501\u2501\u2501\u2501\u2501\u2501\u2501\u2501\u2501\u2501\u2501\u2501\u2501\u2501\u2501\u2501\u2501\u2501\u2501\u2501\u2501\u2501\u2501\u2501\u2501\u2501\u2501\u2501\u2501\u2501\u001b[0m \u001b[32m962.5/962.5 kB\u001b[0m \u001b[31m15.6 MB/s\u001b[0m eta \u001b[36m0:00:00\u001b[0m\n",
            "\u001b[2K   \u001b[90m\u2501\u2501\u2501\u2501\u2501\u2501\u2501\u2501\u2501\u2501\u2501\u2501\u2501\u2501\u2501\u2501\u2501\u2501\u2501\u2501\u2501\u2501\u2501\u2501\u2501\u2501\u2501\u2501\u2501\u2501\u2501\u2501\u2501\u2501\u2501\u2501\u2501\u2501\u2501\u2501\u001b[0m \u001b[32m363.4/363.4 MB\u001b[0m \u001b[31m1.8 MB/s\u001b[0m eta \u001b[36m0:00:00\u001b[0m\n",
            "\u001b[2K   \u001b[90m\u2501\u2501\u2501\u2501\u2501\u2501\u2501\u2501\u2501\u2501\u2501\u2501\u2501\u2501\u2501\u2501\u2501\u2501\u2501\u2501\u2501\u2501\u2501\u2501\u2501\u2501\u2501\u2501\u2501\u2501\u2501\u2501\u2501\u2501\u2501\u2501\u2501\u2501\u2501\u2501\u001b[0m \u001b[32m13.8/13.8 MB\u001b[0m \u001b[31m10.1 MB/s\u001b[0m eta \u001b[36m0:00:00\u001b[0m\n",
            "\u001b[2K   \u001b[90m\u2501\u2501\u2501\u2501\u2501\u2501\u2501\u2501\u2501\u2501\u2501\u2501\u2501\u2501\u2501\u2501\u2501\u2501\u2501\u2501\u2501\u2501\u2501\u2501\u2501\u2501\u2501\u2501\u2501\u2501\u2501\u2501\u2501\u2501\u2501\u2501\u2501\u2501\u2501\u2501\u001b[0m \u001b[32m24.6/24.6 MB\u001b[0m \u001b[31m9.1 MB/s\u001b[0m eta \u001b[36m0:00:00\u001b[0m\n",
            "\u001b[2K   \u001b[90m\u2501\u2501\u2501\u2501\u2501\u2501\u2501\u2501\u2501\u2501\u2501\u2501\u2501\u2501\u2501\u2501\u2501\u2501\u2501\u2501\u2501\u2501\u2501\u2501\u2501\u2501\u2501\u2501\u2501\u2501\u2501\u2501\u2501\u2501\u2501\u2501\u2501\u2501\u2501\u2501\u001b[0m \u001b[32m883.7/883.7 kB\u001b[0m \u001b[31m42.1 MB/s\u001b[0m eta \u001b[36m0:00:00\u001b[0m\n",
            "\u001b[2K   \u001b[90m\u2501\u2501\u2501\u2501\u2501\u2501\u2501\u2501\u2501\u2501\u2501\u2501\u2501\u2501\u2501\u2501\u2501\u2501\u2501\u2501\u2501\u2501\u2501\u2501\u2501\u2501\u2501\u2501\u2501\u2501\u2501\u2501\u2501\u2501\u2501\u2501\u2501\u2501\u2501\u001b[0m \u001b[32m664.8/664.8 MB\u001b[0m \u001b[31m657.9 kB/s\u001b[0m eta \u001b[36m0:00:00\u001b[0m\n",
            "\u001b[2K   \u001b[90m\u2501\u2501\u2501\u2501\u2501\u2501\u2501\u2501\u2501\u2501\u2501\u2501\u2501\u2501\u2501\u2501\u2501\u2501\u2501\u2501\u2501\u2501\u2501\u2501\u2501\u2501\u2501\u2501\u2501\u2501\u2501\u2501\u2501\u2501\u2501\u2501\u2501\u2501\u2501\u2501\u001b[0m \u001b[32m211.5/211.5 MB\u001b[0m \u001b[31m2.8 MB/s\u001b[0m eta \u001b[36m0:00:00\u001b[0m\n",
            "\u001b[2K   \u001b[90m\u2501\u2501\u2501\u2501\u2501\u2501\u2501\u2501\u2501\u2501\u2501\u2501\u2501\u2501\u2501\u2501\u2501\u2501\u2501\u2501\u2501\u2501\u2501\u2501\u2501\u2501\u2501\u2501\u2501\u2501\u2501\u2501\u2501\u2501\u2501\u2501\u2501\u2501\u2501\u2501\u001b[0m \u001b[32m56.3/56.3 MB\u001b[0m \u001b[31m8.8 MB/s\u001b[0m eta \u001b[36m0:00:00\u001b[0m\n",
            "\u001b[2K   \u001b[90m\u2501\u2501\u2501\u2501\u2501\u2501\u2501\u2501\u2501\u2501\u2501\u2501\u2501\u2501\u2501\u2501\u2501\u2501\u2501\u2501\u2501\u2501\u2501\u2501\u2501\u2501\u2501\u2501\u2501\u2501\u2501\u2501\u2501\u2501\u2501\u2501\u2501\u2501\u2501\u2501\u001b[0m \u001b[32m127.9/127.9 MB\u001b[0m \u001b[31m6.0 MB/s\u001b[0m eta \u001b[36m0:00:00\u001b[0m\n",
            "\u001b[2K   \u001b[90m\u2501\u2501\u2501\u2501\u2501\u2501\u2501\u2501\u2501\u2501\u2501\u2501\u2501\u2501\u2501\u2501\u2501\u2501\u2501\u2501\u2501\u2501\u2501\u2501\u2501\u2501\u2501\u2501\u2501\u2501\u2501\u2501\u2501\u2501\u2501\u2501\u2501\u2501\u2501\u2501\u001b[0m \u001b[32m207.5/207.5 MB\u001b[0m \u001b[31m7.0 MB/s\u001b[0m eta \u001b[36m0:00:00\u001b[0m\n",
            "\u001b[2K   \u001b[90m\u2501\u2501\u2501\u2501\u2501\u2501\u2501\u2501\u2501\u2501\u2501\u2501\u2501\u2501\u2501\u2501\u2501\u2501\u2501\u2501\u2501\u2501\u2501\u2501\u2501\u2501\u2501\u2501\u2501\u2501\u2501\u2501\u2501\u2501\u2501\u2501\u2501\u2501\u2501\u2501\u001b[0m \u001b[32m21.1/21.1 MB\u001b[0m \u001b[31m47.1 MB/s\u001b[0m eta \u001b[36m0:00:00\u001b[0m\n",
            "\u001b[?25h"
          ]
        }
      ],
      "source": [
        "!pip install -q torchmetrics"
      ]
    },
    {
      "cell_type": "code",
      "execution_count": 1,
      "metadata": {
        "id": "59kXJnrzGY75"
      },
      "outputs": [],
      "source": [
        "import random\n",
        "import numpy as np\n",
        "\n",
        "import torch\n",
        "from torch import nn\n",
        "from torch.utils.data import DataLoader\n",
        "\n",
        "import torchvision\n",
        "from torchvision import datasets\n",
        "from torchvision.transforms import ToTensor\n",
        "\n",
        "from torchmetrics import ConfusionMatrix\n",
        "from mlxtend.plotting import plot_confusion_matrix\n",
        "\n",
        "import matplotlib.pyplot as plt\n",
        "\n",
        "from timeit import default_timer as timer\n",
        "from tqdm.auto import tqdm\n",
        "\n",
        "device = \"cuda\" if torch.cuda.is_available() else \"cpu\""
      ]
    },
    {
      "cell_type": "code",
      "execution_count": null,
      "metadata": {
        "colab": {
          "base_uri": "https://localhost:8080/"
        },
        "id": "fkdjwtbX7riT",
        "outputId": "85600112-a1bf-4a8a-9ba5-8ec6fd3c91d0"
      },
      "outputs": [
        {
          "name": "stdout",
          "output_type": "stream",
          "text": [
            "PyTorch version: 2.6.0+cu124\n",
            "torchvision version: 0.21.0+cu124\n",
            "Device: cuda\n"
          ]
        }
      ],
      "source": [
        "print(f\"PyTorch version: {torch.__version__}\")\n",
        "print(f\"torchvision version: {torchvision.__version__}\")\n",
        "print(f\"Device: {device}\")"
      ]
    },
    {
      "cell_type": "code",
      "execution_count": 2,
      "metadata": {
        "colab": {
          "base_uri": "https://localhost:8080/"
        },
        "id": "um4tih2rDuhq",
        "outputId": "1e87dccc-fd78-4d54-8974-d511272d3a03"
      },
      "outputs": [
        {
          "name": "stderr",
          "output_type": "stream",
          "text": [
            "100%|\u2588\u2588\u2588\u2588\u2588\u2588\u2588\u2588\u2588\u2588| 9.91M/9.91M [00:00<00:00, 52.5MB/s]\n",
            "100%|\u2588\u2588\u2588\u2588\u2588\u2588\u2588\u2588\u2588\u2588| 28.9k/28.9k [00:00<00:00, 1.72MB/s]\n",
            "100%|\u2588\u2588\u2588\u2588\u2588\u2588\u2588\u2588\u2588\u2588| 1.65M/1.65M [00:00<00:00, 14.2MB/s]\n",
            "100%|\u2588\u2588\u2588\u2588\u2588\u2588\u2588\u2588\u2588\u2588| 4.54k/4.54k [00:00<00:00, 5.72MB/s]\n"
          ]
        }
      ],
      "source": [
        "train_data = datasets.MNIST(\n",
        "    root='../data',\n",
        "    train=True,\n",
        "    download=True,\n",
        "    transform=ToTensor(),\n",
        "    target_transform=None\n",
        ")\n",
        "\n",
        "test_data = datasets.MNIST(\n",
        "    root='../data',\n",
        "    train=False,\n",
        "    download=True,\n",
        "    transform=ToTensor()\n",
        ")"
      ]
    },
    {
      "cell_type": "code",
      "execution_count": null,
      "metadata": {
        "colab": {
          "base_uri": "https://localhost:8080/"
        },
        "id": "dqOSxDsZEow-",
        "outputId": "45f9ddad-d94c-4392-daab-f1517a05a86b"
      },
      "outputs": [
        {
          "name": "stdout",
          "output_type": "stream",
          "text": [
            "Train data: 60000 items\n",
            "Test data: 10000 items\n"
          ]
        }
      ],
      "source": [
        "print(f\"Train data: {len(train_data.data)} items\")\n",
        "print(f\"Test data: {len(test_data.data)} items\")"
      ]
    },
    {
      "cell_type": "code",
      "execution_count": null,
      "metadata": {
        "colab": {
          "base_uri": "https://localhost:8080/"
        },
        "id": "sUIgqkgcFCRJ",
        "outputId": "c552b416-0e89-4273-808b-e8e6043109f4"
      },
      "outputs": [
        {
          "name": "stdout",
          "output_type": "stream",
          "text": [
            "The shape of each image: torch.Size([1, 28, 28])\n"
          ]
        }
      ],
      "source": [
        "print(f\"The shape of each image: {train_data[0][0].shape}\")"
      ]
    },
    {
      "cell_type": "code",
      "execution_count": 3,
      "metadata": {
        "colab": {
          "base_uri": "https://localhost:8080/"
        },
        "id": "mRSJrgpiFWh8",
        "outputId": "16cafd5e-d510-43be-952d-e901d5bdb939"
      },
      "outputs": [
        {
          "name": "stdout",
          "output_type": "stream",
          "text": [
            "Class names: ['0 - zero', '1 - one', '2 - two', '3 - three', '4 - four', '5 - five', '6 - six', '7 - seven', '8 - eight', '9 - nine']\n"
          ]
        }
      ],
      "source": [
        "class_names = train_data.classes\n",
        "print(f\"Class names: {class_names}\")"
      ]
    },
    {
      "cell_type": "markdown",
      "metadata": {
        "id": "qxZW-uAbxe_F"
      },
      "source": [
        "## 4. \u0412\u0456\u0437\u0443\u0430\u043b\u0456\u0437\u0443\u0439\u0442\u0435 \u0449\u043e\u043d\u0430\u0439\u043c\u0435\u043d\u0448\u0435 5 \u0440\u0456\u0437\u043d\u0438\u0445 \u0437\u0440\u0430\u0437\u043a\u0456\u0432 \u0437 \u043d\u0430\u0432\u0447\u0430\u043b\u044c\u043d\u043e\u0433\u043e \u043d\u0430\u0431\u043e\u0440\u0443 \u0434\u0430\u043d\u0438\u0445 MNIST."
      ]
    },
    {
      "cell_type": "code",
      "execution_count": null,
      "metadata": {
        "colab": {
          "base_uri": "https://localhost:8080/",
          "height": 391
        },
        "id": "Cm-qgzN97t4c",
        "outputId": "1f38d4e8-02ff-4f5b-d4d1-86bf46fde6c0"
      },
      "outputs": [
        {
          "data": {
            "image/png": "[encoded data removed]",
            "text/plain": [
              "<Figure size 500x400 with 6 Axes>"
            ]
          },
          "metadata": {},
          "output_type": "display_data"
        }
      ],
      "source": [
        "torch.manual_seed(7)\n",
        "\n",
        "fig = plt.figure(figsize=(5, 4))\n",
        "rows, cols = 2, 3\n",
        "for i in range(1, rows * cols + 1):\n",
        "    random_idx = torch.randint(0, len(train_data), size=[1]).item()\n",
        "    img, label = train_data[random_idx]\n",
        "    fig.add_subplot(rows, cols, i)\n",
        "    plt.imshow(img.squeeze(), cmap='gray')\n",
        "    plt.title(label)\n",
        "    plt.axis(False)\n",
        "plt.tight_layout()\n",
        "plt.show()"
      ]
    },
    {
      "cell_type": "markdown",
      "metadata": {
        "id": "JAPDzW0wxhi3"
      },
      "source": [
        "## 5. \u041f\u0435\u0440\u0435\u0442\u0432\u043e\u0440\u0456\u0442\u044c \u043d\u0430\u0432\u0447\u0430\u043b\u044c\u043d\u0456 \u0442\u0430 \u0442\u0435\u0441\u0442\u043e\u0432\u0456 \u043d\u0430\u0431\u043e\u0440\u0438 \u0434\u0430\u043d\u0438\u0445 MNIST \u0443 data loaders \u0437\u0430 \u0434\u043e\u043f\u043e\u043c\u043e\u0433\u043e\u044e `torch.utils.data.DataLoader`, \u0432\u0441\u0442\u0430\u043d\u043e\u0432\u0456\u0442\u044c `batch_size=32`.\n",
        "- \u041f\u043e\u043a\u0430\u0436\u0456\u0442\u044c, \u044f\u043a\u0443 \u0444\u043e\u0440\u043c\u0443 \u0434\u0430\u043d\u0438\u0445 \u0432\u0435\u0440\u0442\u0430\u044e\u0442\u044c \u0434\u0430\u0442\u0430 \u043b\u043e\u0430\u0434\u0435\u0440\u0438."
      ]
    },
    {
      "cell_type": "code",
      "execution_count": 4,
      "metadata": {
        "id": "aOff13r-7u-p"
      },
      "outputs": [],
      "source": [
        "BATCH_SIZE = 32\n",
        "\n",
        "train_dataloader = DataLoader(\n",
        "    train_data,\n",
        "    batch_size=BATCH_SIZE,\n",
        "    shuffle=True\n",
        ")\n",
        "\n",
        "test_dataloader = DataLoader(\n",
        "    test_data,\n",
        "    batch_size=BATCH_SIZE,\n",
        "    shuffle=False\n",
        ")"
      ]
    },
    {
      "cell_type": "code",
      "execution_count": null,
      "metadata": {
        "colab": {
          "base_uri": "https://localhost:8080/"
        },
        "id": "l37AFpCdIhtT",
        "outputId": "221d886e-8708-4140-f607-c2ca01a87037"
      },
      "outputs": [
        {
          "name": "stdout",
          "output_type": "stream",
          "text": [
            "Dataloaders: (<torch.utils.data.dataloader.DataLoader object at 0x793250303890>, <torch.utils.data.dataloader.DataLoader object at 0x793250470d10>)\n",
            "Lenght train dataloader: 1875 \u043f\u0430\u0440\u0442\u0456\u0439 \u043f\u043e 32\n",
            "Lenght test dataloader: 313 \u043f\u0430\u0440\u0442\u0456\u0439 \u043f\u043e 32\n"
          ]
        }
      ],
      "source": [
        "print(f\"Dataloaders: {train_dataloader, test_dataloader}\")\n",
        "print(f\"Lenght train dataloader: {len(train_dataloader)} \u043f\u0430\u0440\u0442\u0456\u0439 \u043f\u043e {BATCH_SIZE}\")\n",
        "print(f\"Lenght test dataloader: {len(test_dataloader)} \u043f\u0430\u0440\u0442\u0456\u0439 \u043f\u043e {BATCH_SIZE}\")"
      ]
    },
    {
      "cell_type": "code",
      "execution_count": null,
      "metadata": {
        "colab": {
          "base_uri": "https://localhost:8080/"
        },
        "id": "NgHFksr6I2Li",
        "outputId": "d3f9f36f-2cf0-4ed5-8e69-835059827f5b"
      },
      "outputs": [
        {
          "data": {
            "text/plain": [
              "(torch.Size([32, 1, 28, 28]), torch.Size([32]))"
            ]
          },
          "execution_count": 10,
          "metadata": {},
          "output_type": "execute_result"
        }
      ],
      "source": [
        "train_features_batch, train_labels_batch = next(iter(train_dataloader))\n",
        "train_features_batch.shape, train_labels_batch.shape"
      ]
    },
    {
      "cell_type": "markdown",
      "metadata": {
        "id": "bCCVfXk5xjYS"
      },
      "source": [
        "## 6. \u0412\u0456\u0434\u0442\u0432\u043e\u0440\u0456\u0442\u044c `ModelV2`, \u044f\u043a\u0443 \u043c\u0438 \u0440\u043e\u0437\u0433\u043b\u044f\u0434\u0430\u043b\u0438 \u043d\u0430 \u043b\u0435\u043a\u0446\u0456\u0457\n",
        "\u0426\u0435 \u0434\u043e \u0441\u043b\u043e\u0432\u0430 \u0442\u0430 \u0441\u0430\u043c\u0430 \u043c\u043e\u0434\u0435\u043b\u044c \u0437 [\u0441\u0430\u0439\u0442\u0443 CNN Explainer](https://poloclub.github.io/cnn-explainer/), \u0442\u0430\u043a\u043e\u0436 \u0432\u0456\u0434\u043e\u043c\u0430 \u044f\u043a TinyVGG \u0456 \u0432\u043e\u043d\u0430 \u0437\u0434\u0430\u0442\u043d\u0430 \u043d\u0430\u0432\u0447\u0430\u0442\u0438\u0441\u044f \u043d\u0430 \u043d\u0430\u0431\u043e\u0440\u0456 \u0434\u0430\u043d\u0438\u0445 MNIST.\n",
        "\n",
        "\u041d\u0430\u043f\u0438\u0448\u0456\u0442\u044c \u043a\u043b\u0430\u0441 \u043c\u043e\u0434\u0435\u043b\u0456."
      ]
    },
    {
      "cell_type": "code",
      "execution_count": 5,
      "metadata": {
        "id": "J3T9JDpj7wQX"
      },
      "outputs": [],
      "source": [
        "class MNISTModel(nn.Module):\n",
        "    def __init__(self,\n",
        "                 input_shape: int,\n",
        "                 hidden_units: int,\n",
        "                 output_shape: int):\n",
        "        super().__init__()\n",
        "        self.block_1 = nn.Sequential(\n",
        "            nn.Conv2d(in_channels=input_shape,\n",
        "                      out_channels=hidden_units,\n",
        "                      kernel_size=3,\n",
        "                      stride=1,\n",
        "                      padding=1),\n",
        "            nn.ReLU(),\n",
        "            nn.Conv2d(in_channels=hidden_units,\n",
        "                      out_channels=hidden_units,\n",
        "                      kernel_size=3,\n",
        "                      stride=1,\n",
        "                      padding=1),\n",
        "            nn.ReLU(),\n",
        "            nn.MaxPool2d(kernel_size=2,\n",
        "                         stride=2)\n",
        "        )\n",
        "        self.block_2 = nn.Sequential(\n",
        "            nn.Conv2d(in_channels=hidden_units,\n",
        "                      out_channels=hidden_units,\n",
        "                      kernel_size=3,\n",
        "                      padding=1),\n",
        "            nn.ReLU(),\n",
        "            nn.Conv2d(in_channels=hidden_units,\n",
        "                      out_channels=hidden_units,\n",
        "                      kernel_size=3,\n",
        "                      padding=1),\n",
        "            nn.ReLU(),\n",
        "            nn.MaxPool2d(kernel_size=2)\n",
        "        )\n",
        "        self.classifier = nn.Sequential(\n",
        "            nn.Flatten(),\n",
        "            nn.Linear(in_features=hidden_units*7*7,\n",
        "                      out_features=output_shape)\n",
        "        )\n",
        "\n",
        "    def forward(self, x: torch.Tensor):\n",
        "        x = self.block_1(x)\n",
        "        x = self.block_2(x)\n",
        "        x = self.classifier(x)\n",
        "        return x"
      ]
    },
    {
      "cell_type": "code",
      "execution_count": 6,
      "metadata": {
        "colab": {
          "base_uri": "https://localhost:8080/"
        },
        "id": "zCoeU0AckI3Q",
        "outputId": "ed3c8786-19a6-46c7-a84b-7bf312c74225"
      },
      "outputs": [
        {
          "data": {
            "text/plain": [
              "MNISTModel(\n",
              "  (block_1): Sequential(\n",
              "    (0): Conv2d(1, 10, kernel_size=(3, 3), stride=(1, 1), padding=(1, 1))\n",
              "    (1): ReLU()\n",
              "    (2): Conv2d(10, 10, kernel_size=(3, 3), stride=(1, 1), padding=(1, 1))\n",
              "    (3): ReLU()\n",
              "    (4): MaxPool2d(kernel_size=2, stride=2, padding=0, dilation=1, ceil_mode=False)\n",
              "  )\n",
              "  (block_2): Sequential(\n",
              "    (0): Conv2d(10, 10, kernel_size=(3, 3), stride=(1, 1), padding=(1, 1))\n",
              "    (1): ReLU()\n",
              "    (2): Conv2d(10, 10, kernel_size=(3, 3), stride=(1, 1), padding=(1, 1))\n",
              "    (3): ReLU()\n",
              "    (4): MaxPool2d(kernel_size=2, stride=2, padding=0, dilation=1, ceil_mode=False)\n",
              "  )\n",
              "  (classifier): Sequential(\n",
              "    (0): Flatten(start_dim=1, end_dim=-1)\n",
              "    (1): Linear(in_features=490, out_features=10, bias=True)\n",
              "  )\n",
              ")"
            ]
          },
          "execution_count": 6,
          "metadata": {},
          "output_type": "execute_result"
        }
      ],
      "source": [
        "torch.manual_seed(7)\n",
        "model = MNISTModel(\n",
        "    input_shape=1,\n",
        "    hidden_units=10,\n",
        "    output_shape=len(class_names)\n",
        ").to(device)\n",
        "model"
      ]
    },
    {
      "cell_type": "markdown",
      "metadata": {
        "id": "sf_3zUr7xlhy"
      },
      "source": [
        "## 7. \u041d\u0430\u0432\u0447\u0456\u0442\u044c \u043c\u043e\u0434\u0435\u043b\u044c, \u044f\u043a\u0443 \u0432\u0438 \u043f\u043e\u0431\u0443\u0434\u0443\u0432\u0430\u043b\u0438 \u0432 \u043f\u043e\u043f\u0435\u0440\u0435\u0434\u043d\u0456\u0439 \u0432\u043f\u0440\u0430\u0432\u0456, \u043f\u0440\u043e\u0442\u044f\u0433\u043e\u043c 5 \u0435\u043f\u043e\u0445 \u043d\u0430 CPU \u0442\u0430 GPU \u0456 \u043f\u043e\u0434\u0438\u0432\u0456\u0442\u044c\u0441\u044f, \u0441\u043a\u0456\u043b\u044c\u043a\u0438 \u0447\u0430\u0441\u0443 \u0446\u0435 \u0437\u0430\u0439\u043c\u0435 \u0432 \u043a\u043e\u0436\u043d\u043e\u043c\u0443 \u0437 \u0432\u0430\u0440\u0456\u0430\u043d\u0442\u0456\u0432."
      ]
    },
    {
      "cell_type": "code",
      "execution_count": 7,
      "metadata": {
        "id": "alY-tbfH7yHe"
      },
      "outputs": [],
      "source": [
        "loss_fn = nn.CrossEntropyLoss()\n",
        "optimizer = torch.optim.SGD(params=model.parameters(),\n",
        "                            lr=0.1)"
      ]
    },
    {
      "cell_type": "code",
      "execution_count": 8,
      "metadata": {
        "id": "cjO8Mu7Drdth"
      },
      "outputs": [],
      "source": [
        "def accuracy_fn(y_true, y_pred):\n",
        "  correct = torch.eq(y_true, y_pred).sum().item()\n",
        "  acc = (correct / len(y_pred)) * 100\n",
        "  return acc"
      ]
    },
    {
      "cell_type": "code",
      "execution_count": 9,
      "metadata": {
        "id": "4YFdxmcboHA-"
      },
      "outputs": [],
      "source": [
        "def train_step(model: torch.nn.Module,\n",
        "               data_loader: torch.utils.data.DataLoader,\n",
        "               optimizer: torch.optim.Optimizer,\n",
        "               loss_fn: torch.nn.Module,\n",
        "               accuracy_fn,\n",
        "               device: torch.device = device):\n",
        "    train_loss, train_acc = 0, 0\n",
        "    model.to(device)\n",
        "    for batch, (X, y) in enumerate(data_loader):\n",
        "        X, y = X.to(device), y.to(device)\n",
        "\n",
        "        y_pred = model(X)\n",
        "\n",
        "        loss = loss_fn(y_pred, y)\n",
        "        train_loss += loss\n",
        "        train_acc += accuracy_fn(y_true=y,\n",
        "                                 y_pred=y_pred.argmax(dim=1))\n",
        "\n",
        "        optimizer.zero_grad()\n",
        "        loss.backward()\n",
        "        optimizer.step()\n",
        "    train_loss /= len(data_loader)\n",
        "    train_acc /= len(data_loader)\n",
        "    print(f\"Train loss: {train_loss:.5f} | Train accuracy: {train_acc:.2f}%\")\n",
        "\n",
        "def test_step(model: torch.nn.Module,\n",
        "              data_loader: torch.utils.data.DataLoader,\n",
        "              loss_fn: torch.nn.Module,\n",
        "              accuracy_fn,\n",
        "              device: torch.device = device):\n",
        "    test_loss, test_acc= 0, 0\n",
        "    model.to(device)\n",
        "    model.eval()\n",
        "    with torch.inference_mode():\n",
        "        for X, y in data_loader:\n",
        "            X, y = X.to(device), y.to(device)\n",
        "\n",
        "            test_pred = model(X)\n",
        "\n",
        "            test_loss += loss_fn(test_pred, y)\n",
        "            test_acc += accuracy_fn(y_true=y,\n",
        "                                    y_pred=test_pred.argmax(dim=1))\n",
        "\n",
        "        test_loss /= len(data_loader)\n",
        "        test_acc /= len(data_loader)\n",
        "        print(f\"Test loss: {test_loss:.5f} | Test accuracy: {test_acc:.2f}%\\n\")\n"
      ]
    },
    {
      "cell_type": "code",
      "execution_count": 10,
      "metadata": {
        "id": "-bMuri42spmV"
      },
      "outputs": [],
      "source": [
        "def print_train_time(start: float,\n",
        "                     end: float,\n",
        "                     device: torch.device = None):\n",
        "  total_time = end - start\n",
        "  print(f\"Training time on {device}: {total_time:.3f} seconds\")\n",
        "  return total_time"
      ]
    },
    {
      "cell_type": "code",
      "execution_count": null,
      "metadata": {
        "colab": {
          "base_uri": "https://localhost:8080/"
        },
        "id": "lhdigq4tsMWH",
        "outputId": "ba457564-c5ee-4073-b9c0-91b50006f117"
      },
      "outputs": [
        {
          "name": "stdout",
          "output_type": "stream",
          "text": [
            "cpu\n"
          ]
        }
      ],
      "source": [
        "print(device)"
      ]
    },
    {
      "cell_type": "code",
      "execution_count": 11,
      "metadata": {
        "colab": {
          "base_uri": "https://localhost:8080/",
          "height": 500,
          "referenced_widgets": [
            "a8ce7122ee814c5db2446c5679382f50",
            "04ce9013d6f6436a9bf70a0e90016b92",
            "d3e9351ab6244caa95e2c90e4366d358",
            "65f6fe94c4c14f388724fe6fea3ed0f7",
            "4e90a84194204930b1edd8bd4ab550f5",
            "2fad416284d3484b895e030321c75e2a",
            "1f378c8d738d44928232d9c8221e099f",
            "e8f008d4dfc3476f94ba1f1015d2756d",
            "e0c5826dbf154963a45dc43249fad964",
            "7028bf6991284636b0de582208dcdf5d",
            "154b91179fc844ff8773a7e8814d3a6d"
          ]
        },
        "id": "6Cl-u_DVlmNR",
        "outputId": "e040a5d8-89c8-41dc-9159-6f2a1dbfc274"
      },
      "outputs": [
        {
          "data": {
            "application/vnd.jupyter.widget-view+json": {
              "model_id": "a8ce7122ee814c5db2446c5679382f50",
              "version_major": 2,
              "version_minor": 0
            },
            "text/plain": [
              "  0%|          | 0/5 [00:00<?, ?it/s]"
            ]
          },
          "metadata": {},
          "output_type": "display_data"
        },
        {
          "name": "stdout",
          "output_type": "stream",
          "text": [
            "Epoch: 0\n",
            "-------\n",
            "Train loss: 0.30542 | Train accuracy: 90.15%\n",
            "Test loss: 0.06598 | Test accuracy: 97.93%\n",
            "\n",
            "Epoch: 1\n",
            "-------\n",
            "Train loss: 0.07230 | Train accuracy: 97.75%\n",
            "Test loss: 0.07873 | Test accuracy: 97.43%\n",
            "\n",
            "Epoch: 2\n",
            "-------\n",
            "Train loss: 0.05641 | Train accuracy: 98.26%\n",
            "Test loss: 0.04159 | Test accuracy: 98.55%\n",
            "\n",
            "Epoch: 3\n",
            "-------\n",
            "Train loss: 0.04699 | Train accuracy: 98.51%\n",
            "Test loss: 0.03845 | Test accuracy: 98.68%\n",
            "\n",
            "Epoch: 4\n",
            "-------\n",
            "Train loss: 0.04108 | Train accuracy: 98.74%\n",
            "Test loss: 0.04082 | Test accuracy: 98.63%\n",
            "\n",
            "Training time on cpu: 290.233 seconds\n"
          ]
        }
      ],
      "source": [
        "torch.manual_seed(7)\n",
        "train_time_start_model = timer()\n",
        "\n",
        "epochs = 5\n",
        "\n",
        "for epoch in tqdm(range(epochs)):\n",
        "    print(f\"Epoch: {epoch}\\n-------\")\n",
        "    train_step(data_loader=train_dataloader,\n",
        "               model=model,\n",
        "               loss_fn = loss_fn,\n",
        "               optimizer=optimizer,\n",
        "               accuracy_fn=accuracy_fn,\n",
        "               device=device)\n",
        "    test_step(data_loader=test_dataloader,\n",
        "              model=model,\n",
        "              loss_fn=loss_fn,\n",
        "              accuracy_fn=accuracy_fn,\n",
        "              device=device)\n",
        "\n",
        "train_time_end_model = timer()\n",
        "total_train_time_model = print_train_time(start=train_time_start_model,\n",
        "                                              end=train_time_end_model,\n",
        "                                              device=device)"
      ]
    },
    {
      "cell_type": "code",
      "execution_count": null,
      "metadata": {
        "colab": {
          "base_uri": "https://localhost:8080/",
          "height": 35
        },
        "id": "s88KkUygvsmU",
        "outputId": "3de705b8-6bc0-4ad8-b5cb-c2b93c3543c0"
      },
      "outputs": [
        {
          "data": {
            "application/vnd.google.colaboratory.intrinsic+json": {
              "type": "string"
            },
            "text/plain": [
              "'cuda'"
            ]
          },
          "execution_count": 7,
          "metadata": {},
          "output_type": "execute_result"
        }
      ],
      "source": [
        "device"
      ]
    },
    {
      "cell_type": "code",
      "execution_count": null,
      "metadata": {
        "id": "L6XOXTF702Cg"
      },
      "outputs": [],
      "source": [
        "torch.manual_seed(7)\n",
        "model = MNISTModel(\n",
        "    input_shape=1,\n",
        "    hidden_units=10,\n",
        "    output_shape=len(class_names)\n",
        ").to(device)\n",
        "loss_fn = nn.CrossEntropyLoss()\n",
        "optimizer = torch.optim.SGD(params=model.parameters(),\n",
        "                            lr=0.1)"
      ]
    },
    {
      "cell_type": "code",
      "execution_count": null,
      "metadata": {
        "colab": {
          "base_uri": "https://localhost:8080/",
          "height": 500,
          "referenced_widgets": [
            "e1177349c2f34013b07cf24cbde2bd9b",
            "3d726642c5a04a1f98e9c17a58330ba0",
            "a32c8c85c2ab405cb42b4f4c10faf00b",
            "7f77e882b4b54265a03be46fb2fceac4",
            "46352b955a76471096254c726036ae0d",
            "3652489e2dc840d3bbee6dc352b301e3",
            "028c057f8d054990a480e1ef569aaf33",
            "564a0af5955845acb12aaa0a731b8fc5",
            "11af1f97181d4d89ae27c1791a9b9072",
            "d467f1f3fcee4209be9e5e1f4827c06b",
            "1b66476f2109491d8fe76f606e805c97"
          ]
        },
        "id": "QH8YLwtG0_k6",
        "outputId": "bfd8cbff-fa20-4cfb-ae9e-7e625d38d7ed"
      },
      "outputs": [
        {
          "data": {
            "application/vnd.jupyter.widget-view+json": {
              "model_id": "e1177349c2f34013b07cf24cbde2bd9b",
              "version_major": 2,
              "version_minor": 0
            },
            "text/plain": [
              "  0%|          | 0/5 [00:00<?, ?it/s]"
            ]
          },
          "metadata": {},
          "output_type": "display_data"
        },
        {
          "name": "stdout",
          "output_type": "stream",
          "text": [
            "Epoch: 0\n",
            "-------\n",
            "Train loss: 0.30445 | Train accuracy: 89.97%\n",
            "Test loss: 0.05928 | Test accuracy: 97.97%\n",
            "\n",
            "Epoch: 1\n",
            "-------\n",
            "Train loss: 0.07188 | Train accuracy: 97.77%\n",
            "Test loss: 0.07484 | Test accuracy: 97.45%\n",
            "\n",
            "Epoch: 2\n",
            "-------\n",
            "Train loss: 0.05630 | Train accuracy: 98.25%\n",
            "Test loss: 0.04017 | Test accuracy: 98.63%\n",
            "\n",
            "Epoch: 3\n",
            "-------\n",
            "Train loss: 0.04599 | Train accuracy: 98.55%\n",
            "Test loss: 0.03851 | Test accuracy: 98.69%\n",
            "\n",
            "Epoch: 4\n",
            "-------\n",
            "Train loss: 0.04184 | Train accuracy: 98.70%\n",
            "Test loss: 0.04182 | Test accuracy: 98.59%\n",
            "\n",
            "Training time on cuda: 57.409 seconds\n"
          ]
        }
      ],
      "source": [
        "train_time_start_model = timer()\n",
        "\n",
        "epochs = 5\n",
        "\n",
        "for epoch in tqdm(range(epochs)):\n",
        "    print(f\"Epoch: {epoch}\\n-------\")\n",
        "    train_step(data_loader=train_dataloader,\n",
        "               model=model,\n",
        "               loss_fn = loss_fn,\n",
        "               optimizer=optimizer,\n",
        "               accuracy_fn=accuracy_fn,\n",
        "               device=device)\n",
        "    test_step(data_loader=test_dataloader,\n",
        "              model=model,\n",
        "              loss_fn=loss_fn,\n",
        "              accuracy_fn=accuracy_fn,\n",
        "              device=device)\n",
        "\n",
        "train_time_end_model = timer()\n",
        "total_train_time_model = print_train_time(start=train_time_start_model,\n",
        "                                              end=train_time_end_model,\n",
        "                                              device=device)"
      ]
    },
    {
      "cell_type": "markdown",
      "metadata": {
        "id": "w1CsHhPpxp1w"
      },
      "source": [
        "## 8. \u0417\u0440\u043e\u0431\u0456\u0442\u044c \u043f\u0440\u043e\u0433\u043d\u043e\u0437\u0438 \u0437\u0430 \u0434\u043e\u043f\u043e\u043c\u043e\u0433\u043e\u044e \u0432\u0430\u0448\u043e\u0457 \u043d\u0430\u0432\u0447\u0435\u043d\u043e\u0457 \u043c\u043e\u0434\u0435\u043b\u0456 \u0442\u0430 \u0432\u0456\u0437\u0443\u0430\u043b\u0456\u0437\u0443\u0439\u0442\u0435 \u043f\u0440\u0438\u043d\u0430\u0439\u043c\u043d\u0456 5 \u0437 \u043d\u0438\u0445, \u043f\u043e\u0440\u0456\u0432\u043d\u044e\u044e\u0447\u0438 \u043f\u0440\u043e\u0433\u043d\u043e\u0437 \u0437 \u0446\u0456\u043b\u044c\u043e\u0432\u043e\u044e \u043c\u0456\u0442\u043a\u043e\u044e."
      ]
    },
    {
      "cell_type": "code",
      "execution_count": 27,
      "metadata": {
        "id": "XbnzDNs97y5t"
      },
      "outputs": [],
      "source": [
        "def make_prediction(model: torch.nn.Module,\n",
        "                    sample,\n",
        "                    device: torch.device = device):\n",
        "    model.eval()\n",
        "    with torch.inference_mode():\n",
        "        sample = torch.unsqueeze(sample, dim=0).to(device)\n",
        "\n",
        "        pred_logit = model(sample)\n",
        "        pred_class = torch.softmax(pred_logit.squeeze(), dim=0).argmax(dim=0).cpu()\n",
        "\n",
        "    return pred_class\n"
      ]
    },
    {
      "cell_type": "code",
      "execution_count": 31,
      "metadata": {
        "colab": {
          "base_uri": "https://localhost:8080/",
          "height": 387
        },
        "id": "TYhFQjv0YaS9",
        "outputId": "edd91bd8-86a0-4664-a237-d7ac929b57f4"
      },
      "outputs": [
        {
          "data": {
            "image/png": "[encoded data removed]",
            "text/plain": [
              "<Figure size 500x400 with 6 Axes>"
            ]
          },
          "metadata": {},
          "output_type": "display_data"
        }
      ],
      "source": [
        "random.seed(7)\n",
        "\n",
        "fig = plt.figure(figsize=(5, 4))\n",
        "rows, cols = 2, 3\n",
        "for i, (sample, label) in enumerate(random.sample(list(test_data), k=rows*cols)):\n",
        "    fig.add_subplot(rows, cols, i+1)\n",
        "    plt.imshow(sample.squeeze(), cmap='gray')\n",
        "    pred_label = make_prediction(model, sample, device)\n",
        "    title_text = f\"Prediction: {pred_label} | Actual: {label}\"\n",
        "    if pred_label == label:\n",
        "        plt.title(title_text, fontsize=9, c='g')\n",
        "    else:\n",
        "        plt.title(title_text, fontsize=9, c='r')\n",
        "\n",
        "    plt.axis(False)\n",
        "plt.tight_layout()\n",
        "plt.show()"
      ]
    },
    {
      "cell_type": "markdown",
      "metadata": {
        "id": "qQwzqlBWxrpG"
      },
      "source": [
        "## 9. \u041f\u043e\u0431\u0443\u0434\u0443\u0439\u0442\u0435 \u043c\u0430\u0442\u0440\u0438\u0446\u044e \u043f\u043b\u0443\u0442\u0430\u043d\u0438\u043d\u0438, \u043f\u043e\u0440\u0456\u0432\u043d\u044e\u044e\u0447\u0438 \u043f\u0435\u0440\u0435\u0434\u0431\u0430\u0447\u0435\u043d\u043d\u044f \u0432\u0430\u0448\u043e\u0457 \u043c\u043e\u0434\u0435\u043b\u0456 \u0437 \u0456\u0441\u0442\u0438\u043d\u043d\u0438\u043c\u0438 \u043c\u0456\u0442\u043a\u0430\u043c\u0438."
      ]
    },
    {
      "cell_type": "code",
      "execution_count": 35,
      "metadata": {
        "id": "4ZGSRgodcnJ5"
      },
      "outputs": [],
      "source": [
        "y_preds = []\n",
        "model.eval()\n",
        "with torch.inference_mode():\n",
        "  for X, y in test_dataloader:\n",
        "    X, y = X.to(device), y.to(device)\n",
        "    y_logit = model(X)\n",
        "    y_pred = torch.softmax(y_logit, dim=1).argmax(dim=1)\n",
        "    y_preds.append(y_pred.cpu())\n",
        "y_pred_tensor = torch.cat(y_preds)"
      ]
    },
    {
      "cell_type": "code",
      "execution_count": 43,
      "metadata": {
        "colab": {
          "base_uri": "https://localhost:8080/",
          "height": 467
        },
        "id": "INOrCANWbaEk",
        "outputId": "94d24da1-69d9-4861-e8ad-c29cd892a541"
      },
      "outputs": [
        {
          "data": {
            "image/png": "[encoded data removed]",
            "text/plain": [
              "<Figure size 700x500 with 1 Axes>"
            ]
          },
          "metadata": {},
          "output_type": "display_data"
        }
      ],
      "source": [
        "confmat = ConfusionMatrix(num_classes=len(class_names), task='multiclass')\n",
        "confmat_tensor = confmat(preds=y_pred_tensor,\n",
        "                         target=test_data.targets)\n",
        "\n",
        "fig, ax = plot_confusion_matrix(\n",
        "    conf_mat = confmat_tensor.numpy(),\n",
        "    class_names=np.arange(0, 10, 1).tolist(),\n",
        "    figsize=(7, 5)\n",
        ")\n",
        "plt.show()"
      ]
    },
    {
      "cell_type": "markdown",
      "metadata": {
        "id": "VHS20cNTxwSi"
      },
      "source": [
        "## 10. \u0412\u0438\u0432\u0435\u0434\u0456\u0442\u044c \u043f\u0440\u0438\u043d\u0430\u0439\u043c\u043d\u0456 9 \u043f\u0440\u0438\u043a\u043b\u0430\u0434\u0456\u0432, \u0434\u0435 \u043c\u043e\u0434\u0435\u043b\u044c \u043f\u043e\u043c\u0438\u043b\u044f\u0454\u0442\u044c\u0441\u044f, \u0440\u0430\u0437\u043e\u043c \u0437 \u0442\u0438\u043c, \u044f\u043a\u043e\u044e \u043c\u0430\u043b\u0430 \u0431\u0443\u0442\u0438 \u043c\u0456\u0442\u043a\u0430 \u0437\u043e\u0431\u0440\u0430\u0436\u0435\u043d\u043d\u044f.\n",
        "* \u041f\u0456\u0441\u043b\u044f \u0432\u0456\u0437\u0443\u0430\u043b\u0456\u0437\u0430\u0446\u0456\u0457 \u0446\u0438\u0445 \u043f\u0440\u043e\u0433\u043d\u043e\u0437\u0456\u0432, \u044f\u043a \u0432\u0438 \u0434\u0443\u043c\u0430\u0454\u0442\u0435, \u0446\u0435 \u0431\u0456\u043b\u044c\u0448\u0435 \u043f\u043e\u043c\u0438\u043b\u043a\u0430 \u043c\u043e\u0434\u0435\u043b\u044e\u0432\u0430\u043d\u043d\u044f \u0447\u0438 \u043f\u043e\u043c\u0438\u043b\u043a\u0430 \u0434\u0430\u043d\u0438\u0445?\n",
        "* \u0422\u043e\u0431\u0442\u043e, \u0447\u0438 \u043c\u043e\u0436\u0435 \u043c\u043e\u0434\u0435\u043b\u044c \u043f\u0440\u0430\u0446\u044e\u0432\u0430\u0442\u0438 \u043a\u0440\u0430\u0449\u0435, \u0447\u0438 \u043c\u0456\u0442\u043a\u0438 \u0434\u0430\u043d\u0438\u0445 \u0437\u0430\u043d\u0430\u0434\u0442\u043e \u0431\u043b\u0438\u0437\u044c\u043a\u0456 \u043e\u0434\u043d\u0430 \u0434\u043e \u043e\u0434\u043d\u043e\u0457, \u0449\u043e \u043d\u0430\u0432\u0456\u0442\u044c \u043b\u044e\u0434\u0438\u043d\u0430 \u043d\u0435 \u043c\u043e\u0436\u0435 \u0447\u0456\u0442\u043a\u043e \u0440\u043e\u0437\u0440\u0456\u0437\u043d\u0438\u0442\u0438 \u0449\u043e \u0446\u0435 \u0437\u0430 \u0446\u0438\u0444\u0440\u0430?"
      ]
    },
    {
      "cell_type": "code",
      "execution_count": 50,
      "metadata": {
        "colab": {
          "base_uri": "https://localhost:8080/"
        },
        "id": "XBd0mpQ9iV6u",
        "outputId": "7630e415-394f-4eae-f0dc-b4b31b27a5ba"
      },
      "outputs": [
        {
          "data": {
            "text/plain": [
              "137"
            ]
          },
          "execution_count": 50,
          "metadata": {},
          "output_type": "execute_result"
        }
      ],
      "source": [
        "wrong_idx = (y_pred_tensor != test_data.targets).nonzero()[:, 0]\n",
        "len(wrong_idx)"
      ]
    },
    {
      "cell_type": "code",
      "execution_count": 57,
      "metadata": {
        "colab": {
          "base_uri": "https://localhost:8080/",
          "height": 407
        },
        "id": "7Kf29kwwi_4g",
        "outputId": "9ef75167-65ea-4640-9a5e-62b2f14f254c"
      },
      "outputs": [
        {
          "data": {
            "image/png": "[encoded data removed]",
            "text/plain": [
              "<Figure size 500x400 with 9 Axes>"
            ]
          },
          "metadata": {},
          "output_type": "display_data"
        }
      ],
      "source": [
        "random.seed(7)\n",
        "\n",
        "fig = plt.figure(figsize=(5, 4))\n",
        "rows, cols = 3, 3\n",
        "for i, idx in enumerate(random.sample(list(wrong_idx), k=rows*cols)):\n",
        "    sample, label = test_data.data[idx], test_data.targets[idx]\n",
        "    fig.add_subplot(rows, cols, i+1)\n",
        "    plt.imshow(sample.squeeze(), cmap='gray')\n",
        "    pred_label = y_pred_tensor[idx]\n",
        "    title_text = f\"Prediction: {pred_label} | Actual: {label}\"\n",
        "    plt.title(title_text, fontsize=9, c='r')\n",
        "\n",
        "    plt.axis(False)\n",
        "plt.tight_layout()\n",
        "plt.show()"
      ]
    },
    {
      "cell_type": "markdown",
      "metadata": {
        "id": "2LKdKiNDkfYO"
      },
      "source": [
        "The most of misclassified examples are really hard to get wright prediction even for people (7/8, 4/9, 0/2)."
      ]
    },
    {
      "cell_type": "markdown",
      "metadata": {
        "id": "lj6bDhoWxt2y"
      },
      "source": [
        "## 11. \u0421\u0442\u0432\u043e\u0440\u0456\u0442\u044c \u0432\u0438\u043f\u0430\u0434\u043a\u043e\u0432\u0438\u0439 \u0442\u0435\u043d\u0437\u043e\u0440 \u0444\u043e\u0440\u043c\u0438 `[1, 3, 64, 64]` \u0456 \u043f\u0440\u043e\u043f\u0443\u0441\u0442\u0456\u0442\u044c \u0439\u043e\u0433\u043e \u0447\u0435\u0440\u0435\u0437 \u0448\u0430\u0440 `nn.Conv2d()` \u0437 \u0440\u0456\u0437\u043d\u0438\u043c\u0438 \u043d\u0430\u043b\u0430\u0448\u0442\u0443\u0432\u0430\u043d\u043d\u044f\u043c\u0438 \u0433\u0456\u043f\u0435\u0440\u043f\u0430\u0440\u0430\u043c\u0435\u0442\u0440\u0456\u0432 (\u0432\u0438 \u043c\u043e\u0436\u0435\u0442\u0435 \u0432\u0438\u0431\u0440\u0430\u0442\u0438 \u0431\u0443\u0434\u044c-\u044f\u043a\u0456 \u043d\u0430\u043b\u0430\u0448\u0442\u0443\u0432\u0430\u043d\u043d\u044f), \u0449\u043e \u0432\u0438 \u043f\u043e\u043c\u0456\u0447\u0430\u0454\u0442\u0435, \u044f\u043a\u0449\u043e \u043f\u0430\u0440\u0430\u043c\u0435\u0442\u0440 `kernel_size` \u0437\u0431\u0456\u043b\u044c\u0448\u0443\u0454\u0442\u044c\u0441\u044f \u0430\u0431\u043e \u0437\u043c\u0435\u043d\u0448\u0443\u0454\u0442\u044c\u0441\u044f?"
      ]
    },
    {
      "cell_type": "code",
      "execution_count": 71,
      "metadata": {
        "colab": {
          "base_uri": "https://localhost:8080/"
        },
        "id": "NkiKGBcg726f",
        "outputId": "3227bd3a-ed9c-4cd6-bcc3-0d3db338b58b"
      },
      "outputs": [
        {
          "data": {
            "text/plain": [
              "torch.Size([1, 3, 64, 64])"
            ]
          },
          "execution_count": 71,
          "metadata": {},
          "output_type": "execute_result"
        }
      ],
      "source": [
        "torch.manual_seed(7)\n",
        "\n",
        "test_image = torch.randn(size=(1, 3, 64, 64))\n",
        "test_image.shape"
      ]
    },
    {
      "cell_type": "code",
      "execution_count": 72,
      "metadata": {
        "colab": {
          "base_uri": "https://localhost:8080/"
        },
        "id": "ZDVP68mJrwkt",
        "outputId": "b8e437b7-1b49-46c9-b430-5daee71c95d1"
      },
      "outputs": [
        {
          "data": {
            "text/plain": [
              "torch.Size([1, 6, 62, 62])"
            ]
          },
          "execution_count": 72,
          "metadata": {},
          "output_type": "execute_result"
        }
      ],
      "source": [
        "conv_layer = nn.Conv2d(in_channels=3,\n",
        "                       out_channels=6,\n",
        "                       kernel_size=3,\n",
        "                       padding=0)\n",
        "\n",
        "conv_layer(test_image).shape"
      ]
    },
    {
      "cell_type": "code",
      "execution_count": 73,
      "metadata": {
        "colab": {
          "base_uri": "https://localhost:8080/"
        },
        "id": "lsQz5OzIsmNU",
        "outputId": "b0da6f69-bc57-470a-8a0b-f9907154f590"
      },
      "outputs": [
        {
          "data": {
            "text/plain": [
              "torch.Size([1, 6, 64, 64])"
            ]
          },
          "execution_count": 73,
          "metadata": {},
          "output_type": "execute_result"
        }
      ],
      "source": [
        "test_image = torch.randn(size=(1, 3, 64, 64))\n",
        "conv_layer = nn.Conv2d(in_channels=3,\n",
        "                       out_channels=6,\n",
        "                       kernel_size=3,\n",
        "                       padding='same')\n",
        "\n",
        "conv_layer(test_image).shape"
      ]
    },
    {
      "cell_type": "code",
      "execution_count": 74,
      "metadata": {
        "colab": {
          "base_uri": "https://localhost:8080/"
        },
        "id": "HOhxEmKmsvj2",
        "outputId": "d7ecb942-6cdf-4e1d-df63-38615af9c2d8"
      },
      "outputs": [
        {
          "data": {
            "text/plain": [
              "torch.Size([1, 6, 63, 63])"
            ]
          },
          "execution_count": 74,
          "metadata": {},
          "output_type": "execute_result"
        }
      ],
      "source": [
        "conv_layer = nn.Conv2d(in_channels=3,\n",
        "                       out_channels=6,\n",
        "                       kernel_size=2,\n",
        "                       padding=0)\n",
        "\n",
        "conv_layer(test_image).shape"
      ]
    },
    {
      "cell_type": "code",
      "execution_count": 78,
      "metadata": {
        "colab": {
          "base_uri": "https://localhost:8080/"
        },
        "id": "sptLbGzPs68O",
        "outputId": "9da2d724-d6e0-407e-cd8d-f49e7bb11bbf"
      },
      "outputs": [
        {
          "data": {
            "text/plain": [
              "torch.Size([1, 6, 64, 64])"
            ]
          },
          "execution_count": 78,
          "metadata": {},
          "output_type": "execute_result"
        }
      ],
      "source": [
        "conv_layer = nn.Conv2d(in_channels=3,\n",
        "                       out_channels=6,\n",
        "                       kernel_size=5,\n",
        "                       padding=2)\n",
        "\n",
        "conv_layer(test_image).shape"
      ]
    },
    {
      "cell_type": "code",
      "execution_count": 77,
      "metadata": {
        "colab": {
          "base_uri": "https://localhost:8080/"
        },
        "id": "N_awKW-6s3NT",
        "outputId": "9c57c95c-fc84-4a26-c41e-54ba1f550e4c"
      },
      "outputs": [
        {
          "data": {
            "text/plain": [
              "torch.Size([1, 6, 60, 60])"
            ]
          },
          "execution_count": 77,
          "metadata": {},
          "output_type": "execute_result"
        }
      ],
      "source": [
        "conv_layer = nn.Conv2d(in_channels=3,\n",
        "                       out_channels=6,\n",
        "                       kernel_size=5,\n",
        "                       padding=0)\n",
        "\n",
        "conv_layer(test_image).shape"
      ]
    },
    {
      "cell_type": "code",
      "execution_count": 87,
      "metadata": {
        "colab": {
          "base_uri": "https://localhost:8080/"
        },
        "id": "mpMPOogRtNyu",
        "outputId": "fbaed1b1-7274-4a8d-851e-7b4495a41cb8"
      },
      "outputs": [
        {
          "data": {
            "text/plain": [
              "torch.Size([1, 6, 58, 58])"
            ]
          },
          "execution_count": 87,
          "metadata": {},
          "output_type": "execute_result"
        }
      ],
      "source": [
        "conv_layer = nn.Conv2d(in_channels=3,\n",
        "                       out_channels=6,\n",
        "                       kernel_size=7,\n",
        "                       padding=0)\n",
        "\n",
        "conv_layer(test_image).shape"
      ]
    },
    {
      "cell_type": "code",
      "execution_count": 88,
      "metadata": {
        "colab": {
          "base_uri": "https://localhost:8080/"
        },
        "id": "FDG2bKeItRmu",
        "outputId": "c0a15455-45de-470c-b52e-c02e457cd068"
      },
      "outputs": [
        {
          "data": {
            "text/plain": [
              "torch.Size([1, 6, 58, 58])"
            ]
          },
          "execution_count": 88,
          "metadata": {},
          "output_type": "execute_result"
        }
      ],
      "source": [
        "conv_layer = nn.Conv2d(in_channels=3,\n",
        "                       out_channels=6,\n",
        "                       kernel_size=7,\n",
        "                       padding='valid')\n",
        "\n",
        "conv_layer(test_image).shape"
      ]
    },
    {
      "cell_type": "code",
      "execution_count": 89,
      "metadata": {
        "colab": {
          "base_uri": "https://localhost:8080/"
        },
        "id": "1KPjMOYLtdbC",
        "outputId": "1378e56c-3124-41cc-abc7-ac4ffc4e204c"
      },
      "outputs": [
        {
          "data": {
            "text/plain": [
              "torch.Size([1, 6, 58, 58])"
            ]
          },
          "execution_count": 89,
          "metadata": {},
          "output_type": "execute_result"
        }
      ],
      "source": [
        "conv_layer = nn.Conv2d(in_channels=3,\n",
        "                       out_channels=6,\n",
        "                       kernel_size=7)\n",
        "\n",
        "conv_layer(test_image).shape"
      ]
    },
    {
      "cell_type": "code",
      "execution_count": 97,
      "metadata": {
        "colab": {
          "base_uri": "https://localhost:8080/"
        },
        "id": "54axBKhUt0ff",
        "outputId": "6657ed57-190b-49b3-96e4-f86e80a8701e"
      },
      "outputs": [
        {
          "data": {
            "text/plain": [
              "torch.Size([1, 6, 64, 64])"
            ]
          },
          "execution_count": 97,
          "metadata": {},
          "output_type": "execute_result"
        }
      ],
      "source": [
        "conv_layer = nn.Conv2d(in_channels=3,\n",
        "                       out_channels=6,\n",
        "                       kernel_size=4,\n",
        "                       stride=1,\n",
        "                       padding='same')\n",
        "\n",
        "conv_layer(test_image).shape"
      ]
    },
    {
      "cell_type": "code",
      "execution_count": 100,
      "metadata": {
        "colab": {
          "base_uri": "https://localhost:8080/"
        },
        "id": "pmXp_R8wuH0Y",
        "outputId": "5b466db6-b305-44dc-9c55-6957181cc475"
      },
      "outputs": [
        {
          "data": {
            "text/plain": [
              "torch.Size([1, 6, 31, 31])"
            ]
          },
          "execution_count": 100,
          "metadata": {},
          "output_type": "execute_result"
        }
      ],
      "source": [
        "conv_layer = nn.Conv2d(in_channels=3,\n",
        "                       out_channels=6,\n",
        "                       kernel_size=4,\n",
        "                       stride=2)\n",
        "\n",
        "conv_layer(test_image).shape"
      ]
    },
    {
      "cell_type": "code",
      "execution_count": 99,
      "metadata": {
        "colab": {
          "base_uri": "https://localhost:8080/"
        },
        "id": "2Ksj939ctvMp",
        "outputId": "6d9cb50b-c564-42ae-a291-d91ff8201638"
      },
      "outputs": [
        {
          "data": {
            "text/plain": [
              "torch.Size([1, 6, 33, 33])"
            ]
          },
          "execution_count": 99,
          "metadata": {},
          "output_type": "execute_result"
        }
      ],
      "source": [
        "conv_layer = nn.Conv2d(in_channels=3,\n",
        "                       out_channels=6,\n",
        "                       kernel_size=4,\n",
        "                       stride=2,\n",
        "                       padding=2)\n",
        "\n",
        "conv_layer(test_image).shape"
      ]
    },
    {
      "cell_type": "code",
      "execution_count": 92,
      "metadata": {
        "colab": {
          "base_uri": "https://localhost:8080/"
        },
        "id": "Fj5kmU1rtnV1",
        "outputId": "e79de608-b696-49e3-de23-4c9402310a4a"
      },
      "outputs": [
        {
          "data": {
            "text/plain": [
              "torch.Size([1, 6, 21, 21])"
            ]
          },
          "execution_count": 92,
          "metadata": {},
          "output_type": "execute_result"
        }
      ],
      "source": [
        "conv_layer = nn.Conv2d(in_channels=3,\n",
        "                       out_channels=6,\n",
        "                       kernel_size=4,\n",
        "                       stride=3)\n",
        "\n",
        "conv_layer(test_image).shape"
      ]
    },
    {
      "cell_type": "markdown",
      "metadata": {
        "id": "1yiwAjmuuN2h"
      },
      "source": [
        "In convolutional operations, increasing the kernel size reduces the output image dimensions, while decreasing the kernel size results in a larger output shape."
      ]
    }
  ],
  "metadata": {
    "colab": {
      "provenance": []
    },
    "kernelspec": {
      "display_name": "py312",
      "language": "python",
      "name": "python3"
    },
    "language_info": {
      "codemirror_mode": {
        "name": "ipython",
        "version": 3
      },
      "file_extension": ".py",
      "mimetype": "text/x-python",
      "name": "python",
      "nbconvert_exporter": "python",
      "pygments_lexer": "ipython3",
      "version": "3.12.7"
    }
  },
  "nbformat": 4,
  "nbformat_minor": 0
}