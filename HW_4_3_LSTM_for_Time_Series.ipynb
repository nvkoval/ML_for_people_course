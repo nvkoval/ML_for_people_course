{
  "cells": [
    {
      "cell_type": "markdown",
      "metadata": {
        "id": "QVNVsLwJvV9S"
      },
      "source": [
        "Давайте подивимося, як LSTM можна використовувати для побудови нейронної мережі прогнозування часових рядів.\n",
        "\n",
        "Будемо працювати з задачею прогнозування кількості пасажирів міжнародних авіаліній. З цим набором даних ми вже працювали в лекції \"Time Series Analysis\" і ви зможете порівняти результати :)\n",
        "\n",
        "Задача полягає в тому, щоб за заданими роком і місяцем передбачити кількість пасажирів міжнародних авіаліній в одиницях виміру 1,000. Дані охоплюють період з січня 1949 року по грудень 1960 року, тобто 12 років, зі 144 спостереженнями.\n",
        "\n",
        "Це регресійна задача. Тобто, знаючи кількість пасажирів (в тисячах) за останні місяці, можна передбачити, якою буде кількість пасажирів у наступному місяці. Набір даних має лише одну характеристику: \"Кількість пасажирів\" - `Passengers`.\n",
        "\n",
        "Далі вже наведений код для читання даних, але нам їх ще треба буде трошки обробити."
      ]
    },
    {
      "cell_type": "markdown",
      "metadata": {
        "id": "yuYDM2Xi3IAL"
      },
      "source": [
        "### Imports"
      ]
    },
    {
      "cell_type": "code",
      "execution_count": 1,
      "metadata": {
        "id": "uSW56L5Fti3n"
      },
      "outputs": [],
      "source": [
        "import pandas as pd\n",
        "import numpy as np\n",
        "import matplotlib.pyplot as plt\n",
        "import torch\n",
        "import torch.nn as nn\n",
        "import torch.nn.functional as F\n",
        "\n",
        "from torch.utils.data import TensorDataset, DataLoader"
      ]
    },
    {
      "cell_type": "markdown",
      "metadata": {
        "id": "9m9XHy3t3LCa"
      },
      "source": [
        "### Load the data"
      ]
    },
    {
      "cell_type": "code",
      "execution_count": 2,
      "metadata": {
        "colab": {
          "base_uri": "https://localhost:8080/",
          "height": 238
        },
        "id": "hw3dGYsyluYm",
        "outputId": "6d5ae926-a41f-4011-b14a-bd2fc0e5f234"
      },
      "outputs": [
        {
          "data": {
            "text/html": [
              "<div>\n",
              "<style scoped>\n",
              "    .dataframe tbody tr th:only-of-type {\n",
              "        vertical-align: middle;\n",
              "    }\n",
              "\n",
              "    .dataframe tbody tr th {\n",
              "        vertical-align: top;\n",
              "    }\n",
              "\n",
              "    .dataframe thead th {\n",
              "        text-align: right;\n",
              "    }\n",
              "</style>\n",
              "<table border=\"1\" class=\"dataframe\">\n",
              "  <thead>\n",
              "    <tr style=\"text-align: right;\">\n",
              "      <th></th>\n",
              "      <th>Passengers</th>\n",
              "    </tr>\n",
              "    <tr>\n",
              "      <th>Month</th>\n",
              "      <th></th>\n",
              "    </tr>\n",
              "  </thead>\n",
              "  <tbody>\n",
              "    <tr>\n",
              "      <th>1949-01</th>\n",
              "      <td>112</td>\n",
              "    </tr>\n",
              "    <tr>\n",
              "      <th>1949-02</th>\n",
              "      <td>118</td>\n",
              "    </tr>\n",
              "    <tr>\n",
              "      <th>1949-03</th>\n",
              "      <td>132</td>\n",
              "    </tr>\n",
              "    <tr>\n",
              "      <th>1949-04</th>\n",
              "      <td>129</td>\n",
              "    </tr>\n",
              "    <tr>\n",
              "      <th>1949-05</th>\n",
              "      <td>121</td>\n",
              "    </tr>\n",
              "  </tbody>\n",
              "</table>\n",
              "</div>"
            ],
            "text/plain": [
              "         Passengers\n",
              "Month              \n",
              "1949-01         112\n",
              "1949-02         118\n",
              "1949-03         132\n",
              "1949-04         129\n",
              "1949-05         121"
            ]
          },
          "metadata": {},
          "output_type": "display_data"
        }
      ],
      "source": [
        "# Завантаження даних\n",
        "url = \"https://raw.githubusercontent.com/jbrownlee/Datasets/master/airline-passengers.csv\"\n",
        "df = pd.read_csv(url)\n",
        "df.set_index('Month', inplace=True)\n",
        "display(df.head())"
      ]
    },
    {
      "cell_type": "markdown",
      "metadata": {
        "id": "BCcNvF28wSH3"
      },
      "source": [
        "### **Завдання 1.**\n",
        "Створіть змінну типу `numpy.ndarray`, яка містить значення кількості пасажирів в форматі `float32`. Такий формат даних нам треба для тренування нейромережі."
      ]
    },
    {
      "cell_type": "code",
      "execution_count": 3,
      "metadata": {
        "colab": {
          "base_uri": "https://localhost:8080/"
        },
        "id": "7PcJkPAoBOH5",
        "outputId": "44e73a92-24e9-4d8b-922d-ef233c351409"
      },
      "outputs": [
        {
          "data": {
            "text/plain": [
              "array([[112.],\n",
              "       [118.],\n",
              "       [132.],\n",
              "       [129.],\n",
              "       [121.]], dtype=float32)"
            ]
          },
          "execution_count": 3,
          "metadata": {},
          "output_type": "execute_result"
        }
      ],
      "source": [
        "num_pessengers = df.values.astype(np.float32)\n",
        "num_pessengers[:5]"
      ]
    },
    {
      "cell_type": "markdown",
      "metadata": {
        "id": "Vms2Pxp1xCrB"
      },
      "source": [
        "Очікуваний результат:\n",
        "```array([112., 118., 132., 129., 121.], dtype=float32)```"
      ]
    },
    {
      "cell_type": "markdown",
      "metadata": {
        "id": "vESTxq-OxLRK"
      },
      "source": [
        "### **Завдання 2**. train, test\n",
        "Розбийте дані на тренувальні і валідаційні у співвідношенні 67% йде у тренування, 33 - у валідацію. Памʼятаємо, що ми працюємо з tim series, відповідно, навчаємось на давніших, валідуємось - на новіших."
      ]
    },
    {
      "cell_type": "code",
      "execution_count": 4,
      "metadata": {
        "colab": {
          "base_uri": "https://localhost:8080/"
        },
        "id": "LeRjGvqZrnvx",
        "outputId": "f22970ca-e13e-451a-93f9-574138f8061c"
      },
      "outputs": [
        {
          "data": {
            "text/plain": [
              "48"
            ]
          },
          "execution_count": 4,
          "metadata": {},
          "output_type": "execute_result"
        }
      ],
      "source": [
        "split_idx = int((len(num_pessengers)/3))\n",
        "split_idx"
      ]
    },
    {
      "cell_type": "code",
      "execution_count": 5,
      "metadata": {
        "id": "hcvM9ucvrQbw"
      },
      "outputs": [],
      "source": [
        "train = num_pessengers[:-split_idx]\n",
        "test = num_pessengers[-split_idx:]"
      ]
    },
    {
      "cell_type": "code",
      "execution_count": 6,
      "metadata": {
        "colab": {
          "base_uri": "https://localhost:8080/"
        },
        "id": "USpGte_tBPR1",
        "outputId": "120b00b5-af95-4201-8309-4290ee7dd9e5"
      },
      "outputs": [
        {
          "name": "stdout",
          "output_type": "stream",
          "text": [
            "train: 96\n",
            "test: 48\n"
          ]
        }
      ],
      "source": [
        "print(\"train:\", len(train))\n",
        "print(\"test:\", len(test))"
      ]
    },
    {
      "cell_type": "markdown",
      "metadata": {
        "id": "YB-e-vEDx3bn"
      },
      "source": [
        "### **Завдання 3**. create_dataset\n",
        "\n",
        "Реалізуйте функцію `create_dataset`, яка перетворить одномірний часовий ряд (набір даних) у формат, придатний для тренування нейромережі.\n",
        "\n",
        "Функція повинна приймати два аргументи:\n",
        "- `dataset` — numpy-масив часового ряду,\n",
        "- `lookback` — кількість попередніх кроків, які використовуватимуться для передбачення.\n",
        "\n",
        "Функція повинна повернути два **тензори** PyTorch:\n",
        "- `X` — набір ознак (вікно попередніх значень),\n",
        "- `y` — цільові значення (наступні після вікна кроки).\n",
        "\n",
        "Дані ми будемо подавати моделі в наступному форматі:\n",
        "`\n",
        "tensor([[112.],\n",
        "        [118.],\n",
        "        [132.],\n",
        "        [129.],\n",
        "        [121.]])\n",
        "`\n",
        "Відповідно першою розмірністю буде йти розмір вхідного батча, а другою - розмір вхідних даних і в нас це 1, бо лише одне значення на вході щоразу.\n",
        "\n",
        "Після виконання завдання запустіть код нижче. Ми будемо передбачати на основі кількості пасажирів в попередній день кількість пасажирів в наступний, тому `lookback == 1`."
      ]
    },
    {
      "cell_type": "code",
      "execution_count": 7,
      "metadata": {
        "id": "s5UXOiAHBVwe"
      },
      "outputs": [],
      "source": [
        "def create_dataset(dataset, lookback):\n",
        "    X = torch.from_numpy(dataset[:-lookback])\n",
        "    y = torch.from_numpy(dataset[lookback:])\n",
        "    return X, y"
      ]
    },
    {
      "cell_type": "code",
      "execution_count": 8,
      "metadata": {
        "colab": {
          "base_uri": "https://localhost:8080/"
        },
        "id": "dA8FwOfwuPyl",
        "outputId": "750af796-40d7-410b-ebec-ba4ac9e0de36"
      },
      "outputs": [
        {
          "name": "stdout",
          "output_type": "stream",
          "text": [
            "torch.Size([95, 1]) torch.Size([95, 1])\n",
            "torch.Size([47, 1]) torch.Size([47, 1])\n"
          ]
        }
      ],
      "source": [
        "lookback = 1\n",
        "X_train, y_train = create_dataset(train, lookback=lookback)\n",
        "X_test, y_test = create_dataset(test, lookback=lookback)\n",
        "print(X_train.shape, y_train.shape)\n",
        "print(X_test.shape, y_test.shape)"
      ]
    },
    {
      "cell_type": "markdown",
      "metadata": {
        "id": "dvEA-D-SzcWf"
      },
      "source": [
        "Очікуваний результат:\n",
        "```\n",
        "torch.Size([95, 1]) torch.Size([95, 1])\n",
        "torch.Size([47, 1]) torch.Size([47, 1])\n",
        "```"
      ]
    },
    {
      "cell_type": "markdown",
      "metadata": {
        "id": "eeiFJ-jDznj5"
      },
      "source": [
        "### **Завдання 4**. AirModel\n",
        "\n",
        "Зверніть увагу на розмірності в попередньому завданні.\n",
        "За допомогою модуля `torch.nn` опишіть клас `AirModel`, який є нейронною мережею для прогнозування кількості пасажирів за допомогою LSTM.\n",
        "\n",
        "1. **Конструктор класу** повинен приймати параметри `hidden_size`, `num_layers` та ініціювати шари:\n",
        "   - LSTM-шар з наступними параметрами:\n",
        "     - `input_size` — кожна точка часового ряду є окремим входом,,\n",
        "     - `hidden_size` — заданий в конструкторі класу мережі,\n",
        "     - `num_layers=1` — кількість шарів LSTM, задана в конструкторі мережі,\n",
        "     - `batch_first=True` — визначає, що першим виміром є розмір батчу.\n",
        "   - Лінійний шар (`nn.Linear`) для перетворення виходу LSTM на прогноз однієї точки.\n",
        "\n",
        "2. **Метод forward** повинен виконувати наступні дії:\n",
        "   - Передати вхідний тензор через LSTM-шар і отримати виходи (ігноруючи приховані стани).\n",
        "   - Пропустити вихід LSTM через лінійний шар для отримання остаточного прогнозу.\n",
        "\n",
        "Створіть об'єкт класу `AirModel` зі значеннями параметрів `hidden_size=50`, `num_layers=1` і протестуйте роботу моделі на вхідному тензорі `tensor([[112.]])`. На цьому етапі ми маємо переконатись, що модель здатна генерувати передбачення з рандомно ініційованими вагами."
      ]
    },
    {
      "cell_type": "code",
      "execution_count": 9,
      "metadata": {
        "id": "dcafrsmrDHsz"
      },
      "outputs": [],
      "source": [
        "class AirModel(nn.Module):\n",
        "    def __init__(self, hidden_size, num_layers):\n",
        "        super().__init__()\n",
        "        self.hidden_size = hidden_size\n",
        "        self.num_layers = num_layers\n",
        "\n",
        "        self.lstm = nn.LSTM(input_size=lookback, hidden_size=hidden_size, num_layers=num_layers, batch_first=True)\n",
        "\n",
        "        self.fc = nn.Linear(hidden_size, out_features=1)\n",
        "\n",
        "    def forward(self, x):\n",
        "        out, _ = self.lstm(x)\n",
        "        out = self.fc(out)\n",
        "        return out"
      ]
    },
    {
      "cell_type": "code",
      "execution_count": 10,
      "metadata": {
        "colab": {
          "base_uri": "https://localhost:8080/"
        },
        "id": "coZIM_vt0VaY",
        "outputId": "ceae11d5-e44a-4d1b-8250-8e8cda8c906a"
      },
      "outputs": [
        {
          "data": {
            "text/plain": [
              "AirModel(\n",
              "  (lstm): LSTM(1, 50, batch_first=True)\n",
              "  (fc): Linear(in_features=50, out_features=1, bias=True)\n",
              ")"
            ]
          },
          "execution_count": 10,
          "metadata": {},
          "output_type": "execute_result"
        }
      ],
      "source": [
        "hidden_size = 50\n",
        "num_layers = 1\n",
        "\n",
        "model = AirModel(hidden_size, num_layers)\n",
        "model"
      ]
    },
    {
      "cell_type": "code",
      "execution_count": 11,
      "metadata": {
        "colab": {
          "base_uri": "https://localhost:8080/"
        },
        "id": "z8uM4vWo0-kO",
        "outputId": "82778aa3-d17d-4298-df41-77fe339a0d9b"
      },
      "outputs": [
        {
          "data": {
            "text/plain": [
              "tensor([[-0.0935]], grad_fn=<AddmmBackward0>)"
            ]
          },
          "execution_count": 11,
          "metadata": {},
          "output_type": "execute_result"
        }
      ],
      "source": [
        "model(torch.tensor([[112.]]))"
      ]
    },
    {
      "cell_type": "markdown",
      "metadata": {
        "id": "-R6zv9nu2tWB"
      },
      "source": [
        "### **Завдання 5**. Dataloader\n",
        "\n",
        "Створіть об'єкт DataLoader для завантаження даних, використовуючи тренувальні вибірки `X_train` та `y_train`. Ваш DataLoader повинен виконувати наступні вимоги:\n",
        "\n",
        "1. Використовувати клас `TensorDataset`, щоб об'єднати тензори ознак `X_train` і цільових значень `y_train`.\n",
        "2. Дані повинні завантажуватися невеликими батчами розміром 8 за допомогою параметра `batch_size`.\n",
        "3. Використовувати параметр `shuffle=True`, щоб дані перемішувалися перед кожною епохою тренування.\n"
      ]
    },
    {
      "cell_type": "code",
      "execution_count": 12,
      "metadata": {
        "id": "WKdkptY7DMAc"
      },
      "outputs": [],
      "source": [
        "batch_size = 8\n",
        "\n",
        "train_ds = TensorDataset(X_train, y_train)\n",
        "test_ds = TensorDataset(X_test, y_test)\n",
        "\n",
        "train_dataloader = DataLoader(train_ds, batch_size, shuffle=True)\n",
        "test_dataloader = DataLoader(test_ds, batch_size, shuffle=True)"
      ]
    },
    {
      "cell_type": "markdown",
      "metadata": {
        "id": "6ZaGh7IF2nfT"
      },
      "source": [
        "### **Завдання 6**. Train the AirModel\n",
        "\n",
        "1. Реалізуйте навчання нейронної мережі `AirModel` для прогнозування часових рядів, використовуючи Adam-оптимізатор та функцію втрат MSE (середньоквадратичну похибку).\n",
        "2. Створіть цикл тренування для 2000 епох, у якому на кожній епосі:\n",
        "   - Виконуйте крок тренування моделі (прямий прохід, обчислення похибки, зворотний прохід і оновлення ваг).\n",
        "   - Підраховуйте середню похибку на кожному батчі даних і зберігайте її у списку `losses`.\n",
        "3. Раз на 100 епох проводьте валідацію моделі:\n",
        "   - Перевіряйте модель на тренувальних та тестових даних без оновлення ваг.\n",
        "   - Обчислюйте корінь середньоквадратичної похибки (RMSE) для тренувальної та тестової вибірок і виводьте результати на екран.\n",
        "   \n",
        "**Примітка:**\n",
        "- Використовуйте вже створений `DataLoader` для отримання батчів даних.\n",
        "- Валідацію виконуйте в режимі `eval()`, вимикаючи обчислення градієнтів з `torch.no_grad()`.\n",
        "\n",
        "**Приклад виходу:**\n",
        "```\n",
        "Epoch 0: train RMSE 12.3456, test RMSE 15.6789\n",
        "Epoch 100: train RMSE 9.8765, test RMSE 12.3456\n",
        "...\n",
        "```"
      ]
    },
    {
      "cell_type": "code",
      "execution_count": 13,
      "metadata": {
        "id": "ogWWX8Y0YK_K"
      },
      "outputs": [],
      "source": [
        "num_epochs = 2000"
      ]
    },
    {
      "cell_type": "code",
      "execution_count": 14,
      "metadata": {
        "id": "6ZpJTwyV56Pi"
      },
      "outputs": [],
      "source": [
        "loss_fn = F.mse_loss\n",
        "optimizer = torch.optim.Adam(model.parameters(), lr=0.001)"
      ]
    },
    {
      "cell_type": "code",
      "execution_count": 15,
      "metadata": {
        "id": "uWFRcesVNGmI"
      },
      "outputs": [],
      "source": [
        "def train_eval(num_epochs, model, dataloader, loss_fn, optimizer):\n",
        "    total_losses = []\n",
        "    for epoch in range(num_epochs + 1):\n",
        "        epoch_loss = 0\n",
        "        model.train()\n",
        "\n",
        "        for X, y in dataloader:\n",
        "            # Zero gradients\n",
        "            optimizer.zero_grad()\n",
        "\n",
        "            # Compute the prediction error\n",
        "            pred = model(X)\n",
        "            loss = loss_fn(pred, y)\n",
        "\n",
        "            # Backpropagation\n",
        "            loss.backward()\n",
        "            optimizer.step()\n",
        "\n",
        "            epoch_loss += loss.item()\n",
        "\n",
        "        # Calculate loss\n",
        "        avg_loss = epoch_loss / len(dataloader)\n",
        "        total_losses.append(avg_loss)\n",
        "\n",
        "        if (epoch) % 100 == 0:\n",
        "            model.eval()\n",
        "\n",
        "            with torch.no_grad():\n",
        "                # Compute the prediction error\n",
        "                train_pred = model(X_train)\n",
        "                train_rmse = torch.sqrt(loss_fn(train_pred, y_train))\n",
        "\n",
        "                test_pred = model(X_test)\n",
        "                test_rmse = torch.sqrt(loss_fn(test_pred, y_test))\n",
        "            print(f\"Epoch {epoch}: train RMSE {train_rmse ** 0.5 :.4f}, test RMSE {test_rmse ** 0.5 :.4f}\")\n",
        "\n",
        "    return total_losses"
      ]
    },
    {
      "cell_type": "code",
      "execution_count": 16,
      "metadata": {
        "colab": {
          "base_uri": "https://localhost:8080/"
        },
        "id": "SndIooQ6NMM6",
        "outputId": "3408e16f-8330-4108-f9b0-c7cab479397d"
      },
      "outputs": [
        {
          "name": "stdout",
          "output_type": "stream",
          "text": [
            "Epoch 0: train RMSE 15.0383, test RMSE 20.5566\n",
            "Epoch 100: train RMSE 13.1176, test RMSE 19.1276\n",
            "Epoch 200: train RMSE 11.4891, test RMSE 17.9363\n",
            "Epoch 300: train RMSE 10.0348, test RMSE 16.8333\n",
            "Epoch 400: train RMSE 8.9667, test RMSE 15.8600\n",
            "Epoch 500: train RMSE 7.7449, test RMSE 14.8812\n",
            "Epoch 600: train RMSE 6.7400, test RMSE 13.8601\n",
            "Epoch 700: train RMSE 6.0433, test RMSE 12.9846\n",
            "Epoch 800: train RMSE 5.5844, test RMSE 12.1997\n",
            "Epoch 900: train RMSE 5.2012, test RMSE 11.4963\n",
            "Epoch 1000: train RMSE 5.0434, test RMSE 10.9332\n",
            "Epoch 1100: train RMSE 4.8962, test RMSE 10.4346\n",
            "Epoch 1200: train RMSE 4.8855, test RMSE 10.2590\n",
            "Epoch 1300: train RMSE 4.8375, test RMSE 9.8376\n",
            "Epoch 1400: train RMSE 4.8395, test RMSE 9.6014\n",
            "Epoch 1500: train RMSE 4.7659, test RMSE 9.5764\n",
            "Epoch 1600: train RMSE 4.7792, test RMSE 9.3942\n",
            "Epoch 1700: train RMSE 4.8540, test RMSE 9.2750\n",
            "Epoch 1800: train RMSE 4.7788, test RMSE 9.1298\n",
            "Epoch 1900: train RMSE 4.7842, test RMSE 9.0946\n",
            "Epoch 2000: train RMSE 4.7926, test RMSE 9.0370\n"
          ]
        }
      ],
      "source": [
        "total_losses = train_eval(num_epochs, model, train_dataloader, loss_fn, optimizer)"
      ]
    },
    {
      "cell_type": "code",
      "execution_count": 19,
      "metadata": {
        "colab": {
          "base_uri": "https://localhost:8080/",
          "height": 472
        },
        "id": "CCXJKHPNN_7W",
        "outputId": "53b2707a-8e66-4e72-a982-89dc3608754e"
      },
      "outputs": [
        {
          "data": {
            "image/png": "[encoded data removed]",
            "text/plain": [
              "<Figure size 640x480 with 1 Axes>"
            ]
          },
          "metadata": {},
          "output_type": "display_data"
        }
      ],
      "source": [
        "plt.plot(total_losses)\n",
        "plt.title('Loss over Epochs')\n",
        "plt.xlabel('Epochs')\n",
        "plt.ylabel('Loss')\n",
        "plt.show()"
      ]
    },
    {
      "cell_type": "code",
      "execution_count": null,
      "metadata": {
        "colab": {
          "base_uri": "https://localhost:8080/",
          "height": 430
        },
        "id": "drNtvg_xPX6m",
        "outputId": "91a2155b-f60c-46b6-d5a8-9187955b9929"
      },
      "outputs": [
        {
          "data": {
            "image/png": "[encoded data removed]",
            "text/plain": [
              "<Figure size 640x480 with 1 Axes>"
            ]
          },
          "metadata": {},
          "output_type": "display_data"
        }
      ],
      "source": [
        "with torch.no_grad():\n",
        "    plt.plot(num_pessengers, 'b', label='Actual data')\n",
        "\n",
        "    train_plot = np.ones_like(num_pessengers) * np.nan\n",
        "    train_plot[lookback:len(X_train) + lookback] = model(X_train).numpy()\n",
        "    plt.plot(train_plot, 'g', label='Prediction on train data')\n",
        "\n",
        "    test_plot = np.ones_like(num_pessengers) * np.nan\n",
        "    test_plot[-lookback - len(X_test):-lookback] = model(X_test).numpy()\n",
        "    plt.plot(test_plot, 'r', label='Prediction on test data')\n",
        "    plt.legend()\n",
        "    plt.show()"
      ]
    },
    {
      "cell_type": "markdown",
      "metadata": {
        "id": "ThPyVoatTN92"
      },
      "source": [
        "The model performs well on train data, but worst on test data."
      ]
    }
  ],
  "metadata": {
    "colab": {
      "provenance": []
    },
    "kernelspec": {
      "display_name": "py312",
      "language": "python",
      "name": "python3"
    },
    "language_info": {
      "codemirror_mode": {
        "name": "ipython",
        "version": 3
      },
      "file_extension": ".py",
      "mimetype": "text/x-python",
      "name": "python",
      "nbconvert_exporter": "python",
      "pygments_lexer": "ipython3",
      "version": "3.12.7"
    }
  },
  "nbformat": 4,
  "nbformat_minor": 0
}
