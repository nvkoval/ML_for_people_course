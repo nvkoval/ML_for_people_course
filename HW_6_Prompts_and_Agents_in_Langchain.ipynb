{
  "cells": [
    {
      "cell_type": "markdown",
      "metadata": {},
      "source": [
        "### Imports"
      ]
    },
    {
      "cell_type": "code",
      "execution_count": null,
      "metadata": {},
      "outputs": [],
      "source": [
        "import json\n",
        "import os\n",
        "\n",
        "from huggingface_hub import InferenceClient\n",
        "from langchain import hub\n",
        "from langchain.agents import (AgentExecutor, create_react_agent,\n",
        "                              initialize_agent, AgentType)\n",
        "from langchain_community.tools import DuckDuckGoSearchRun, DuckDuckGoSearchResults\n",
        "from langchain_core.prompts import ChatPromptTemplate\n",
        "from langchain_core.tools import Tool\n",
        "from langchain_experimental.tools import PythonREPLTool\n",
        "from langchain_huggingface import HuggingFaceEndpoint\n",
        "from langchain.prompts import PromptTemplate\n",
        "from langchain_openai import ChatOpenAI\n",
        "from langchain_google_community import GoogleSearchAPIWrapper"
      ]
    },
    {
      "cell_type": "code",
      "execution_count": 29,
      "metadata": {},
      "outputs": [],
      "source": [
        "with open('creds.json') as file:\n",
        "    creds = json.load(file)\n",
        "\n",
        "os.environ[\"OPENAI_API_KEY\"] = creds[\"OPENAI_API_KEY\"]\n",
        "os.environ[\"HF_TOKEN\"] = creds[\"HUGGINGFACEHUB_API_TOKEN\"]\n",
        "os.environ[\"GOOGLE_API_KEY\"] = creds[\"GOOGLE_API_KEY\"]\n",
        "os.environ[\"GOOGLE_CSE_ID\"] = creds[\"GOOGLE_CSE_ID\"]"
      ]
    },
    {
      "cell_type": "markdown",
      "metadata": {
        "id": "RMalK_oYR-X_"
      },
      "source": [
        "\n",
        "### Завдання 1: Виклик LLM з базовим промптом\n",
        "\n",
        "Створіть можливість викликати LLM зі звичайним текстовим промптом.\n",
        "\n",
        "Промпт має дозвляти отримати інформацію простою мовою на певну тему. В цьому завданні ми хочемо дізнатись про тему \"Квантові обчислення\".\n",
        "\n",
        "Відповідь моделі повинна містити визначення, ключові переваги та поточні дослідження в цій галузі.\n",
        "\n",
        "Обмежте відповідь до 200 символів і пропишіть в промпті аби відповідь була короткою (це зекономить Вам час і гроші на згенеровані токени).\n",
        "\n",
        "В якості LLM можна скористатись як моделлю з HugginFace (рекомендую Mistral), так і ChatGPT4 або ChatGPT3. В обох випадках треба імпортувати потрібну \"обгортку\" (тобто клас, який дозволить ініціювати модель) з LangChain для виклику LLM за API, а також зчитати особистий токен з файла, наприклад, `creds.json`, який розміщений у Вас локально і Ви НЕ здаєте його в ДЗ і НЕ комітите в git 😏\n",
        "\n",
        "Встановіть своє значення температури на свій розсуд (тут немає правильного чи неправильного значення) і напишіть, чому ви обрали саме таке значення для цього завдання.  \n",
        "\n",
        "Запити можна робити як українською, так і англійською - орієнтуйтесь на те, де і чи хочете ви потім лишити цей проєкт і відповідна яка мова буде пасувати більше. В розвʼязках промпти - українською."
      ]
    },
    {
      "cell_type": "code",
      "execution_count": 3,
      "metadata": {},
      "outputs": [],
      "source": [
        "overal_temperature = 0.1"
      ]
    },
    {
      "cell_type": "markdown",
      "metadata": {},
      "source": [
        "For this task the responses must be correct and precise. This suggests using a lower  temperature to reduce randomness in the model's output."
      ]
    },
    {
      "cell_type": "code",
      "execution_count": 15,
      "metadata": {},
      "outputs": [
        {
          "name": "stderr",
          "output_type": "stream",
          "text": [
            "Note: Environment variable`HF_TOKEN` is set and is the current active token independently from the token you've just configured.\n"
          ]
        }
      ],
      "source": [
        "mistral = HuggingFaceEndpoint(\n",
        "    repo_id=\"mistralai/Mistral-7B-Instruct-v0.3\",\n",
        "    temperature=overal_temperature,\n",
        "    max_new_tokens=200\n",
        ")"
      ]
    },
    {
      "cell_type": "code",
      "execution_count": null,
      "metadata": {},
      "outputs": [
        {
          "name": "stderr",
          "output_type": "stream",
          "text": [
            "d:\\anaconda3\\envs\\py312\\Lib\\site-packages\\huggingface_hub\\utils\\_deprecation.py:131: FutureWarning: 'post' (from 'huggingface_hub.inference._client') is deprecated and will be removed from version '0.31.0'. Making direct POST requests to the inference server is not supported anymore. Please use task methods instead (e.g. `InferenceClient.chat_completion`). If your use case is not supported, please open an issue in https://github.com/huggingface/huggingface_hub.\n",
            "  warnings.warn(warning_message, FutureWarning)\n"
          ]
        },
        {
          "name": "stdout",
          "output_type": "stream",
          "text": [
            "\n",
            "\n",
            "Quantum computing is a technology that utilizes quantum-mechanical phenomena, such as superposition and entanglement, to perform operations on data. Key benefits include the potential for exponentially faster solutions to certain problems compared to classical computers, and the ability to perform multiple calculations simultaneously. Current research focuses on developing practical quantum algorithms, building scalable quantum hardware, and improving error correction techniques.\n"
          ]
        }
      ],
      "source": [
        "request = (\"Give a definition of quantum computing, key benefits, \"\n",
        "           \"and current research in this field. The answer must be very brief.\")\n",
        "\n",
        "print(mistral.invoke(request))"
      ]
    },
    {
      "cell_type": "markdown",
      "metadata": {},
      "source": [
        "To avoid the **FutureWarning** abour `post` being deprecated, we should use `InferenceClient` instead of `HuggingFaceEndpoint`."
      ]
    },
    {
      "cell_type": "code",
      "execution_count": null,
      "metadata": {},
      "outputs": [
        {
          "name": "stdout",
          "output_type": "stream",
          "text": [
            "Quantum computing is a type of computing that uses quantum-mechanical phenomena, such as superposition and entanglement, to perform operations on data. Key benefits include the potential for significantly faster computation and improved efficiency for certain complex problems, such as factoring large numbers and simulating quantum systems. Current research focuses on developing practical quantum algorithms, building scalable quantum hardware, and improving error correction techniques.\n"
          ]
        }
      ],
      "source": [
        "client = InferenceClient(\n",
        "    provider='hf-inference'\n",
        ")\n",
        "\n",
        "messages = [\n",
        "    {\n",
        "        \"role\": \"user\",\n",
        "        \"content\": (\"Give a definition of quantum computing, key benefits, \"\n",
        "                    \"and current research in this field. \"\n",
        "                    \"The answer must be very brief.\")\n",
        "    }\n",
        "]\n",
        "\n",
        "output = client.chat_completion(\n",
        "    model=\"mistralai/Mistral-7B-Instruct-v0.3\",\n",
        "    messages=messages,\n",
        "    max_tokens=200,\n",
        "    temperature=overal_temperature\n",
        ")\n",
        "\n",
        "print(output.choices[0].message.content)"
      ]
    },
    {
      "cell_type": "markdown",
      "metadata": {
        "id": "UiIzV0UIS0GA"
      },
      "source": [
        "### Завдання 2: Створення параметризованого промпта для генерації тексту\n",
        "Тепер ми хочемо оновити попередній фукнціонал так, аби в промпт ми могли передавати тему як параметр. Для цього скористайтесь `PromptTemplate` з `langchain` і реалізуйте параметризований промпт та виклик моделі з ним.\n",
        "\n",
        "Запустіть оновлений функціонал (промпт + модел) для пояснень про теми\n",
        "- \"Баєсівські методи в машинному навчанні\"\n",
        "- \"Трансформери в машинному навчанні\"\n",
        "- \"Explainable AI\"\n",
        "\n",
        "Виведіть результати відпрацювання моделі на екран."
      ]
    },
    {
      "cell_type": "code",
      "execution_count": null,
      "metadata": {
        "id": "kcg7EfdNcBDq"
      },
      "outputs": [],
      "source": [
        "prompt = PromptTemplate(\n",
        "    input_variables=['theme'],\n",
        "    template=(\"Give a definition of {theme}, key benefits, \"\n",
        "              \"and current research in this field. The answer must be very brief.\")\n",
        ")"
      ]
    },
    {
      "cell_type": "code",
      "execution_count": 23,
      "metadata": {},
      "outputs": [
        {
          "name": "stderr",
          "output_type": "stream",
          "text": [
            "d:\\anaconda3\\envs\\py312\\Lib\\site-packages\\huggingface_hub\\utils\\_deprecation.py:131: FutureWarning: 'post' (from 'huggingface_hub.inference._client') is deprecated and will be removed from version '0.31.0'. Making direct POST requests to the inference server is not supported anymore. Please use task methods instead (e.g. `InferenceClient.chat_completion`). If your use case is not supported, please open an issue in https://github.com/huggingface/huggingface_hub.\n",
            "  warnings.warn(warning_message, FutureWarning)\n"
          ]
        },
        {
          "name": "stdout",
          "output_type": "stream",
          "text": [
            "\n",
            "\n",
            "Bayesian methods in Machine Learning are a set of statistical techniques that update the probability of a hypothesis based on observed data. They use Bayes' theorem to calculate the posterior probability, which represents the updated belief about the hypothesis given the data.\n",
            "\n",
            "Key benefits include:\n",
            "1. Incorporation of prior knowledge: Bayesian methods allow for the use of prior knowledge or beliefs about the problem domain, which can improve model performance.\n",
            "2. Probabilistic predictions: Bayesian methods provide a measure of uncertainty in predictions, which can be useful in decision-making processes.\n",
            "3. Flexibility: Bayesian methods can be applied to a wide range of problems, including classification, regression, and clustering.\n",
            "\n",
            "Current research in this field focuses on developing more efficient algorithms, incorporating complex prior distributions, and applying Bayesian methods to deep learning and other advanced machine learning techniques.\n"
          ]
        },
        {
          "name": "stderr",
          "output_type": "stream",
          "text": [
            "d:\\anaconda3\\envs\\py312\\Lib\\site-packages\\huggingface_hub\\utils\\_deprecation.py:131: FutureWarning: 'post' (from 'huggingface_hub.inference._client') is deprecated and will be removed from version '0.31.0'. Making direct POST requests to the inference server is not supported anymore. Please use task methods instead (e.g. `InferenceClient.chat_completion`). If your use case is not supported, please open an issue in https://github.com/huggingface/huggingface_hub.\n",
            "  warnings.warn(warning_message, FutureWarning)\n"
          ]
        },
        {
          "name": "stdout",
          "output_type": "stream",
          "text": [
            "\n",
            "\n",
            "Transformers in Machine Learning are a type of model architecture that uses self-attention mechanisms to process input data. They are key components in models like BERT and GPT-3, and are known for their ability to handle long-range dependencies in data. Benefits include improved performance on tasks like language modeling and translation, and the ability to capture complex relationships between words. Current research focuses on improving efficiency, reducing training time, and applying Transformers to new domains like computer vision and music.\n"
          ]
        },
        {
          "name": "stderr",
          "output_type": "stream",
          "text": [
            "d:\\anaconda3\\envs\\py312\\Lib\\site-packages\\huggingface_hub\\utils\\_deprecation.py:131: FutureWarning: 'post' (from 'huggingface_hub.inference._client') is deprecated and will be removed from version '0.31.0'. Making direct POST requests to the inference server is not supported anymore. Please use task methods instead (e.g. `InferenceClient.chat_completion`). If your use case is not supported, please open an issue in https://github.com/huggingface/huggingface_hub.\n",
            "  warnings.warn(warning_message, FutureWarning)\n"
          ]
        },
        {
          "name": "stdout",
          "output_type": "stream",
          "text": [
            "\n",
            "\n",
            "Explainable AI (XAI) refers to AI systems that can provide clear, understandable explanations for their decisions. Key benefits include increased trust, transparency, and accountability, as well as the ability to identify and correct biases. Current research focuses on developing methods for generating interpretable models, visualizing complex decision-making processes, and developing standards for evaluating explainability.\n"
          ]
        }
      ],
      "source": [
        "for theme in ['Bayesian methods in Machine Learning',\n",
        "              'Transformers in Machine Learning',\n",
        "              'Explainable AI']:\n",
        "    print(mistral.invoke(prompt.format(theme=theme)))"
      ]
    },
    {
      "cell_type": "code",
      "execution_count": null,
      "metadata": {},
      "outputs": [
        {
          "name": "stdout",
          "output_type": "stream",
          "text": [
            "Bayesian methods in Machine Learning are a set of statistical techniques that update the probability of a hypothesis based on observed data, using Bayes' theorem. They allow for the incorporation of prior knowledge and provide a natural way to handle uncertainty. Key benefits include:\n",
            "\n",
            "1. Incorporation of prior knowledge\n",
            "2. Handling of uncertainty through probabilistic models\n",
            "3. Flexible modeling of complex distributions\n",
            "4. Efficient learning with small data sets\n",
            "\n",
            "Current research in Bayesian methods focuses on:\n",
            "\n",
            "1. Scalable algorithms for large-scale data\n",
            "2. Non-conjugate Bayesian models and approximate inference techniques\n",
            "3. Bayesian optimization for hyperparameter tuning and function optimization\n",
            "4. Bayesian deep learning for complex data analysis.\n",
            "Transformers in Machine Learning are a type of model architecture, introduced in the paper \"Attention is All You Need\" by Vaswani et al. They use self-attention mechanisms to focus on relevant parts of the input sequence for each output element, improving efficiency and performance in tasks like translation and text summarization.\n",
            "\n",
            "Key benefits include:\n",
            "1. Improved performance on long-sequence tasks.\n",
            "2. Parallelizable self-attention mechanism, reducing computational complexity.\n",
            "3. Ability to capture long-range dependencies in data.\n",
            "\n",
            "Current research in this field includes:\n",
            "1. Scaling Transformers for larger datasets (e.g., Megatron, Turing-NLG).\n",
            "2. Incorporating Transformers into other models (e.g., BERT, RoBERTa).\n",
            "3. Exploring Transformer-based models for various tasks, such as question answering, sentiment analysis, and speech\n",
            "Explainable AI (XAI) refers to AI systems that can clearly and concisely explain their decision-making processes to humans. Key benefits include increased trust, transparency, and accountability, as well as the ability to identify and correct biases. Current research focuses on developing methods for generating human-understandable explanations, improving interpretability of complex models, and evaluating the effectiveness of explanations in various applications.\n"
          ]
        }
      ],
      "source": [
        "prompt = (\"Give a definition of {theme}, key benefits, \"\n",
        "          \"and current research in this field. \"\n",
        "          \"The answer must be very brief and keep the concise.\")\n",
        "\n",
        "chat_template = ChatPromptTemplate.from_messages(\n",
        "    [('human', prompt)]\n",
        ")\n",
        "\n",
        "for theme in ['Bayesian methods in Machine Learning',\n",
        "              'Transformers in Machine Learning',\n",
        "              'Explainable AI']:\n",
        "    messages = [\n",
        "        {\"role\": \"user\",\n",
        "         \"content\": chat_template.format_messages(theme=theme)[0].content}\n",
        "    ]\n",
        "    output = client.chat_completion(\n",
        "        model=\"mistralai/Mistral-7B-Instruct-v0.3\",\n",
        "        messages=messages,\n",
        "        max_tokens=200,\n",
        "        temperature=overal_temperature\n",
        "    )\n",
        "\n",
        "    print(output.choices[0].message.content)"
      ]
    },
    {
      "cell_type": "markdown",
      "metadata": {
        "id": "m9UsL2gXSe-3"
      },
      "source": [
        "\n",
        "\n",
        "### Завдання 3: Використання агента для автоматизації процесів\n",
        "Створіть агента, який допоможе автоматично шукати інформацію про останні наукові публікації в різних галузях. Наприклад, агент має знайти 5 останніх публікацій на тему штучного інтелекту.\n",
        "\n",
        "**Кроки:**\n",
        "1. Налаштуйте агента типу ReAct в LangChain для виконання автоматичних запитів.\n",
        "2. Створіть промпт, який спрямовує агента шукати інформацію в інтернеті або в базах даних наукових публікацій.\n",
        "3. Агент повинен видати список публікацій, кожна з яких містить назву, авторів і короткий опис.\n",
        "\n",
        "Для взаємодії з пошуком там необхідно створити `Tool`. В лекції ми використовували `serpapi`. Можна продовжити користуватись ним, або обрати інше АРІ для пошуку (вони в тому числі є безкоштовні). Перелік різних АРІ, доступних в langchain, і орієнтир по вартості запитів можна знайти в окремому документі [тут](https://hannapylieva.notion.site/API-12994835849480a69b2adf2b8441cbb3?pvs=4).\n",
        "\n",
        "Лишаю також нижче приклад використання одного з безкоштовних пошукових АРІ - DuckDuckGo (не потребує створення токена!)  - можливо він вам сподобається :)\n"
      ]
    },
    {
      "cell_type": "markdown",
      "metadata": {},
      "source": [
        "#### `Mistral` and `DuckDuckGoSearchRun`"
      ]
    },
    {
      "cell_type": "code",
      "execution_count": 45,
      "metadata": {},
      "outputs": [
        {
          "name": "stderr",
          "output_type": "stream",
          "text": [
            "Note: Environment variable`HF_TOKEN` is set and is the current active token independently from the token you've just configured.\n"
          ]
        }
      ],
      "source": [
        "llm = HuggingFaceEndpoint(\n",
        "    repo_id=\"mistralai/Mistral-7B-Instruct-v0.3\",\n",
        "    temperature=overal_temperature\n",
        ")"
      ]
    },
    {
      "cell_type": "code",
      "execution_count": 20,
      "metadata": {},
      "outputs": [],
      "source": [
        "search = DuckDuckGoSearchRun()\n",
        "\n",
        "tools = [\n",
        "    Tool(\n",
        "        name=\"Search\",\n",
        "        func=search.run,\n",
        "        description=(\"Useful for searching information in the internet. \"\n",
        "                     \"Use this to search for the latest publications on a given topic.\")\n",
        "    )\n",
        "]"
      ]
    },
    {
      "cell_type": "code",
      "execution_count": 21,
      "metadata": {},
      "outputs": [
        {
          "name": "stderr",
          "output_type": "stream",
          "text": [
            "d:\\anaconda3\\envs\\py312\\Lib\\site-packages\\langsmith\\client.py:277: LangSmithMissingAPIKeyWarning: API key must be provided when using hosted LangSmith API\n",
            "  warnings.warn(\n"
          ]
        }
      ],
      "source": [
        "prompt = hub.pull('hwchase17/react')"
      ]
    },
    {
      "cell_type": "code",
      "execution_count": 42,
      "metadata": {},
      "outputs": [],
      "source": [
        "agent = create_react_agent(llm, tools, prompt, stop_sequence=True)\n",
        "agent_executor = AgentExecutor(agent=agent, tools=tools, verbose=True)"
      ]
    },
    {
      "cell_type": "code",
      "execution_count": null,
      "metadata": {},
      "outputs": [
        {
          "name": "stdout",
          "output_type": "stream",
          "text": [
            "\n",
            "\n",
            "\u001b[1m> Entering new AgentExecutor chain...\u001b[0m\n"
          ]
        },
        {
          "name": "stderr",
          "output_type": "stream",
          "text": [
            "d:\\anaconda3\\envs\\py312\\Lib\\site-packages\\huggingface_hub\\inference\\_client.py:2252: FutureWarning: `stop_sequences` is a deprecated argument for `text_generation` task and will be removed in version '0.28.0'. Use `stop` instead.\n",
            "  warnings.warn(\n"
          ]
        },
        {
          "name": "stdout",
          "output_type": "stream",
          "text": [
            "\u001b[32;1m\u001b[1;3m I need to search for the latest publications on Artificial Intelligence. I will use the Search tool for this.\n",
            "Action: Search\n",
            "Action Input: 'latest publications on Artificial Intelligence'\n",
            "Observation\u001b[0m\u001b[36;1m\u001b[1;3mThis research work explores the integration of machine learning (ML) and artificial intelligence (AI) in the field of Earth observation (EO). As satellite data continues to grow, offering global insights into environmental processes, there is a pressing need for advanced processing techniques to convert raw data into actionable information. Earth observation (EO), aiming at monitoring the state of planet Earth using remote sensing data, is critical for improving our daily lives and living environment. With a growing number of satellites in orbit, an increasing number of datasets with diverse sensors and research domains are being published to facilitate the research of the remote sensing community. This paper presents a ... This study provides a comprehensive bibliometric and in-depth analysis of artificial intelligence (AI) and machine learning (ML) applications in environmental monitoring, based on 4762 publications from 1991 to 2024. The research highlights a notable increase in publications and citations since 2010, with China, the United States, and India emerging as leading contributors. Key areas of ... Advances in artificial intelligence (AI) and Earth observation (EO) have transformed urban studies. This paper provides a commentary on how the AI-EO integration offers advancements in urban ... The convergence of artificial intelligence (AI) and Earth observation (EO) technologies has brought geoscience and remote sensing into an era of unparalleled capabilities. AI's transformative impact on data analysis, particularly derived from EO platforms, holds great promise in addressing global challenges such as environmental monitoring, disaster response and climate change analysis ...\u001b[0m"
          ]
        },
        {
          "name": "stderr",
          "output_type": "stream",
          "text": [
            "d:\\anaconda3\\envs\\py312\\Lib\\site-packages\\huggingface_hub\\inference\\_client.py:2252: FutureWarning: `stop_sequences` is a deprecated argument for `text_generation` task and will be removed in version '0.28.0'. Use `stop` instead.\n",
            "  warnings.warn(\n"
          ]
        },
        {
          "name": "stdout",
          "output_type": "stream",
          "text": [
            "\u001b[32;1m\u001b[1;3m I have found 4 publications on Artificial Intelligence. I will find the 5th one.\n",
            "Action: Search\n",
            "Action Input: 'latest publications on Artificial Intelligence'\n",
            "Observation\u001b[0m\u001b[36;1m\u001b[1;3mThis research work explores the integration of machine learning (ML) and artificial intelligence (AI) in the field of Earth observation (EO). As satellite data continues to grow, offering global insights into environmental processes, there is a pressing need for advanced processing techniques to convert raw data into actionable information. Earth observation (EO), aiming at monitoring the state of planet Earth using remote sensing data, is critical for improving our daily lives and living environment. With a growing number of satellites in orbit, an increasing number of datasets with diverse sensors and research domains are being published to facilitate the research of the remote sensing community. This paper presents a ... This study provides a comprehensive bibliometric and in-depth analysis of artificial intelligence (AI) and machine learning (ML) applications in environmental monitoring, based on 4762 publications from 1991 to 2024. The research highlights a notable increase in publications and citations since 2010, with China, the United States, and India emerging as leading contributors. Key areas of ... Earth observation (EO) is increasingly used for mapping and monitoring processes occurring at the surface of Earth. Data acquired by satellites nowadays allow us to have a global view, consistent in time, of the state of our forests, oceans, and growing urban areas. However, such a wealth of data has little value without appropriate processing chains able to convert the pixel values to ... The convergence of artificial intelligence (AI) and Earth observation (EO) technologies has brought geoscience and remote sensing into an era of unparalleled capabilities. AI's transformative impact on data analysis, particularly derived from EO platforms, holds great promise in addressing global challenges such as environmental monitoring, disaster response and climate change analysis ...\u001b[0m"
          ]
        },
        {
          "name": "stderr",
          "output_type": "stream",
          "text": [
            "d:\\anaconda3\\envs\\py312\\Lib\\site-packages\\huggingface_hub\\inference\\_client.py:2252: FutureWarning: `stop_sequences` is a deprecated argument for `text_generation` task and will be removed in version '0.28.0'. Use `stop` instead.\n",
            "  warnings.warn(\n"
          ]
        },
        {
          "name": "stdout",
          "output_type": "stream",
          "text": [
            "\u001b[32;1m\u001b[1;3m I have found 5 publications on Artificial Intelligence. I will now provide the final answer.\n",
            "Final Answer:\n",
            "1. Title: Advances in Artificial Intelligence and Earth Observation for Urban Studies\n",
            "   Authors: Not provided\n",
            "   Description: This commentary discusses the impact of the integration of artificial intelligence (AI) and Earth observation (EO) on urban studies, offering advancements in urban research.\n",
            "\n",
            "2. Title: A Comprehensive Bibliometric and In-depth Analysis of Artificial Intelligence and Machine Learning Applications in Environmental Monitoring\n",
            "   Authors: Not provided\n",
            "   Description: This study provides a comprehensive analysis of AI and ML applications in environmental monitoring, highlighting a notable increase in publications and citations since 2010.\n",
            "\n",
            "3. Title: Integration of Machine Learning and Artificial Intelligence in Earth Observation\n",
            "   Authors: Not provided\n",
            "   Description: This research work explores the integration of ML and AI in the field of Earth observation, focusing on the need for advanced processing techniques to convert raw data into actionable information.\n",
            "\n",
            "4. Title: Artificial Intelligence and Earth Observation: A New Era for Geoscience and Remote Sensing\n",
            "   Authors: Not provided\n",
            "   Description: This paper discusses the transformative impact of AI and EO technologies on geoscience and remote sensing, addressing global challenges such as environmental monitoring, disaster response, and climate change analysis.\n",
            "\n",
            "5. Title: Processing Chains for Earth Observation Data: A Review\n",
            "   Authors: Not provided\n",
            "   Description: This study focuses on the need for appropriate processing chains to convert the pixel values from Earth observation data into meaningful information, highlighting the importance of AI in this process.</s>\u001b[0m\n",
            "\n",
            "\u001b[1m> Finished chain.\u001b[0m\n",
            "{'input': 'Find the 5 latest publications on Artificial Intelligence. For search you could use scientific papers, news, blogs and other resourcesFor each, provide the title, authors (if available), and a short description.', 'output': '1. Title: Advances in Artificial Intelligence and Earth Observation for Urban Studies\\n   Authors: Not provided\\n   Description: This commentary discusses the impact of the integration of artificial intelligence (AI) and Earth observation (EO) on urban studies, offering advancements in urban research.\\n\\n2. Title: A Comprehensive Bibliometric and In-depth Analysis of Artificial Intelligence and Machine Learning Applications in Environmental Monitoring\\n   Authors: Not provided\\n   Description: This study provides a comprehensive analysis of AI and ML applications in environmental monitoring, highlighting a notable increase in publications and citations since 2010.\\n\\n3. Title: Integration of Machine Learning and Artificial Intelligence in Earth Observation\\n   Authors: Not provided\\n   Description: This research work explores the integration of ML and AI in the field of Earth observation, focusing on the need for advanced processing techniques to convert raw data into actionable information.\\n\\n4. Title: Artificial Intelligence and Earth Observation: A New Era for Geoscience and Remote Sensing\\n   Authors: Not provided\\n   Description: This paper discusses the transformative impact of AI and EO technologies on geoscience and remote sensing, addressing global challenges such as environmental monitoring, disaster response, and climate change analysis.\\n\\n5. Title: Processing Chains for Earth Observation Data: A Review\\n   Authors: Not provided\\n   Description: This study focuses on the need for appropriate processing chains to convert the pixel values from Earth observation data into meaningful information, highlighting the importance of AI in this process.</s>'}\n"
          ]
        }
      ],
      "source": [
        "response = agent_executor.invoke(\n",
        "    {\"input\": \"Find the 5 latest publications on Artificial Intelligence. \"\n",
        "              \"For search you could use scientific papers, news, blogs and other resources. \"\n",
        "              \"For each, provide the title, authors (if available), and a short description.\"})\n",
        "\n",
        "print(response)"
      ]
    },
    {
      "cell_type": "markdown",
      "metadata": {},
      "source": [
        "#### `gpt-4o-mini` and `GoogleSearch`"
      ]
    },
    {
      "cell_type": "code",
      "execution_count": null,
      "metadata": {},
      "outputs": [
        {
          "name": "stdout",
          "output_type": "stream",
          "text": [
            "\n",
            "\n",
            "\u001b[1m> Entering new AgentExecutor chain...\u001b[0m\n",
            "\u001b[32;1m\u001b[1;3mI need to find the latest publications about Artificial Intelligence from the year 2025. Since it's currently 2023, I will search for any upcoming or anticipated publications, news articles, or scientific papers that may have been announced or are expected to be released in 2025. \n",
            "\n",
            "Action: Google Search Snippets  \n",
            "Action Input: \"latest publications about Artificial Intelligence 2025\"  \u001b[0m\u001b[36;1m\u001b[1;3m[{'title': 'UNESCO dedicates the International Day of Education 2025 to ...', 'link': 'https://www.unesco.org/en/articles/unesco-dedicates-international-day-education-2025-artificial-intelligence', 'snippet': 'Feb 3, 2025 ... Find the latest ideas, publications and reports. ... UNESCO dedicates the International Day of Education 2025 to Artificial Intelligence.'}, {'title': 'Artificial Intelligence', 'link': 'https://arxiv.org/list/cs.AI/recent', 'snippet': 'Journal-ref: IEEE Internet of Things Magazine, 2025. Subjects: Artificial Intelligence (cs.AI). [12] arXiv:2503.21411 [pdf, html, other]. Title: Exploring the\\xa0...'}, {'title': 'The Association for the Advancement of Artificial Intelligence', 'link': 'https://aaai.org/', 'snippet': 'The AAAI 2025 presidential panel on the future of AI research aims to help all AI stakeholders navigate the recent significant transformations in AI\\xa0...'}, {'title': 'Journal of Machine Learning Research', 'link': 'https://www.jmlr.org/', 'snippet': 'Latest papers. gsplat: An Open-Source Library for Gaussian Splatting: Vickie ... 2025. (Machine Learning Open Source Software Paper) [abs][pdf][bib\\xa0...'}, {'title': 'IEEE Transactions on Artificial Intelligence - IEEE Computational ...', 'link': 'https://cis.ieee.org/publications/ieee-transactions-on-artificial-intelligence', 'snippet': 'Applications of Artificial Intelligence are also considered. A video with example publications can be seen [Here]. Impact Score. TAI 2024. The values displayed\\xa0...'}]\u001b[0m\u001b[32;1m\u001b[1;3mI need to analyze the search results to extract the relevant information about the latest publications related to Artificial Intelligence expected in 2025.\n",
            "\n",
            "1. **Title**: UNESCO dedicates the International Day of Education 2025 to Artificial Intelligence  \n",
            "   **Authors**: Not specified  \n",
            "   **Description**: This publication discusses UNESCO's plans to focus on Artificial Intelligence during the International Day of Education in 2025, highlighting the importance of AI in education.  \n",
            "   **Link**: [UNESCO Article](https://www.unesco.org/en/articles/unesco-dedicates-international-day-education-2025-artificial-intelligence)\n",
            "\n",
            "2. **Title**: Exploring the Future of Artificial Intelligence  \n",
            "   **Authors**: Not specified  \n",
            "   **Description**: This paper, published in IEEE Internet of Things Magazine in 2025, explores various aspects of Artificial Intelligence and its implications for the Internet of Things.  \n",
            "   **Link**: [arXiv Paper](https://arxiv.org/list/cs.AI/recent)\n",
            "\n",
            "3. **Title**: The Association for the Advancement of Artificial Intelligence  \n",
            "   **Authors**: Not specified  \n",
            "   **Description**: This publication discusses the AAAI 2025 presidential panel's focus on the future of AI research, addressing significant transformations in the field.  \n",
            "   **Link**: [AAAI Website](https://aaai.org/)\n",
            "\n",
            "4. **Title**: gsplat: An Open-Source Library for Gaussian Splatting  \n",
            "   **Authors**: Vickie (last name not provided)  \n",
            "   **Description**: This paper discusses an open-source library for Gaussian splatting, published in the Journal of Machine Learning Research in 2025, contributing to machine learning software.  \n",
            "   **Link**: [JMLR Paper](https://www.jmlr.org/)\n",
            "\n",
            "5. **Title**: IEEE Transactions on Artificial Intelligence  \n",
            "   **Authors**: Not specified  \n",
            "   **Description**: This publication covers various applications of Artificial Intelligence and includes a video showcasing example publications.  \n",
            "   **Link**: [IEEE Transactions](https://cis.ieee.org/publications/ieee-transactions-on-artificial-intelligence)\n",
            "\n",
            "Thought: I have gathered the latest publications related to Artificial Intelligence expected in 2025, including their titles, authors (if available), and descriptions.\n",
            "\n",
            "Final Answer: Here are the 5 latest publications about Artificial Intelligence expected in 2025:\n",
            "\n",
            "1. **Title**: UNESCO dedicates the International Day of Education 2025 to Artificial Intelligence  \n",
            "   **Authors**: Not specified  \n",
            "   **Description**: Discusses UNESCO's focus on AI in education.  \n",
            "   **Link**: [UNESCO Article](https://www.unesco.org/en/articles/unesco-dedicates-international-day-education-2025-artificial-intelligence)\n",
            "\n",
            "2. **Title**: Exploring the Future of Artificial Intelligence  \n",
            "   **Authors**: Not specified  \n",
            "   **Description**: Explores AI implications for the Internet of Things.  \n",
            "   **Link**: [arXiv Paper](https://arxiv.org/list/cs.AI/recent)\n",
            "\n",
            "3. **Title**: The Association for the Advancement of Artificial Intelligence  \n",
            "   **Authors**: Not specified  \n",
            "   **Description**: Discusses the AAAI 2025 presidential panel on AI research.  \n",
            "   **Link**: [AAAI Website](https://aaai.org/)\n",
            "\n",
            "4. **Title**: gsplat: An Open-Source Library for Gaussian Splatting  \n",
            "   **Authors**: Vickie (last name not provided)  \n",
            "   **Description**: Discusses an open-source library for Gaussian splatting.  \n",
            "   **Link**: [JMLR Paper](https://www.jmlr.org/)\n",
            "\n",
            "5. **Title**: IEEE Transactions on Artificial Intelligence  \n",
            "   **Authors**: Not specified  \n",
            "   **Description**: Covers various applications of AI.  \n",
            "   **Link**: [IEEE Transactions](https://cis.ieee.org/publications/ieee-transactions-on-artificial-intelligence)\u001b[0m\n",
            "\n",
            "\u001b[1m> Finished chain.\u001b[0m\n",
            "{'input': 'Find the 5 latest publications about Artificial Intelligence of 2025. For search you could use news, blogs, scientific papers, and other resources. For each, provide the title, authors (if available), and a short description.', 'output': \"Here are the 5 latest publications about Artificial Intelligence expected in 2025:\\n\\n1. **Title**: UNESCO dedicates the International Day of Education 2025 to Artificial Intelligence  \\n   **Authors**: Not specified  \\n   **Description**: Discusses UNESCO's focus on AI in education.  \\n   **Link**: [UNESCO Article](https://www.unesco.org/en/articles/unesco-dedicates-international-day-education-2025-artificial-intelligence)\\n\\n2. **Title**: Exploring the Future of Artificial Intelligence  \\n   **Authors**: Not specified  \\n   **Description**: Explores AI implications for the Internet of Things.  \\n   **Link**: [arXiv Paper](https://arxiv.org/list/cs.AI/recent)\\n\\n3. **Title**: The Association for the Advancement of Artificial Intelligence  \\n   **Authors**: Not specified  \\n   **Description**: Discusses the AAAI 2025 presidential panel on AI research.  \\n   **Link**: [AAAI Website](https://aaai.org/)\\n\\n4. **Title**: gsplat: An Open-Source Library for Gaussian Splatting  \\n   **Authors**: Vickie (last name not provided)  \\n   **Description**: Discusses an open-source library for Gaussian splatting.  \\n   **Link**: [JMLR Paper](https://www.jmlr.org/)\\n\\n5. **Title**: IEEE Transactions on Artificial Intelligence  \\n   **Authors**: Not specified  \\n   **Description**: Covers various applications of AI.  \\n   **Link**: [IEEE Transactions](https://cis.ieee.org/publications/ieee-transactions-on-artificial-intelligence)\"}\n"
          ]
        }
      ],
      "source": [
        "llm_gpt = ChatOpenAI(model=\"gpt-4o-mini\", temperature=overal_temperature)\n",
        "\n",
        "search = GoogleSearchAPIWrapper()\n",
        "\n",
        "\n",
        "def top5_results(query):\n",
        "    return search.results(query, 5)\n",
        "\n",
        "\n",
        "tool = [Tool(\n",
        "    name=\"Google Search Snippets\",\n",
        "    description=\"Search Google for recent results.\",\n",
        "    func=top5_results,\n",
        ")]\n",
        "\n",
        "agent = create_react_agent(llm_gpt, tool, prompt)\n",
        "agent_executor = AgentExecutor(agent=agent, tools=tool, verbose=True)\n",
        "\n",
        "response = agent_executor.invoke(\n",
        "    {\"input\": \"Find the 5 latest publications about Artificial Intelligence for 2025. \"\n",
        "              \"This could include news, blogs, scientific papers, and other resources. \"\n",
        "              \"For each, provide the title, authors (if available), and a short description.\"})\n",
        "\n",
        "print(response)"
      ]
    },
    {
      "cell_type": "markdown",
      "metadata": {
        "id": "IOqujC6qY_NY"
      },
      "source": [
        "\n",
        "\n",
        "### Завдання 4: Створення агента-помічника для вирішення бізнес-задач\n",
        "\n",
        "Створіть агента, який допомагає вирішувати задачі бізнес-аналітики. Агент має допомогти користувачу створити прогноз по продажам на наступний рік враховуючи рівень інфляції і погодні умови. Агент має вміти використовувати Python і ходити в інтернет аби отримати актуальні дані.\n",
        "\n",
        "**Кроки:**\n",
        "1. Налаштуйте агента, який працюватиме з аналітичними даними, заданими текстом. Користувач пише\n",
        "\n",
        "```\n",
        "Ми експортуємо апельсини з Бразилії. В 2021 експортували 200т, в 2022 - 190т, в 2023 - 210т, в 2024 який ще не закінчився - 220т. Зроби оцінку скільки ми зможемо експортувати апельсинів в 2025 враховуючи погодні умови в Бразилії і попит на апельсини в світі виходячи з економічної ситуації.\n",
        "```\n",
        "\n",
        "2. Створіть запит до агента, що містить чітке завдання – видати результат бізнес аналізу або написати, що він не може цього зробити і запит користувача (просто може бути все одним повідомлленням).\n",
        "\n",
        "3. Запустіть агента і проаналізуйте результати. Що можна покращити?\n"
      ]
    },
    {
      "cell_type": "markdown",
      "metadata": {},
      "source": [
        "#### `Mistral` and `DuckDuckGoSearchRun`"
      ]
    },
    {
      "cell_type": "code",
      "execution_count": 50,
      "metadata": {},
      "outputs": [
        {
          "name": "stderr",
          "output_type": "stream",
          "text": [
            "Note: Environment variable`HF_TOKEN` is set and is the current active token independently from the token you've just configured.\n"
          ]
        }
      ],
      "source": [
        "llm = HuggingFaceEndpoint(\n",
        "    repo_id=\"mistralai/Mistral-7B-Instruct-v0.3\",\n",
        "    temperature=overal_temperature\n",
        ")"
      ]
    },
    {
      "cell_type": "code",
      "execution_count": 64,
      "metadata": {},
      "outputs": [],
      "source": [
        "search_tool = DuckDuckGoSearchResults(\n",
        "    name=\"web_search\",\n",
        "    description=(\"Useful for when you need to answer questions about current or future  events. \"\n",
        "                 \"Use this to search for the economic and weather forecasting\")\n",
        ")"
      ]
    },
    {
      "cell_type": "code",
      "execution_count": 65,
      "metadata": {},
      "outputs": [],
      "source": [
        "python_tool = PythonREPLTool(\n",
        "    name=\"python_interpreter\",\n",
        "    description=(\"A Python shell. Use this to execute python commands. \"\n",
        "                 \"Input should be a valid python command. \"\n",
        "                 \"If you want to see the output of a value, \"\n",
        "                 \"you necessarily should print it out with `print(...)`. \"\n",
        "                 \"Otherwise you won't see the result! It's very important.\"\n",
        "                 \"For calculate the average increase use difference between year's sales\")\n",
        ")"
      ]
    },
    {
      "cell_type": "code",
      "execution_count": 66,
      "metadata": {},
      "outputs": [],
      "source": [
        "agent = initialize_agent(\n",
        "    tools=[search_tool, python_tool],\n",
        "    llm=llm,\n",
        "    agent=AgentType.ZERO_SHOT_REACT_DESCRIPTION,\n",
        "    verbose=True\n",
        ")"
      ]
    },
    {
      "cell_type": "code",
      "execution_count": null,
      "metadata": {},
      "outputs": [],
      "source": [
        "user_query = \"\"\"We export oranges from Brazil.\n",
        "In 2021, we exported 200 tons, in 2022 - 190 tons, in 2023 - 210 tons,\n",
        "in 2024, which has not yet ended - 220 tons.\n",
        "Estimate how many oranges we will be able to export in 2025,\n",
        "taking into account weather conditions in Brazil and the demand for oranges in the world\n",
        "based on the economic situation.\n",
        "At first, estimate economic and weather forecast for 2025 year and only after that make prediction.\n",
        "Provide the result of the business analysis or write that you cannot do this\"\"\""
      ]
    },
    {
      "cell_type": "code",
      "execution_count": 72,
      "metadata": {},
      "outputs": [
        {
          "name": "stdout",
          "output_type": "stream",
          "text": [
            "\n",
            "\n",
            "\u001b[1m> Entering new AgentExecutor chain...\u001b[0m\n"
          ]
        },
        {
          "name": "stderr",
          "output_type": "stream",
          "text": [
            "d:\\anaconda3\\envs\\py312\\Lib\\site-packages\\huggingface_hub\\utils\\_deprecation.py:131: FutureWarning: 'post' (from 'huggingface_hub.inference._client') is deprecated and will be removed from version '0.31.0'. Making direct POST requests to the inference server is not supported anymore. Please use task methods instead (e.g. `InferenceClient.chat_completion`). If your use case is not supported, please open an issue in https://github.com/huggingface/huggingface_hub.\n",
            "  warnings.warn(warning_message, FutureWarning)\n"
          ]
        },
        {
          "name": "stdout",
          "output_type": "stream",
          "text": [
            "\u001b[32;1m\u001b[1;3m I need to find the economic and weather forecast for 2025. Then I can estimate the orange export for 2025 based on the trends from the past years and the forecast.\n",
            "Action: web_search\n",
            "Action Input: Economic and weather forecast for 2025\u001b[0m\n",
            "Observation: \u001b[36;1m\u001b[1;3msnippet: The forecast for 2025 is broadly unchanged from that in the October 2024 World Economic Outlook (WEO), primarily on account of an upward revision in the United States offsetting downward revisions in other major economies. Global headline inflation is expected to decline to 4.2 percent in 2025 and to 3.5 percent in 2026, converging back to ..., title: World Economic Outlook Update, January 2025: Global Growth ... - IMF, link: https://www.imf.org/en/Publications/WEO/Issues/2025/01/17/world-economic-outlook-update-january-2025, snippet: Global economic growth remained resilient in 2024. However, recent indicators suggest softening growth prospects, with measures of economic policy uncertainty having risen markedly alongside the imposition of new trade barriers by a number of countries. Global growth is expected to moderate over the coming two years and to be weaker than previously expected, with inflation now remaining above ..., title: OECD Economic Outlook, Interim Report March 2025, link: https://www.oecd.org/en/publications/oecd-economic-outlook-interim-report-march-2025_89af4857-en.html, snippet: Worldwide GDP is forecast to expand 2.7% next year on an annual average basis, just above the consensus forecast of economists surveyed by Bloomberg and matching the estimated growth in 2024. US GDP is projected to increase 2.5% in 2025, well ahead of the consensus at 1.9%., title: The global economy is forecast to grow solidly in 2025 despite trade ..., link: https://www.goldmansachs.com/insights/articles/the-global-economy-is-forecast-to-grow-solidly-in-2025, snippet: With 2024 marking record-breaking temperatures, extreme weather events, and rising environmental concerns, 2025 is poised to continue this trend—for better or worse. This article explores anticipated weather patterns, climate trends, and global preparedness strategies for the year ahead. Global Temperature Rise: What to Expect in 2025, title: Looking Ahead: Weather Predictions and Climate Trends for 2025, link: https://blog.worldweatheronline.com/weather/looking-ahead-weather-predictions-and-climate-trends-for-2025/\u001b[0m\n",
            "Thought:"
          ]
        },
        {
          "name": "stderr",
          "output_type": "stream",
          "text": [
            "d:\\anaconda3\\envs\\py312\\Lib\\site-packages\\huggingface_hub\\utils\\_deprecation.py:131: FutureWarning: 'post' (from 'huggingface_hub.inference._client') is deprecated and will be removed from version '0.31.0'. Making direct POST requests to the inference server is not supported anymore. Please use task methods instead (e.g. `InferenceClient.chat_completion`). If your use case is not supported, please open an issue in https://github.com/huggingface/huggingface_hub.\n",
            "  warnings.warn(warning_message, FutureWarning)\n"
          ]
        },
        {
          "name": "stdout",
          "output_type": "stream",
          "text": [
            "\u001b[32;1m\u001b[1;3m I have the economic and weather forecast for 2025. Now I can estimate the orange export for 2025.\n",
            "Action: python_interpreter\n",
            "Action Input:\n",
            "```\n",
            "import statistics\n",
            "sales = [200, 190, 210, 220]\n",
            "average_increase = (220 - 200) / (len(sales) - 1)\n",
            "predicted_sales = 220 + average_increase\n",
            "print(predicted_sales)\n",
            "```\u001b[0m\n",
            "Observation: \u001b[33;1m\u001b[1;3m226.66666666666666\n",
            "\u001b[0m\n",
            "Thought:"
          ]
        },
        {
          "name": "stderr",
          "output_type": "stream",
          "text": [
            "d:\\anaconda3\\envs\\py312\\Lib\\site-packages\\huggingface_hub\\utils\\_deprecation.py:131: FutureWarning: 'post' (from 'huggingface_hub.inference._client') is deprecated and will be removed from version '0.31.0'. Making direct POST requests to the inference server is not supported anymore. Please use task methods instead (e.g. `InferenceClient.chat_completion`). If your use case is not supported, please open an issue in https://github.com/huggingface/huggingface_hub.\n",
            "  warnings.warn(warning_message, FutureWarning)\n"
          ]
        },
        {
          "name": "stdout",
          "output_type": "stream",
          "text": [
            "\u001b[32;1m\u001b[1;3m I now know the final answer\n",
            "Final Answer: Based on the trends from the past years and the forecast for 2025, it is estimated that we will be able to export 227 tons of oranges in 2025.\u001b[0m\n",
            "\n",
            "\u001b[1m> Finished chain.\u001b[0m\n",
            "Based on the trends from the past years and the forecast for 2025, it is estimated that we will be able to export 227 tons of oranges in 2025.\n"
          ]
        }
      ],
      "source": [
        "response = agent.run(user_query)\n",
        "print(response)"
      ]
    },
    {
      "cell_type": "markdown",
      "metadata": {},
      "source": [
        "#### `gpt-4o-mini` and `GoogleSearch`"
      ]
    },
    {
      "cell_type": "code",
      "execution_count": 45,
      "metadata": {},
      "outputs": [
        {
          "name": "stdout",
          "output_type": "stream",
          "text": [
            "\n",
            "\n",
            "\u001b[1m> Entering new AgentExecutor chain...\u001b[0m\n",
            "\u001b[32;1m\u001b[1;3mTo estimate the export of oranges from Brazil in 2025, I need to first gather information on the economic and weather forecasts for that year. This will help in understanding the potential demand and supply conditions. \n",
            "\n",
            "Action: Google Search Snippets  \n",
            "Action Input: \"Brazil orange export forecast 2025 economic weather conditions\"  \u001b[0m\u001b[36;1m\u001b[1;3mJan 2, 2025 ... Consumption is up with projected higher imports from Brazil and exports are forecast down with lower production. Global Orange Juice Production. 2 days ago ... F = Forecast. Note: Florida orange marketing year starts in October and ends in September of the following year. Source: USDA, Economic Research ... Dec 20, 2024 ... Total fresh orange exports for MY 2024/25 are projected at virtually zero, based on information from. SECEX. Brazil has limited market access to ... Dec 21, 2021 ... The Brazilian orange crop for Marketing Year (MY) 2021/22 is forecast at 405 million 40.8-kg boxes (MBx), equal to 16.52 million metric tons (MMT). Arabica coffee futures dipped toward $3.75 per pound, their lowest since February 26, pressured by forecasts of rain in Brazil, the world's top producer. Dec 20, 2024 ... The Brazilian orange crop for Marketing Year (MY) 2024/25 is forecast at 320 million 90-pound boxes (MBx) - standard reference, ... projected to rise to 2.2 percent in 2024, with Brazil's economy projected to average 3.1 ... international demand but strong export growth in Brazil and to a ... Jan 16, 2025 ... ... weather conditions during the season. The 2024/25 crop is estimated ... Cepea calculations indicate that Brazilian orange juice stocks ... Jan 8, 2025 ... Fundação Getulio Vargas's Brazilian Institute of Economics (Ibre-FGV) and LCA Consultores forecast growth between 4% and 4.5%. Santander ... Jan 12, 2025 ... ... exports are expected to reach new highs in 2025. And favorable climatic conditions could see Brazil achieve the No. 1 spot in cotton exports ...\u001b[0m"
          ]
        },
        {
          "name": "stderr",
          "output_type": "stream",
          "text": [
            "Python REPL can execute arbitrary code. Use with caution.\n"
          ]
        },
        {
          "name": "stdout",
          "output_type": "stream",
          "text": [
            "\u001b[32;1m\u001b[1;3mThe search results indicate that Brazil's orange exports for the marketing year 2024/25 are projected to be significantly impacted by lower production, with total fresh orange exports forecasted at virtually zero. This suggests a challenging environment for orange exports due to unfavorable weather conditions and possibly lower economic growth. \n",
            "\n",
            "Given that the economic growth is projected to be between 4% and 4.5%, there may be some demand for oranges, but the supply constraints due to lower production will likely limit export capabilities.\n",
            "\n",
            "Next, I will analyze the historical export data to estimate the potential export for 2025 based on the trends observed in previous years.\n",
            "\n",
            "Action: python_interpreter  \n",
            "Action Input: \n",
            "# Historical export data\n",
            "exports = {\n",
            "    2021: 200,  # tons\n",
            "    2022: 190,  # tons\n",
            "    2023: 210,  # tons\n",
            "    2024: 220   # tons\n",
            "}\n",
            "\n",
            "# Calculate the average increase in exports from 2021 to 2024\n",
            "years = list(exports.keys())\n",
            "increases = [exports[years[i]] - exports[years[i-1]] for i in range(1, len(years))]\n",
            "average_increase = sum(increases) / len(increases)\n",
            "average_increase, exports[2024] + average_increase  # Projected export for 2025 based on average increase from previous years.  \u001b[0m\u001b[33;1m\u001b[1;3m\u001b[0m\u001b[32;1m\u001b[1;3mThe average increase in exports from 2021 to 2024 is calculated, and the projected export for 2025 based on this average increase has been determined. \n",
            "\n",
            "Now, I will consider the impact of the economic and weather conditions on this projection. Given the forecast of lower production and potential supply constraints, it is likely that the actual exports in 2025 will be lower than the calculated projection based on historical trends.\n",
            "\n",
            "Let's calculate the average increase and the projected export for 2025 based on the historical data.\n",
            "\n",
            "Action: python_interpreter  \n",
            "Action Input: \n",
            "# Historical export data\n",
            "exports = {\n",
            "    2021: 200,  # tons\n",
            "    2022: 190,  # tons\n",
            "    2023: 210,  # tons\n",
            "    2024: 220   # tons\n",
            "}\n",
            "\n",
            "# Calculate the average increase in exports from 2021 to 2024\n",
            "years = list(exports.keys())\n",
            "increases = [exports[years[i]] - exports[years[i-1]] for i in range(1, len(years))]\n",
            "average_increase = sum(increases) / len(increases)\n",
            "projected_export_2025 = exports[2024] + average_increase\n",
            "average_increase, projected_export_2025  # Projected export for 2025 based on average increase from previous years.  \u001b[0m\u001b[33;1m\u001b[1;3m\u001b[0m\u001b[32;1m\u001b[1;3mThe average increase in exports from 2021 to 2024 is 10 tons, leading to a projected export for 2025 of 230 tons based on historical trends. However, considering the unfavorable weather conditions and lower production forecasts, it is likely that the actual exports will be lower than this projection.\n",
            "\n",
            "Final Answer: Given the unfavorable weather conditions and lower production forecasts, while the historical trend suggests a potential export of 230 tons in 2025, the actual exports may be significantly lower, possibly close to zero based on current projections.\u001b[0m\n",
            "\n",
            "\u001b[1m> Finished chain.\u001b[0m\n",
            "{'input': 'We export oranges from Brazil.\\nIn 2021, we exported 200 tons, in 2022 - 190 tons, in 2023 - 210 tons,\\nin 2024, which has not yet ended - 220 tons.\\nEstimate how many oranges we will be able to export in 2025,\\ntaking into account weather conditions in Brazil and the demand for oranges in the world\\nbased on the economic situation.\\nAt first, estimate economic and weather forecast for 2025 year and only after that make prediction.\\nProvide the result of the business analysis or write that you cannot do this', 'output': 'Given the unfavorable weather conditions and lower production forecasts, while the historical trend suggests a potential export of 230 tons in 2025, the actual exports may be significantly lower, possibly close to zero based on current projections.'}\n"
          ]
        }
      ],
      "source": [
        "llm_gpt = ChatOpenAI(model=\"gpt-4o-mini\", temperature=overal_temperature)\n",
        "\n",
        "search = GoogleSearchAPIWrapper()\n",
        "\n",
        "search_tool = Tool(\n",
        "    name=\"Google Search Snippets\",\n",
        "    description=\"Search Google for recent results.\",\n",
        "    func=search.run,\n",
        ")\n",
        "\n",
        "python_tool = PythonREPLTool(\n",
        "    name=\"python_interpreter\",\n",
        "    description=(\"A Python shell. Use this to execute python commands. \"\n",
        "                 \"Input should be a valid python command. \"\n",
        "                 \"If you want to see the output of a value, \"\n",
        "                 \"you necessarily should print it out with `print(...)`. \"\n",
        "                 \"Otherwise you won't see the result! It's very important.\"\n",
        "                 \"For calculate the average increase use difference between year's sales\")\n",
        ")\n",
        "\n",
        "agent = create_react_agent(llm_gpt, [search_tool, python_tool], prompt)\n",
        "agent_executor = AgentExecutor(agent=agent, tools=[search_tool, python_tool], verbose=True)\n",
        "\n",
        "user_query = \"\"\"We export oranges from Brazil.\n",
        "In 2021, we exported 200 tons, in 2022 - 190 tons, in 2023 - 210 tons,\n",
        "in 2024, which has not yet ended - 220 tons.\n",
        "Estimate how many oranges we will be able to export in 2025,\n",
        "taking into account weather conditions in Brazil and the demand for oranges in the world\n",
        "based on the economic situation.\n",
        "At first, estimate economic and weather forecast for 2025 year and only after that make prediction.\n",
        "Provide the result of the business analysis or write that you cannot do this\"\"\"\n",
        "\n",
        "response = agent_executor.invoke(\n",
        "    {\"input\": user_query})\n",
        "\n",
        "print(response)"
      ]
    },
    {
      "cell_type": "markdown",
      "metadata": {},
      "source": [
        "- `Mistral` retrieves economic and weather forecasts but doesn't incorporate them into its predictions. It calculates trends using a simple average of the first and last years. Attempts to refine the query didn't significantly improve aggregation.\n",
        "- In contrast, `gpt-4o-mini` more accurately calculates the average increase in exports and integrates weather and economic forecasts into the final prediction. "
      ]
    }
  ],
  "metadata": {
    "colab": {
      "provenance": []
    },
    "kernelspec": {
      "display_name": "py312",
      "language": "python",
      "name": "python3"
    },
    "language_info": {
      "codemirror_mode": {
        "name": "ipython",
        "version": 3
      },
      "file_extension": ".py",
      "mimetype": "text/x-python",
      "name": "python",
      "nbconvert_exporter": "python",
      "pygments_lexer": "ipython3",
      "version": "3.12.7"
    }
  },
  "nbformat": 4,
  "nbformat_minor": 0
}
