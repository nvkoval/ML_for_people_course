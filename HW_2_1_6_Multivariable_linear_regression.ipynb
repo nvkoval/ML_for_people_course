{
  "cells": [
    {
      "cell_type": "markdown",
      "metadata": {
        "id": "87fwNK3xoy5K"
      },
      "source": [
        "У цьому домашньому завданні ми з вами побудуємо повноцінне ML-рішення реальної ML-задачі. Ви вже маєте всі знання, які для цього потрібні. Дотримуйтесь інструкцій та користуйтесь матеріалами лекцій, аби виконувати завдання. Тут інструкції будуть детальні, а в подальших завданнях - будуть ставати все менш детальними, аби ви вже починали самостійно структурувати ML-проєкт і до кінця курсу для вас розвʼязати будь-яку ML–задачу було eazy-breezy.\n",
        "\n",
        "## Dataset\n",
        "\n",
        "Будемо працювати з набором даних `cars.csv`, який описує автомобілі і їх ціну в індійських рупіях :) Мета - передбачити ціну авто за його характеристиками. Опис набору даних:\n",
        "\n",
        "| Назва рядка            | Опис                                                                                                                                                 |\n",
        "|------------------------|--------------------------------------------------------------------------------------------------------------------------------------------------------|\n",
        "| Car_ID                 | Унікальний ідентифікатор для кожного оголошення про автомобіль.                                                                                         |\n",
        "| Brand                  | Бренд або виробник автомобіля (наприклад, Toyota, Honda, Ford тощо).                                                                                     |\n",
        "| Model                  | Модель автомобіля (наприклад, Camry, Civic, Mustang тощо).                                                                                               |\n",
        "| Year                   | Рік виготовлення автомобіля.                                                                                                                            |\n",
        "| Kilometers_Driven      | Загальний пробіг автомобіля у кілометрах.                                                                                                               |\n",
        "| Fuel_Type              | Тип палива, який використовує автомобіль (наприклад, бензин, дизель, електро тощо).                                                                      |\n",
        "| Transmission           | Тип трансмісії автомобіля (наприклад, механічна, автоматична).                                                                                           |\n",
        "| Owner_Type             | Кількість попередніх власників автомобіля (наприклад, перший, другий, третій).                                                                           |\n",
        "| Mileage                | Паливна ефективність автомобіля у кілометрах на літр.                                                                                                   |\n",
        "| Engine                 | Об'єм двигуна автомобіля в кубічних сантиметрах (CC).                                                                                                   |\n",
        "| Power                  | Максимальна потужність автомобіля в кінських силах (bhp).                                                                                               |\n",
        "| Seats                  | Кількість місць в автомобілі.                                                                                                                           |\n",
        "| Price                  | Вартість автомобіля в INR (індійські рупії), що є цільовою змінною для прогнозування.                                                                   |"
      ]
    },
    {
      "cell_type": "markdown",
      "metadata": {
        "id": "52f35fee",
        "papermill": {
          "duration": 0.006069,
          "end_time": "2024-05-08T20:04:53.925383",
          "exception": false,
          "start_time": "2024-05-08T20:04:53.919314",
          "status": "completed"
        },
        "tags": []
      },
      "source": [
        "## Імпорти\n",
        "\n",
        "Для зручності рекомендую всі імпорти розмістити тут нагорі, аби коли ви перезавантажували ноутбук, одразу можна було в один запуск клітинки імпортувати всі потрібні бібліотеки."
      ]
    },
    {
      "cell_type": "code",
      "execution_count": 1,
      "metadata": {
        "execution": {
          "iopub.execute_input": "2024-05-08T20:04:53.940205Z",
          "iopub.status.busy": "2024-05-08T20:04:53.939265Z",
          "iopub.status.idle": "2024-05-08T20:04:56.366812Z",
          "shell.execute_reply": "2024-05-08T20:04:56.365880Z"
        },
        "id": "0a49b1bb",
        "papermill": {
          "duration": 2.43769,
          "end_time": "2024-05-08T20:04:56.369349",
          "exception": false,
          "start_time": "2024-05-08T20:04:53.931659",
          "status": "completed"
        },
        "tags": []
      },
      "outputs": [],
      "source": [
        "import pandas as pd\n",
        "import numpy as np\n",
        "import seaborn as sns\n",
        "import matplotlib.pyplot as plt\n",
        "import plotly.express as px\n",
        "import statsmodels.api as sm\n",
        "import category_encoders as ce\n",
        "import warnings\n",
        "\n",
        "from sklearn.model_selection import train_test_split\n",
        "from sklearn.preprocessing import OneHotEncoder, OrdinalEncoder, StandardScaler\n",
        "from sklearn.linear_model import LinearRegression\n",
        "from sklearn.metrics import root_mean_squared_error\n",
        "\n",
        "pd.set_option('display.max_columns', 100)"
      ]
    },
    {
      "cell_type": "markdown",
      "metadata": {
        "id": "mpKIfgg-FV98"
      },
      "source": [
        "## Знайомство з даними"
      ]
    },
    {
      "cell_type": "markdown",
      "metadata": {
        "id": "fc07024e",
        "papermill": {
          "duration": 0.006026,
          "end_time": "2024-05-08T20:04:56.381857",
          "exception": false,
          "start_time": "2024-05-08T20:04:56.375831",
          "status": "completed"
        },
        "tags": []
      },
      "source": [
        "## **Завдання 1.**\n",
        "Завантажте набір даних `cars.csv` в pandas.DataFrame. Виведіть перші 5 записів."
      ]
    },
    {
      "cell_type": "code",
      "execution_count": 2,
      "metadata": {
        "id": "lKtSXyENfJxD"
      },
      "outputs": [
        {
          "data": {
            "text/html": [
              "<div>\n",
              "<style scoped>\n",
              "    .dataframe tbody tr th:only-of-type {\n",
              "        vertical-align: middle;\n",
              "    }\n",
              "\n",
              "    .dataframe tbody tr th {\n",
              "        vertical-align: top;\n",
              "    }\n",
              "\n",
              "    .dataframe thead th {\n",
              "        text-align: right;\n",
              "    }\n",
              "</style>\n",
              "<table border=\"1\" class=\"dataframe\">\n",
              "  <thead>\n",
              "    <tr style=\"text-align: right;\">\n",
              "      <th></th>\n",
              "      <th>Car_ID</th>\n",
              "      <th>Brand</th>\n",
              "      <th>Model</th>\n",
              "      <th>Year</th>\n",
              "      <th>Kilometers_Driven</th>\n",
              "      <th>Fuel_Type</th>\n",
              "      <th>Transmission</th>\n",
              "      <th>Owner_Type</th>\n",
              "      <th>Mileage</th>\n",
              "      <th>Engine</th>\n",
              "      <th>Power</th>\n",
              "      <th>Seats</th>\n",
              "      <th>Price</th>\n",
              "    </tr>\n",
              "  </thead>\n",
              "  <tbody>\n",
              "    <tr>\n",
              "      <th>0</th>\n",
              "      <td>1</td>\n",
              "      <td>Toyota</td>\n",
              "      <td>Corolla</td>\n",
              "      <td>2018</td>\n",
              "      <td>50000</td>\n",
              "      <td>Petrol</td>\n",
              "      <td>Manual</td>\n",
              "      <td>First</td>\n",
              "      <td>15</td>\n",
              "      <td>1498</td>\n",
              "      <td>108</td>\n",
              "      <td>5</td>\n",
              "      <td>800000</td>\n",
              "    </tr>\n",
              "    <tr>\n",
              "      <th>1</th>\n",
              "      <td>2</td>\n",
              "      <td>Honda</td>\n",
              "      <td>Civic</td>\n",
              "      <td>2019</td>\n",
              "      <td>40000</td>\n",
              "      <td>Petrol</td>\n",
              "      <td>Automatic</td>\n",
              "      <td>Second</td>\n",
              "      <td>17</td>\n",
              "      <td>1597</td>\n",
              "      <td>140</td>\n",
              "      <td>5</td>\n",
              "      <td>1000000</td>\n",
              "    </tr>\n",
              "    <tr>\n",
              "      <th>2</th>\n",
              "      <td>3</td>\n",
              "      <td>Ford</td>\n",
              "      <td>Mustang</td>\n",
              "      <td>2017</td>\n",
              "      <td>20000</td>\n",
              "      <td>Petrol</td>\n",
              "      <td>Automatic</td>\n",
              "      <td>First</td>\n",
              "      <td>10</td>\n",
              "      <td>4951</td>\n",
              "      <td>395</td>\n",
              "      <td>4</td>\n",
              "      <td>2500000</td>\n",
              "    </tr>\n",
              "    <tr>\n",
              "      <th>3</th>\n",
              "      <td>4</td>\n",
              "      <td>Maruti</td>\n",
              "      <td>Swift</td>\n",
              "      <td>2020</td>\n",
              "      <td>30000</td>\n",
              "      <td>Diesel</td>\n",
              "      <td>Manual</td>\n",
              "      <td>Third</td>\n",
              "      <td>23</td>\n",
              "      <td>1248</td>\n",
              "      <td>74</td>\n",
              "      <td>5</td>\n",
              "      <td>600000</td>\n",
              "    </tr>\n",
              "    <tr>\n",
              "      <th>4</th>\n",
              "      <td>5</td>\n",
              "      <td>Hyundai</td>\n",
              "      <td>Sonata</td>\n",
              "      <td>2016</td>\n",
              "      <td>60000</td>\n",
              "      <td>Diesel</td>\n",
              "      <td>Automatic</td>\n",
              "      <td>Second</td>\n",
              "      <td>18</td>\n",
              "      <td>1999</td>\n",
              "      <td>194</td>\n",
              "      <td>5</td>\n",
              "      <td>850000</td>\n",
              "    </tr>\n",
              "  </tbody>\n",
              "</table>\n",
              "</div>"
            ],
            "text/plain": [
              "   Car_ID    Brand    Model  Year  Kilometers_Driven Fuel_Type Transmission  \\\n",
              "0       1   Toyota  Corolla  2018              50000    Petrol       Manual   \n",
              "1       2    Honda    Civic  2019              40000    Petrol    Automatic   \n",
              "2       3     Ford  Mustang  2017              20000    Petrol    Automatic   \n",
              "3       4   Maruti    Swift  2020              30000    Diesel       Manual   \n",
              "4       5  Hyundai   Sonata  2016              60000    Diesel    Automatic   \n",
              "\n",
              "  Owner_Type  Mileage  Engine  Power  Seats    Price  \n",
              "0      First       15    1498    108      5   800000  \n",
              "1     Second       17    1597    140      5  1000000  \n",
              "2      First       10    4951    395      4  2500000  \n",
              "3      Third       23    1248     74      5   600000  \n",
              "4     Second       18    1999    194      5   850000  "
            ]
          },
          "execution_count": 2,
          "metadata": {},
          "output_type": "execute_result"
        }
      ],
      "source": [
        "cars = pd.read_csv('./data/cars.csv')\n",
        "cars.head()"
      ]
    },
    {
      "cell_type": "markdown",
      "metadata": {
        "id": "BlayjhivF7Ha"
      },
      "source": [
        "## **Завдання 2.**\n",
        "Виведіть типи даних колонок даних, а також дослідіть, які по факту типи даних мають записи в кожній колонці (тип `object` може містити різні типи даних) і скільки значень є в кожній категоріальній колонці.\n",
        "\n",
        "Напишіть висновок, скільки в наборі даних числових та категоріальних колонок кожного з трьох різних типів (бінарна, мультикатегоріальна без порядку, мультикатегоріальна з порядком). Шаблон висновку\n",
        "\n",
        "```\n",
        "В наборі даних 10 числових і 10 категоріальних колонок з них\n",
        "- 2 бінарні (мають лише 2 значення)\n",
        "- 6 мультикатегоріальних (більше 2х значень) зі значеннями, для яких немає відношення порядку\n",
        "- 2 колонки, в яких можна встановити відношення порядку (наприклад Small<Medium<Large)\n",
        "```\n",
        "\n",
        "Якщо не знаєте, як це зробити з `pandas` - ось підказка, які методи можуть допомогти вам виконати це завдання\n",
        "\n",
        "- pandas.DataFrame.info()\n",
        "- pandas.DataFrame.dtypes\n",
        "- pandas.DataFrame.loc[...]\n",
        "- pandas.DataFrame.select_dtypes(...)\n",
        "- pandas.Series.unique()\n",
        "- pandas.Series.nunique()\n",
        "\n",
        "Детальніше ознайомитись з кожним ви можете в [документації](https://pandas.pydata.org/docs/reference/frame.html), або написати в окремій клітинці знак питання і назву методу (тільки приберіть це перед здачею, бо перегляд документації - не допомагає зрозуміти дані і хід думок, а Ваша робота - це як презентація замовнику зробленої задачі).\n"
      ]
    },
    {
      "cell_type": "code",
      "execution_count": 3,
      "metadata": {
        "id": "jRUUJd2CJW3s"
      },
      "outputs": [],
      "source": [
        "# приклад як викликати документацію, якщо у Вас pandas імпортований як pd\n",
        "# ? pd.DataFrame.info"
      ]
    },
    {
      "cell_type": "code",
      "execution_count": 4,
      "metadata": {},
      "outputs": [
        {
          "name": "stdout",
          "output_type": "stream",
          "text": [
            "<class 'pandas.core.frame.DataFrame'>\n",
            "RangeIndex: 100 entries, 0 to 99\n",
            "Data columns (total 13 columns):\n",
            " #   Column             Non-Null Count  Dtype \n",
            "---  ------             --------------  ----- \n",
            " 0   Car_ID             100 non-null    int64 \n",
            " 1   Brand              100 non-null    object\n",
            " 2   Model              100 non-null    object\n",
            " 3   Year               100 non-null    int64 \n",
            " 4   Kilometers_Driven  100 non-null    int64 \n",
            " 5   Fuel_Type          100 non-null    object\n",
            " 6   Transmission       100 non-null    object\n",
            " 7   Owner_Type         100 non-null    object\n",
            " 8   Mileage            100 non-null    int64 \n",
            " 9   Engine             100 non-null    int64 \n",
            " 10  Power              100 non-null    int64 \n",
            " 11  Seats              100 non-null    int64 \n",
            " 12  Price              100 non-null    int64 \n",
            "dtypes: int64(8), object(5)\n",
            "memory usage: 10.3+ KB\n"
          ]
        }
      ],
      "source": [
        "cars.info()"
      ]
    },
    {
      "cell_type": "code",
      "execution_count": 5,
      "metadata": {},
      "outputs": [
        {
          "data": {
            "text/plain": [
              "Brand           11\n",
              "Model           58\n",
              "Fuel_Type        2\n",
              "Transmission     2\n",
              "Owner_Type       3\n",
              "dtype: int64"
            ]
          },
          "execution_count": 5,
          "metadata": {},
          "output_type": "execute_result"
        }
      ],
      "source": [
        "cars.select_dtypes(include='object').nunique()"
      ]
    },
    {
      "cell_type": "code",
      "execution_count": 6,
      "metadata": {},
      "outputs": [
        {
          "name": "stdout",
          "output_type": "stream",
          "text": [
            "Brand ['Toyota' 'Honda' 'Ford' 'Maruti' 'Hyundai']\n",
            "Model ['Corolla' 'Civic' 'Mustang' 'Swift' 'Sonata']\n",
            "Fuel_Type ['Petrol' 'Diesel']\n",
            "Transmission ['Manual' 'Automatic']\n",
            "Owner_Type ['First' 'Second' 'Third']\n"
          ]
        }
      ],
      "source": [
        "for col in cars.select_dtypes(include='object').columns:\n",
        "    print(col, cars[col].unique()[:5])"
      ]
    },
    {
      "cell_type": "markdown",
      "metadata": {},
      "source": [
        "There are 8 numerical columns and 5 categorical columns in the dataset:\n",
        "- 2 binary columns with only two unique values (`Fuel_Type` and `Transmission`)\n",
        "- 2 multicategorical columns (more than 2 unique values) with values, that don't have inherent order\n",
        "- 1 column with ordinal features (`Owner_Type` with unique values `First` > `Second` > `Third`)"
      ]
    },
    {
      "cell_type": "markdown",
      "metadata": {
        "id": "feZvNdSXO-tn"
      },
      "source": [
        "## **Завдання 3**.\n",
        "\n",
        "Розділіть дані на тренувальні і тест. Відведіть в тест 20%, поставте `random_state=12`. Ми будемо передбачати колонку `Price` - тож, вона є цільовою змінною. В результаті у Вас має бути 4 набори даних `X_train, X_test, y_train, y_test`.\n",
        "\n",
        "Надалі ми всюди тренуємо методи для кодування, масштабування та саму модель тільки на тренувальних даних X_train (та y_train для моделі), а на тестувальних лише використовуємо вже навчені методи для кодування, масштабування і модель викликаючи в них `transform()` (для методів обробки даних) або `predict()` (для моделі).\n",
        "\n",
        "І так само треба робити завжди."
      ]
    },
    {
      "cell_type": "code",
      "execution_count": 7,
      "metadata": {
        "id": "lkugT6mmfM2p"
      },
      "outputs": [],
      "source": [
        "inputs, target = cars.drop(columns=['Price', 'Car_ID']), cars['Price']\n",
        "X_train, X_test, y_train, y_test = train_test_split(inputs, target,\n",
        "                                                    test_size=0.2,\n",
        "                                                    random_state=12)"
      ]
    },
    {
      "cell_type": "code",
      "execution_count": 8,
      "metadata": {},
      "outputs": [
        {
          "name": "stdout",
          "output_type": "stream",
          "text": [
            "X_train: (80, 11), y_train: (80,)\n",
            "X_test: (20, 11), y_test: (20,)\n"
          ]
        }
      ],
      "source": [
        "print(f'X_train: {X_train.shape}, y_train: {y_train.shape}')\n",
        "print(f'X_test: {X_test.shape}, y_test: {y_test.shape}')"
      ]
    },
    {
      "cell_type": "markdown",
      "metadata": {},
      "source": [
        "Save the numeric column names for future work."
      ]
    },
    {
      "cell_type": "code",
      "execution_count": 9,
      "metadata": {},
      "outputs": [
        {
          "data": {
            "text/plain": [
              "['Year', 'Kilometers_Driven', 'Mileage', 'Engine', 'Power', 'Seats']"
            ]
          },
          "execution_count": 9,
          "metadata": {},
          "output_type": "execute_result"
        }
      ],
      "source": [
        "num_cols = X_train.select_dtypes(include='number').columns.to_list()\n",
        "num_cols"
      ]
    },
    {
      "cell_type": "markdown",
      "metadata": {
        "id": "EvzXSbIxKBwR"
      },
      "source": [
        "## **Завдання 4**.\n",
        "Кодуємо категоріальні колонки.\n",
        "\n",
        "1. Закодуйте колонки з бінарними значеннями `Fuel_Type` і `Transmission` так, аби вони були у чисельному представленні і містили лише 0 так 1. Приклад був у лекції. Значення 1 нехай буде у категорії, яка містить більше значень в колонці.\n",
        "\n",
        "2. Закодуйте колонку `Brand` з використанням `sklearn.preprocessing.OneHotEncoder` аналогічно до того, як ми робили це в лекції. Увага! Ми робимо виклик методу `Encoder.fit()` на тренувальних даних `X_train`, а на тестувальних тільки викликаємо `Encoder.transform()`. Додайте закодовані значення в набори даних `X_train`, `X_test`.\n",
        "\n",
        "3. Колонку `Owner_Type` з використанням `sklearn.preprocessing.OrdinalEncoder` я закодую для вас. Проаналізуйте, що відбувається.\n",
        "\n",
        "Колонка `Model` містять забагато значень для кодування в тому вигляді, як вона є зараз, з огляду на невелику кількість даних. Якщо ви бачите, як можна згрупувати значення в цій колонці скоротивши кількість унікальних значень до 3-5, то можете виконати ще цю трансформацію, використати цю колонку в моделі і отримати додаткову практику і бал, якщо все буде зроблено правильно. А якщо неправильно - то фідбек на Вашу роботу :)"
      ]
    },
    {
      "cell_type": "markdown",
      "metadata": {},
      "source": [
        "### 4.1.1 Encoding the `Fuel_Type` column"
      ]
    },
    {
      "cell_type": "code",
      "execution_count": 10,
      "metadata": {
        "id": "oKrg78cYfzBh"
      },
      "outputs": [
        {
          "data": {
            "text/plain": [
              "array(['Petrol', 'Diesel'], dtype=object)"
            ]
          },
          "execution_count": 10,
          "metadata": {},
          "output_type": "execute_result"
        }
      ],
      "source": [
        "inputs.Fuel_Type.unique()"
      ]
    },
    {
      "cell_type": "code",
      "execution_count": 11,
      "metadata": {},
      "outputs": [
        {
          "data": {
            "image/png": "[encoded data removed]",
            "text/plain": [
              "<Figure size 640x480 with 1 Axes>"
            ]
          },
          "metadata": {},
          "output_type": "display_data"
        }
      ],
      "source": [
        "sns.countplot(data=inputs, x='Fuel_Type', color='tan')\n",
        "plt.show()"
      ]
    },
    {
      "cell_type": "code",
      "execution_count": 12,
      "metadata": {},
      "outputs": [
        {
          "data": {
            "text/plain": [
              "is_petrol\n",
              "1    41\n",
              "0    39\n",
              "Name: count, dtype: int64"
            ]
          },
          "execution_count": 12,
          "metadata": {},
          "output_type": "execute_result"
        }
      ],
      "source": [
        "fuel_type_codes = {'Diesel': 0, 'Petrol': 1}\n",
        "X_train['is_petrol'] = X_train.Fuel_Type.map(fuel_type_codes)\n",
        "X_train['is_petrol'].value_counts()"
      ]
    },
    {
      "cell_type": "code",
      "execution_count": 13,
      "metadata": {},
      "outputs": [],
      "source": [
        "X_test['is_petrol'] = X_test.Fuel_Type.map(fuel_type_codes)"
      ]
    },
    {
      "cell_type": "code",
      "execution_count": 14,
      "metadata": {},
      "outputs": [],
      "source": [
        "del X_train['Fuel_Type']\n",
        "del X_test['Fuel_Type']"
      ]
    },
    {
      "cell_type": "markdown",
      "metadata": {},
      "source": [
        "### 4.1.2 Encoding the `Transmission` column"
      ]
    },
    {
      "cell_type": "code",
      "execution_count": 15,
      "metadata": {},
      "outputs": [
        {
          "data": {
            "image/png": "[encoded data removed]",
            "text/plain": [
              "<Figure size 640x480 with 1 Axes>"
            ]
          },
          "metadata": {},
          "output_type": "display_data"
        }
      ],
      "source": [
        "sns.countplot(data=inputs, x='Transmission', color='tan')\n",
        "plt.show()"
      ]
    },
    {
      "cell_type": "code",
      "execution_count": 16,
      "metadata": {},
      "outputs": [
        {
          "data": {
            "text/plain": [
              "is_automatic\n",
              "1    49\n",
              "0    31\n",
              "Name: count, dtype: int64"
            ]
          },
          "execution_count": 16,
          "metadata": {},
          "output_type": "execute_result"
        }
      ],
      "source": [
        "transmission_codes = {'Automatic': 1, 'Manual': 0}\n",
        "X_train['is_automatic'] = X_train.Transmission.map(transmission_codes)\n",
        "X_train['is_automatic'].value_counts()"
      ]
    },
    {
      "cell_type": "code",
      "execution_count": 17,
      "metadata": {},
      "outputs": [],
      "source": [
        "X_test['is_automatic'] = X_test.Transmission.map(transmission_codes)"
      ]
    },
    {
      "cell_type": "code",
      "execution_count": 18,
      "metadata": {},
      "outputs": [],
      "source": [
        "del X_train['Transmission']\n",
        "del X_test['Transmission']"
      ]
    },
    {
      "cell_type": "markdown",
      "metadata": {},
      "source": [
        "### 4.2. `OneHotEncoder` for the `Brand` column\n",
        "\n",
        "з використанням `sklearn.preprocessing.OneHotEncoder` аналогічно до того, як ми робили це в лекції. Увага! Ми робимо виклик методу `Encoder.fit()` на тренувальних даних `X_train`, а на тестувальних тільки викликаємо `Encoder.transform()`. Додайте закодовані значення в набори даних `X_train`, `X_test`."
      ]
    },
    {
      "cell_type": "code",
      "execution_count": 19,
      "metadata": {},
      "outputs": [
        {
          "data": {
            "image/png": "[encoded data removed]",
            "text/plain": [
              "<Figure size 640x480 with 1 Axes>"
            ]
          },
          "metadata": {},
          "output_type": "display_data"
        }
      ],
      "source": [
        "sns.barplot(x=inputs.Brand, y=target, color='tan')\n",
        "plt.xticks(rotation=90)\n",
        "plt.show()"
      ]
    },
    {
      "cell_type": "code",
      "execution_count": 20,
      "metadata": {},
      "outputs": [
        {
          "data": {
            "text/plain": [
              "[array(['Audi', 'BMW', 'Ford', 'Honda', 'Hyundai', 'Mahindra', 'Maruti',\n",
              "        'Mercedes', 'Tata', 'Toyota', 'Volkswagen'], dtype=object)]"
            ]
          },
          "execution_count": 20,
          "metadata": {},
          "output_type": "execute_result"
        }
      ],
      "source": [
        "enc = OneHotEncoder(dtype='int').fit(X_train[['Brand']])\n",
        "enc.categories_"
      ]
    },
    {
      "cell_type": "code",
      "execution_count": 21,
      "metadata": {},
      "outputs": [],
      "source": [
        "one_hot_train = enc.transform(X_train[['Brand']]).toarray()\n",
        "one_hot_test = enc.transform(X_test[['Brand']]).toarray()"
      ]
    },
    {
      "cell_type": "code",
      "execution_count": 22,
      "metadata": {},
      "outputs": [],
      "source": [
        "X_train[enc.categories_[0]] = one_hot_train\n",
        "X_test[enc.categories_[0]] = one_hot_test"
      ]
    },
    {
      "cell_type": "code",
      "execution_count": 23,
      "metadata": {},
      "outputs": [
        {
          "data": {
            "text/html": [
              "<div>\n",
              "<style scoped>\n",
              "    .dataframe tbody tr th:only-of-type {\n",
              "        vertical-align: middle;\n",
              "    }\n",
              "\n",
              "    .dataframe tbody tr th {\n",
              "        vertical-align: top;\n",
              "    }\n",
              "\n",
              "    .dataframe thead th {\n",
              "        text-align: right;\n",
              "    }\n",
              "</style>\n",
              "<table border=\"1\" class=\"dataframe\">\n",
              "  <thead>\n",
              "    <tr style=\"text-align: right;\">\n",
              "      <th></th>\n",
              "      <th>Brand</th>\n",
              "      <th>Model</th>\n",
              "      <th>Year</th>\n",
              "      <th>Kilometers_Driven</th>\n",
              "      <th>Owner_Type</th>\n",
              "      <th>Mileage</th>\n",
              "      <th>Engine</th>\n",
              "      <th>Power</th>\n",
              "      <th>Seats</th>\n",
              "      <th>is_petrol</th>\n",
              "      <th>is_automatic</th>\n",
              "      <th>Audi</th>\n",
              "      <th>BMW</th>\n",
              "      <th>Ford</th>\n",
              "      <th>Honda</th>\n",
              "      <th>Hyundai</th>\n",
              "      <th>Mahindra</th>\n",
              "      <th>Maruti</th>\n",
              "      <th>Mercedes</th>\n",
              "      <th>Tata</th>\n",
              "      <th>Toyota</th>\n",
              "      <th>Volkswagen</th>\n",
              "    </tr>\n",
              "  </thead>\n",
              "  <tbody>\n",
              "    <tr>\n",
              "      <th>83</th>\n",
              "      <td>Volkswagen</td>\n",
              "      <td>T-Roc</td>\n",
              "      <td>2019</td>\n",
              "      <td>22000</td>\n",
              "      <td>Second</td>\n",
              "      <td>18</td>\n",
              "      <td>1498</td>\n",
              "      <td>148</td>\n",
              "      <td>5</td>\n",
              "      <td>1</td>\n",
              "      <td>1</td>\n",
              "      <td>0</td>\n",
              "      <td>0</td>\n",
              "      <td>0</td>\n",
              "      <td>0</td>\n",
              "      <td>0</td>\n",
              "      <td>0</td>\n",
              "      <td>0</td>\n",
              "      <td>0</td>\n",
              "      <td>0</td>\n",
              "      <td>0</td>\n",
              "      <td>1</td>\n",
              "    </tr>\n",
              "    <tr>\n",
              "      <th>55</th>\n",
              "      <td>Audi</td>\n",
              "      <td>A5</td>\n",
              "      <td>2018</td>\n",
              "      <td>28000</td>\n",
              "      <td>First</td>\n",
              "      <td>17</td>\n",
              "      <td>1968</td>\n",
              "      <td>187</td>\n",
              "      <td>5</td>\n",
              "      <td>0</td>\n",
              "      <td>1</td>\n",
              "      <td>1</td>\n",
              "      <td>0</td>\n",
              "      <td>0</td>\n",
              "      <td>0</td>\n",
              "      <td>0</td>\n",
              "      <td>0</td>\n",
              "      <td>0</td>\n",
              "      <td>0</td>\n",
              "      <td>0</td>\n",
              "      <td>0</td>\n",
              "      <td>0</td>\n",
              "    </tr>\n",
              "    <tr>\n",
              "      <th>26</th>\n",
              "      <td>Audi</td>\n",
              "      <td>A6</td>\n",
              "      <td>2018</td>\n",
              "      <td>28000</td>\n",
              "      <td>First</td>\n",
              "      <td>15</td>\n",
              "      <td>1984</td>\n",
              "      <td>241</td>\n",
              "      <td>5</td>\n",
              "      <td>1</td>\n",
              "      <td>1</td>\n",
              "      <td>1</td>\n",
              "      <td>0</td>\n",
              "      <td>0</td>\n",
              "      <td>0</td>\n",
              "      <td>0</td>\n",
              "      <td>0</td>\n",
              "      <td>0</td>\n",
              "      <td>0</td>\n",
              "      <td>0</td>\n",
              "      <td>0</td>\n",
              "      <td>0</td>\n",
              "    </tr>\n",
              "    <tr>\n",
              "      <th>54</th>\n",
              "      <td>Volkswagen</td>\n",
              "      <td>Vento</td>\n",
              "      <td>2017</td>\n",
              "      <td>32000</td>\n",
              "      <td>Second</td>\n",
              "      <td>18</td>\n",
              "      <td>1598</td>\n",
              "      <td>103</td>\n",
              "      <td>5</td>\n",
              "      <td>1</td>\n",
              "      <td>0</td>\n",
              "      <td>0</td>\n",
              "      <td>0</td>\n",
              "      <td>0</td>\n",
              "      <td>0</td>\n",
              "      <td>0</td>\n",
              "      <td>0</td>\n",
              "      <td>0</td>\n",
              "      <td>0</td>\n",
              "      <td>0</td>\n",
              "      <td>0</td>\n",
              "      <td>1</td>\n",
              "    </tr>\n",
              "    <tr>\n",
              "      <th>19</th>\n",
              "      <td>Mercedes</td>\n",
              "      <td>GLC</td>\n",
              "      <td>2017</td>\n",
              "      <td>26000</td>\n",
              "      <td>Second</td>\n",
              "      <td>12</td>\n",
              "      <td>1991</td>\n",
              "      <td>241</td>\n",
              "      <td>5</td>\n",
              "      <td>1</td>\n",
              "      <td>1</td>\n",
              "      <td>0</td>\n",
              "      <td>0</td>\n",
              "      <td>0</td>\n",
              "      <td>0</td>\n",
              "      <td>0</td>\n",
              "      <td>0</td>\n",
              "      <td>0</td>\n",
              "      <td>1</td>\n",
              "      <td>0</td>\n",
              "      <td>0</td>\n",
              "      <td>0</td>\n",
              "    </tr>\n",
              "  </tbody>\n",
              "</table>\n",
              "</div>"
            ],
            "text/plain": [
              "         Brand  Model  Year  Kilometers_Driven Owner_Type  Mileage  Engine  \\\n",
              "83  Volkswagen  T-Roc  2019              22000     Second       18    1498   \n",
              "55        Audi     A5  2018              28000      First       17    1968   \n",
              "26        Audi     A6  2018              28000      First       15    1984   \n",
              "54  Volkswagen  Vento  2017              32000     Second       18    1598   \n",
              "19    Mercedes    GLC  2017              26000     Second       12    1991   \n",
              "\n",
              "    Power  Seats  is_petrol  is_automatic  Audi  BMW  Ford  Honda  Hyundai  \\\n",
              "83    148      5          1             1     0    0     0      0        0   \n",
              "55    187      5          0             1     1    0     0      0        0   \n",
              "26    241      5          1             1     1    0     0      0        0   \n",
              "54    103      5          1             0     0    0     0      0        0   \n",
              "19    241      5          1             1     0    0     0      0        0   \n",
              "\n",
              "    Mahindra  Maruti  Mercedes  Tata  Toyota  Volkswagen  \n",
              "83         0       0         0     0       0           1  \n",
              "55         0       0         0     0       0           0  \n",
              "26         0       0         0     0       0           0  \n",
              "54         0       0         0     0       0           1  \n",
              "19         0       0         1     0       0           0  "
            ]
          },
          "execution_count": 23,
          "metadata": {},
          "output_type": "execute_result"
        }
      ],
      "source": [
        "X_train.head()"
      ]
    },
    {
      "cell_type": "code",
      "execution_count": 24,
      "metadata": {},
      "outputs": [],
      "source": [
        "del X_train['Brand']\n",
        "del X_test['Brand']"
      ]
    },
    {
      "cell_type": "markdown",
      "metadata": {},
      "source": [
        "### 4.3. `OrdinalEncoder` for `Owner_Type` column"
      ]
    },
    {
      "cell_type": "code",
      "execution_count": 25,
      "metadata": {},
      "outputs": [
        {
          "data": {
            "image/png": "[encoded data removed]",
            "text/plain": [
              "<Figure size 640x480 with 1 Axes>"
            ]
          },
          "metadata": {},
          "output_type": "display_data"
        }
      ],
      "source": [
        "sns.barplot(x=inputs.Owner_Type, y=target, color='tan')\n",
        "plt.xticks(rotation=90)\n",
        "plt.show()"
      ]
    },
    {
      "cell_type": "code",
      "execution_count": 26,
      "metadata": {
        "id": "tU3uA6kNOkzb"
      },
      "outputs": [],
      "source": [
        "ordenc = OrdinalEncoder(categories=[['First', 'Second', 'Third']], dtype='int')\n",
        "ordenc.fit(X_train[['Owner_Type']])\n",
        "\n",
        "X_train['Owner_Type_Codes'] = ordenc.transform(X_train[['Owner_Type']])\n",
        "X_test['Owner_Type_Codes'] = ordenc.transform(X_test[['Owner_Type']])"
      ]
    },
    {
      "cell_type": "code",
      "execution_count": 27,
      "metadata": {},
      "outputs": [
        {
          "data": {
            "text/plain": [
              "Owner_Type_Codes\n",
              "1    36\n",
              "0    36\n",
              "2     8\n",
              "Name: count, dtype: int64"
            ]
          },
          "execution_count": 27,
          "metadata": {},
          "output_type": "execute_result"
        }
      ],
      "source": [
        "X_train['Owner_Type_Codes'].value_counts()"
      ]
    },
    {
      "cell_type": "markdown",
      "metadata": {},
      "source": [
        "For the `Owner_Type` column, we use `OrdinalEncoder`, which is the categorical feature that exhibits a clear and meaningful order `First` > `Second` > `Third`.\n",
        "\n",
        "Ordinal encoding will assign integer values as follows:\n",
        "- `First` → 0\n",
        "- `Second` → 1\n",
        "- `Third` → 2"
      ]
    },
    {
      "cell_type": "markdown",
      "metadata": {
        "id": "P-woc2oUSZu4"
      },
      "source": [
        "The result after encoding:"
      ]
    },
    {
      "cell_type": "code",
      "execution_count": 28,
      "metadata": {
        "colab": {
          "base_uri": "https://localhost:8080/",
          "height": 432
        },
        "id": "brxPGShISEhz",
        "outputId": "ae807da8-6694-4951-8c8c-69d1e96733d0"
      },
      "outputs": [
        {
          "data": {
            "text/html": [
              "<div>\n",
              "<style scoped>\n",
              "    .dataframe tbody tr th:only-of-type {\n",
              "        vertical-align: middle;\n",
              "    }\n",
              "\n",
              "    .dataframe tbody tr th {\n",
              "        vertical-align: top;\n",
              "    }\n",
              "\n",
              "    .dataframe thead th {\n",
              "        text-align: right;\n",
              "    }\n",
              "</style>\n",
              "<table border=\"1\" class=\"dataframe\">\n",
              "  <thead>\n",
              "    <tr style=\"text-align: right;\">\n",
              "      <th></th>\n",
              "      <th>Model</th>\n",
              "      <th>Year</th>\n",
              "      <th>Kilometers_Driven</th>\n",
              "      <th>Owner_Type</th>\n",
              "      <th>Mileage</th>\n",
              "      <th>Engine</th>\n",
              "      <th>Power</th>\n",
              "      <th>Seats</th>\n",
              "      <th>is_petrol</th>\n",
              "      <th>is_automatic</th>\n",
              "      <th>Audi</th>\n",
              "      <th>BMW</th>\n",
              "      <th>Ford</th>\n",
              "      <th>Honda</th>\n",
              "      <th>Hyundai</th>\n",
              "      <th>Mahindra</th>\n",
              "      <th>Maruti</th>\n",
              "      <th>Mercedes</th>\n",
              "      <th>Tata</th>\n",
              "      <th>Toyota</th>\n",
              "      <th>Volkswagen</th>\n",
              "      <th>Owner_Type_Codes</th>\n",
              "    </tr>\n",
              "  </thead>\n",
              "  <tbody>\n",
              "    <tr>\n",
              "      <th>83</th>\n",
              "      <td>T-Roc</td>\n",
              "      <td>2019</td>\n",
              "      <td>22000</td>\n",
              "      <td>Second</td>\n",
              "      <td>18</td>\n",
              "      <td>1498</td>\n",
              "      <td>148</td>\n",
              "      <td>5</td>\n",
              "      <td>1</td>\n",
              "      <td>1</td>\n",
              "      <td>0</td>\n",
              "      <td>0</td>\n",
              "      <td>0</td>\n",
              "      <td>0</td>\n",
              "      <td>0</td>\n",
              "      <td>0</td>\n",
              "      <td>0</td>\n",
              "      <td>0</td>\n",
              "      <td>0</td>\n",
              "      <td>0</td>\n",
              "      <td>1</td>\n",
              "      <td>1</td>\n",
              "    </tr>\n",
              "    <tr>\n",
              "      <th>55</th>\n",
              "      <td>A5</td>\n",
              "      <td>2018</td>\n",
              "      <td>28000</td>\n",
              "      <td>First</td>\n",
              "      <td>17</td>\n",
              "      <td>1968</td>\n",
              "      <td>187</td>\n",
              "      <td>5</td>\n",
              "      <td>0</td>\n",
              "      <td>1</td>\n",
              "      <td>1</td>\n",
              "      <td>0</td>\n",
              "      <td>0</td>\n",
              "      <td>0</td>\n",
              "      <td>0</td>\n",
              "      <td>0</td>\n",
              "      <td>0</td>\n",
              "      <td>0</td>\n",
              "      <td>0</td>\n",
              "      <td>0</td>\n",
              "      <td>0</td>\n",
              "      <td>0</td>\n",
              "    </tr>\n",
              "    <tr>\n",
              "      <th>26</th>\n",
              "      <td>A6</td>\n",
              "      <td>2018</td>\n",
              "      <td>28000</td>\n",
              "      <td>First</td>\n",
              "      <td>15</td>\n",
              "      <td>1984</td>\n",
              "      <td>241</td>\n",
              "      <td>5</td>\n",
              "      <td>1</td>\n",
              "      <td>1</td>\n",
              "      <td>1</td>\n",
              "      <td>0</td>\n",
              "      <td>0</td>\n",
              "      <td>0</td>\n",
              "      <td>0</td>\n",
              "      <td>0</td>\n",
              "      <td>0</td>\n",
              "      <td>0</td>\n",
              "      <td>0</td>\n",
              "      <td>0</td>\n",
              "      <td>0</td>\n",
              "      <td>0</td>\n",
              "    </tr>\n",
              "    <tr>\n",
              "      <th>54</th>\n",
              "      <td>Vento</td>\n",
              "      <td>2017</td>\n",
              "      <td>32000</td>\n",
              "      <td>Second</td>\n",
              "      <td>18</td>\n",
              "      <td>1598</td>\n",
              "      <td>103</td>\n",
              "      <td>5</td>\n",
              "      <td>1</td>\n",
              "      <td>0</td>\n",
              "      <td>0</td>\n",
              "      <td>0</td>\n",
              "      <td>0</td>\n",
              "      <td>0</td>\n",
              "      <td>0</td>\n",
              "      <td>0</td>\n",
              "      <td>0</td>\n",
              "      <td>0</td>\n",
              "      <td>0</td>\n",
              "      <td>0</td>\n",
              "      <td>1</td>\n",
              "      <td>1</td>\n",
              "    </tr>\n",
              "    <tr>\n",
              "      <th>19</th>\n",
              "      <td>GLC</td>\n",
              "      <td>2017</td>\n",
              "      <td>26000</td>\n",
              "      <td>Second</td>\n",
              "      <td>12</td>\n",
              "      <td>1991</td>\n",
              "      <td>241</td>\n",
              "      <td>5</td>\n",
              "      <td>1</td>\n",
              "      <td>1</td>\n",
              "      <td>0</td>\n",
              "      <td>0</td>\n",
              "      <td>0</td>\n",
              "      <td>0</td>\n",
              "      <td>0</td>\n",
              "      <td>0</td>\n",
              "      <td>0</td>\n",
              "      <td>1</td>\n",
              "      <td>0</td>\n",
              "      <td>0</td>\n",
              "      <td>0</td>\n",
              "      <td>1</td>\n",
              "    </tr>\n",
              "  </tbody>\n",
              "</table>\n",
              "</div>"
            ],
            "text/plain": [
              "    Model  Year  Kilometers_Driven Owner_Type  Mileage  Engine  Power  Seats  \\\n",
              "83  T-Roc  2019              22000     Second       18    1498    148      5   \n",
              "55     A5  2018              28000      First       17    1968    187      5   \n",
              "26     A6  2018              28000      First       15    1984    241      5   \n",
              "54  Vento  2017              32000     Second       18    1598    103      5   \n",
              "19    GLC  2017              26000     Second       12    1991    241      5   \n",
              "\n",
              "    is_petrol  is_automatic  Audi  BMW  Ford  Honda  Hyundai  Mahindra  \\\n",
              "83          1             1     0    0     0      0        0         0   \n",
              "55          0             1     1    0     0      0        0         0   \n",
              "26          1             1     1    0     0      0        0         0   \n",
              "54          1             0     0    0     0      0        0         0   \n",
              "19          1             1     0    0     0      0        0         0   \n",
              "\n",
              "    Maruti  Mercedes  Tata  Toyota  Volkswagen  Owner_Type_Codes  \n",
              "83       0         0     0       0           1                 1  \n",
              "55       0         0     0       0           0                 0  \n",
              "26       0         0     0       0           0                 0  \n",
              "54       0         0     0       0           1                 1  \n",
              "19       0         1     0       0           0                 1  "
            ]
          },
          "metadata": {},
          "output_type": "display_data"
        },
        {
          "data": {
            "text/html": [
              "<div>\n",
              "<style scoped>\n",
              "    .dataframe tbody tr th:only-of-type {\n",
              "        vertical-align: middle;\n",
              "    }\n",
              "\n",
              "    .dataframe tbody tr th {\n",
              "        vertical-align: top;\n",
              "    }\n",
              "\n",
              "    .dataframe thead th {\n",
              "        text-align: right;\n",
              "    }\n",
              "</style>\n",
              "<table border=\"1\" class=\"dataframe\">\n",
              "  <thead>\n",
              "    <tr style=\"text-align: right;\">\n",
              "      <th></th>\n",
              "      <th>Model</th>\n",
              "      <th>Year</th>\n",
              "      <th>Kilometers_Driven</th>\n",
              "      <th>Owner_Type</th>\n",
              "      <th>Mileage</th>\n",
              "      <th>Engine</th>\n",
              "      <th>Power</th>\n",
              "      <th>Seats</th>\n",
              "      <th>is_petrol</th>\n",
              "      <th>is_automatic</th>\n",
              "      <th>Audi</th>\n",
              "      <th>BMW</th>\n",
              "      <th>Ford</th>\n",
              "      <th>Honda</th>\n",
              "      <th>Hyundai</th>\n",
              "      <th>Mahindra</th>\n",
              "      <th>Maruti</th>\n",
              "      <th>Mercedes</th>\n",
              "      <th>Tata</th>\n",
              "      <th>Toyota</th>\n",
              "      <th>Volkswagen</th>\n",
              "      <th>Owner_Type_Codes</th>\n",
              "    </tr>\n",
              "  </thead>\n",
              "  <tbody>\n",
              "    <tr>\n",
              "      <th>17</th>\n",
              "      <td>Q3</td>\n",
              "      <td>2016</td>\n",
              "      <td>38000</td>\n",
              "      <td>Second</td>\n",
              "      <td>15</td>\n",
              "      <td>1395</td>\n",
              "      <td>148</td>\n",
              "      <td>5</td>\n",
              "      <td>1</td>\n",
              "      <td>1</td>\n",
              "      <td>1</td>\n",
              "      <td>0</td>\n",
              "      <td>0</td>\n",
              "      <td>0</td>\n",
              "      <td>0</td>\n",
              "      <td>0</td>\n",
              "      <td>0</td>\n",
              "      <td>0</td>\n",
              "      <td>0</td>\n",
              "      <td>0</td>\n",
              "      <td>0</td>\n",
              "      <td>1</td>\n",
              "    </tr>\n",
              "    <tr>\n",
              "      <th>41</th>\n",
              "      <td>Santro</td>\n",
              "      <td>2019</td>\n",
              "      <td>26000</td>\n",
              "      <td>Third</td>\n",
              "      <td>20</td>\n",
              "      <td>1086</td>\n",
              "      <td>68</td>\n",
              "      <td>5</td>\n",
              "      <td>1</td>\n",
              "      <td>0</td>\n",
              "      <td>0</td>\n",
              "      <td>0</td>\n",
              "      <td>0</td>\n",
              "      <td>0</td>\n",
              "      <td>1</td>\n",
              "      <td>0</td>\n",
              "      <td>0</td>\n",
              "      <td>0</td>\n",
              "      <td>0</td>\n",
              "      <td>0</td>\n",
              "      <td>0</td>\n",
              "      <td>2</td>\n",
              "    </tr>\n",
              "    <tr>\n",
              "      <th>92</th>\n",
              "      <td>Vento</td>\n",
              "      <td>2017</td>\n",
              "      <td>32000</td>\n",
              "      <td>Second</td>\n",
              "      <td>18</td>\n",
              "      <td>1598</td>\n",
              "      <td>103</td>\n",
              "      <td>5</td>\n",
              "      <td>1</td>\n",
              "      <td>0</td>\n",
              "      <td>0</td>\n",
              "      <td>0</td>\n",
              "      <td>0</td>\n",
              "      <td>0</td>\n",
              "      <td>0</td>\n",
              "      <td>0</td>\n",
              "      <td>0</td>\n",
              "      <td>0</td>\n",
              "      <td>0</td>\n",
              "      <td>0</td>\n",
              "      <td>1</td>\n",
              "      <td>1</td>\n",
              "    </tr>\n",
              "    <tr>\n",
              "      <th>14</th>\n",
              "      <td>Ertiga</td>\n",
              "      <td>2020</td>\n",
              "      <td>18000</td>\n",
              "      <td>First</td>\n",
              "      <td>19</td>\n",
              "      <td>1462</td>\n",
              "      <td>103</td>\n",
              "      <td>7</td>\n",
              "      <td>1</td>\n",
              "      <td>0</td>\n",
              "      <td>0</td>\n",
              "      <td>0</td>\n",
              "      <td>0</td>\n",
              "      <td>0</td>\n",
              "      <td>0</td>\n",
              "      <td>0</td>\n",
              "      <td>1</td>\n",
              "      <td>0</td>\n",
              "      <td>0</td>\n",
              "      <td>0</td>\n",
              "      <td>0</td>\n",
              "      <td>0</td>\n",
              "    </tr>\n",
              "    <tr>\n",
              "      <th>68</th>\n",
              "      <td>Aspire</td>\n",
              "      <td>2019</td>\n",
              "      <td>26000</td>\n",
              "      <td>Third</td>\n",
              "      <td>20</td>\n",
              "      <td>1194</td>\n",
              "      <td>94</td>\n",
              "      <td>5</td>\n",
              "      <td>1</td>\n",
              "      <td>0</td>\n",
              "      <td>0</td>\n",
              "      <td>0</td>\n",
              "      <td>1</td>\n",
              "      <td>0</td>\n",
              "      <td>0</td>\n",
              "      <td>0</td>\n",
              "      <td>0</td>\n",
              "      <td>0</td>\n",
              "      <td>0</td>\n",
              "      <td>0</td>\n",
              "      <td>0</td>\n",
              "      <td>2</td>\n",
              "    </tr>\n",
              "  </tbody>\n",
              "</table>\n",
              "</div>"
            ],
            "text/plain": [
              "     Model  Year  Kilometers_Driven Owner_Type  Mileage  Engine  Power  Seats  \\\n",
              "17      Q3  2016              38000     Second       15    1395    148      5   \n",
              "41  Santro  2019              26000      Third       20    1086     68      5   \n",
              "92   Vento  2017              32000     Second       18    1598    103      5   \n",
              "14  Ertiga  2020              18000      First       19    1462    103      7   \n",
              "68  Aspire  2019              26000      Third       20    1194     94      5   \n",
              "\n",
              "    is_petrol  is_automatic  Audi  BMW  Ford  Honda  Hyundai  Mahindra  \\\n",
              "17          1             1     1    0     0      0        0         0   \n",
              "41          1             0     0    0     0      0        1         0   \n",
              "92          1             0     0    0     0      0        0         0   \n",
              "14          1             0     0    0     0      0        0         0   \n",
              "68          1             0     0    0     1      0        0         0   \n",
              "\n",
              "    Maruti  Mercedes  Tata  Toyota  Volkswagen  Owner_Type_Codes  \n",
              "17       0         0     0       0           0                 1  \n",
              "41       0         0     0       0           0                 2  \n",
              "92       0         0     0       0           1                 1  \n",
              "14       1         0     0       0           0                 0  \n",
              "68       0         0     0       0           0                 2  "
            ]
          },
          "metadata": {},
          "output_type": "display_data"
        },
        {
          "data": {
            "text/plain": [
              "(None, None)"
            ]
          },
          "execution_count": 28,
          "metadata": {},
          "output_type": "execute_result"
        }
      ],
      "source": [
        "display(X_train.head()), display(X_test.head())"
      ]
    },
    {
      "cell_type": "code",
      "execution_count": 29,
      "metadata": {},
      "outputs": [],
      "source": [
        "del X_train['Owner_Type']\n",
        "del X_test['Owner_Type']"
      ]
    },
    {
      "cell_type": "markdown",
      "metadata": {},
      "source": [
        "### 4.4 Encoding the `Model` column\n",
        "\n",
        "Колонка `Model` містить забагато значень для кодування в тому вигляді, як вона є зараз, з огляду на невелику кількість даних. Якщо ви бачите, як можна згрупувати значення в цій колонці скоротивши кількість унікальних значень до 3-5, то можете виконати ще цю трансформацію, використати цю колонку в моделі і отримати додаткову практику і бал, якщо все буде зроблено правильно. А якщо неправильно - то фідбек на Вашу роботу :)"
      ]
    },
    {
      "cell_type": "code",
      "execution_count": 30,
      "metadata": {},
      "outputs": [
        {
          "data": {
            "text/plain": [
              "array(['Corolla', 'Civic', 'Mustang', 'Swift', 'Sonata', 'Nexon',\n",
              "       'Scorpio', 'Polo', 'A4', 'X1', 'C-Class', 'Endeavour', 'Creta',\n",
              "       'Harrier', 'Ertiga', 'City', 'Tiguan', 'Q3', '5 Series', 'GLC',\n",
              "       'Innova', 'Figo', 'Verna', 'Altroz', 'Thar', 'Passat', 'A6', 'X3',\n",
              "       'E-Class', 'Fortuner', 'Aspire', 'Elantra', 'Safari', 'Vitara',\n",
              "       'WR-V', 'Ameo', 'A3', '7 Series', 'GLE', 'Yaris', 'Ranger',\n",
              "       'Santro', 'Tigor', 'S-Cross', 'BR-V', 'T-Roc', 'Q7', 'X5', 'GLA',\n",
              "       'Camry', 'Venue', 'Tiago', 'XUV300', 'Vento', 'A5', '3 Series',\n",
              "       'Innova Crysta', 'EcoSport'], dtype=object)"
            ]
          },
          "execution_count": 30,
          "metadata": {},
          "output_type": "execute_result"
        }
      ],
      "source": [
        "inputs.Model.unique()"
      ]
    },
    {
      "cell_type": "code",
      "execution_count": 31,
      "metadata": {},
      "outputs": [
        {
          "data": {
            "text/plain": [
              "58"
            ]
          },
          "execution_count": 31,
          "metadata": {},
          "output_type": "execute_result"
        }
      ],
      "source": [
        "inputs.Model.nunique()"
      ]
    },
    {
      "cell_type": "code",
      "execution_count": 32,
      "metadata": {},
      "outputs": [
        {
          "data": {
            "image/png": "[encoded data removed]",
            "text/plain": [
              "<Figure size 1500x700 with 1 Axes>"
            ]
          },
          "metadata": {},
          "output_type": "display_data"
        }
      ],
      "source": [
        "plt.figure(figsize=(15, 7))\n",
        "sns.countplot(data=inputs, x='Model', color='tan')\n",
        "plt.xticks(rotation=90)\n",
        "plt.show()"
      ]
    },
    {
      "cell_type": "markdown",
      "metadata": {},
      "source": [
        "There are a lot of different categories, but most categories appear only 1 or 2 times, and only 4 categories appear 3 times. That's why the direct usage of target encoding may be the cause of data leakage."
      ]
    },
    {
      "cell_type": "code",
      "execution_count": 33,
      "metadata": {},
      "outputs": [
        {
          "data": {
            "image/png": "[encoded data removed]",
            "text/plain": [
              "<Figure size 1500x1200 with 11 Axes>"
            ]
          },
          "metadata": {},
          "output_type": "display_data"
        }
      ],
      "source": [
        "plt.figure(figsize=(15, 12))\n",
        "plt.subplots_adjust(hspace=0.7, wspace=0.2)\n",
        "y_lim_top = max(target)\n",
        "\n",
        "for n, col in enumerate(inputs.Brand.unique()):\n",
        "    ax = plt.subplot(7, 3, n+1)\n",
        "    ax.set_title(col, fontsize=10)\n",
        "    sns.barplot(x=inputs[inputs.Brand == col].Model,\n",
        "                y=target,\n",
        "                ax=ax,\n",
        "                color='tan')\n",
        "    ax.set_xlabel('')\n",
        "    ax.set_ylim(top=y_lim_top)\n",
        "    ax.set_ylabel('')\n",
        "    plt.xticks(fontsize=8)\n",
        "plt.show()"
      ]
    },
    {
      "cell_type": "code",
      "execution_count": 34,
      "metadata": {},
      "outputs": [],
      "source": [
        "model_df = (cars\n",
        "            .groupby(by=['Brand', 'Model'])['Price']\n",
        "            .mean()\n",
        "            .sort_values()\n",
        "            .reset_index())"
      ]
    },
    {
      "cell_type": "code",
      "execution_count": 35,
      "metadata": {},
      "outputs": [
        {
          "data": {
            "image/png": "[encoded data removed]",
            "text/plain": [
              "<Figure size 1500x700 with 1 Axes>"
            ]
          },
          "metadata": {},
          "output_type": "display_data"
        }
      ],
      "source": [
        "plt.figure(figsize=(15, 7))\n",
        "sns.barplot(data=model_df.sort_values(by='Brand'),\n",
        "            x='Model',\n",
        "            y='Price',\n",
        "            hue='Brand',\n",
        "            palette='deep'\n",
        "            )\n",
        "plt.axhline(y=target.quantile(0.25), linestyle='--', label='Q1')\n",
        "plt.axhline(y=target.quantile(0.5), linestyle='-.', color='g', label='Q2')\n",
        "plt.axhline(y=target.quantile(0.75), linestyle=':', color='r', label='Q3')\n",
        "plt.xticks(rotation=90)\n",
        "plt.legend()\n",
        "plt.show()"
      ]
    },
    {
      "cell_type": "code",
      "execution_count": 36,
      "metadata": {},
      "outputs": [
        {
          "data": {
            "application/vnd.plotly.v1+json": {
              "config": {
                "plotlyServerURL": "https://plot.ly"
              },
              "data": [
                {
                  "alignmentgroup": "True",
                  "bingroup": "x",
                  "histfunc": "sum",
                  "hovertemplate": "Model=%{x}<br>sum of Price=%{y}<extra></extra>",
                  "legendgroup": "",
                  "marker": {
                    "color": "#636efa",
                    "pattern": {
                      "shape": ""
                    }
                  },
                  "name": "",
                  "offsetgroup": "",
                  "orientation": "v",
                  "showlegend": false,
                  "type": "histogram",
                  "x": [
                    "Santro",
                    "Ameo",
                    "Tigor",
                    "Tiago",
                    "Venue",
                    "Figo",
                    "Swift",
                    "Aspire",
                    "Altroz",
                    "Polo",
                    "Vento",
                    "Yaris",
                    "City",
                    "XUV300",
                    "S-Cross",
                    "Vitara",
                    "EcoSport",
                    "Nexon",
                    "WR-V",
                    "Elantra",
                    "Corolla",
                    "Creta",
                    "BR-V",
                    "Verna",
                    "Ertiga",
                    "Sonata",
                    "Scorpio",
                    "Civic",
                    "Thar",
                    "Safari",
                    "Innova Crysta",
                    "Innova",
                    "Ranger",
                    "Passat",
                    "T-Roc",
                    "Harrier",
                    "Tiguan",
                    "Camry",
                    "Q3",
                    "Endeavour",
                    "A3",
                    "A4",
                    "GLA",
                    "Fortuner",
                    "GLC",
                    "A5",
                    "Mustang",
                    "X1",
                    "E-Class",
                    "C-Class",
                    "X3",
                    "3 Series",
                    "Q7",
                    "5 Series",
                    "A6",
                    "X5",
                    "7 Series",
                    "GLE"
                  ],
                  "xaxis": "x",
                  "y": [
                    450000,
                    500000,
                    500000,
                    500000,
                    550000,
                    550000,
                    600000,
                    600000,
                    600000,
                    650000,
                    650000,
                    650000,
                    650000,
                    700000,
                    700000,
                    700000,
                    750000,
                    750000,
                    750000,
                    800000,
                    800000,
                    850000,
                    850000,
                    850000,
                    850000,
                    850000,
                    900000,
                    1000000,
                    1200000,
                    1300000,
                    1400000,
                    1400000,
                    1500000,
                    1600000,
                    1600000,
                    1600000,
                    1800000,
                    1800000,
                    1900000,
                    2000000,
                    2000000,
                    2200000,
                    2400000,
                    2500000,
                    2500000,
                    2600000,
                    2633333.3333333335,
                    2700000,
                    2700000,
                    2700000,
                    2800000,
                    2800000,
                    3000000,
                    3000000,
                    3200000,
                    3200000,
                    3500000,
                    4000000
                  ],
                  "yaxis": "y"
                },
                {
                  "alignmentgroup": "True",
                  "hovertemplate": "Model=%{x}<extra></extra>",
                  "legendgroup": "",
                  "marker": {
                    "color": "#636efa"
                  },
                  "name": "",
                  "notched": true,
                  "offsetgroup": "",
                  "showlegend": false,
                  "type": "box",
                  "x": [
                    "Santro",
                    "Ameo",
                    "Tigor",
                    "Tiago",
                    "Venue",
                    "Figo",
                    "Swift",
                    "Aspire",
                    "Altroz",
                    "Polo",
                    "Vento",
                    "Yaris",
                    "City",
                    "XUV300",
                    "S-Cross",
                    "Vitara",
                    "EcoSport",
                    "Nexon",
                    "WR-V",
                    "Elantra",
                    "Corolla",
                    "Creta",
                    "BR-V",
                    "Verna",
                    "Ertiga",
                    "Sonata",
                    "Scorpio",
                    "Civic",
                    "Thar",
                    "Safari",
                    "Innova Crysta",
                    "Innova",
                    "Ranger",
                    "Passat",
                    "T-Roc",
                    "Harrier",
                    "Tiguan",
                    "Camry",
                    "Q3",
                    "Endeavour",
                    "A3",
                    "A4",
                    "GLA",
                    "Fortuner",
                    "GLC",
                    "A5",
                    "Mustang",
                    "X1",
                    "E-Class",
                    "C-Class",
                    "X3",
                    "3 Series",
                    "Q7",
                    "5 Series",
                    "A6",
                    "X5",
                    "7 Series",
                    "GLE"
                  ],
                  "xaxis": "x2",
                  "yaxis": "y2"
                }
              ],
              "layout": {
                "barmode": "relative",
                "legend": {
                  "tracegroupgap": 0
                },
                "margin": {
                  "t": 60
                },
                "template": {
                  "data": {
                    "bar": [
                      {
                        "error_x": {
                          "color": "#2a3f5f"
                        },
                        "error_y": {
                          "color": "#2a3f5f"
                        },
                        "marker": {
                          "line": {
                            "color": "#E5ECF6",
                            "width": 0.5
                          },
                          "pattern": {
                            "fillmode": "overlay",
                            "size": 10,
                            "solidity": 0.2
                          }
                        },
                        "type": "bar"
                      }
                    ],
                    "barpolar": [
                      {
                        "marker": {
                          "line": {
                            "color": "#E5ECF6",
                            "width": 0.5
                          },
                          "pattern": {
                            "fillmode": "overlay",
                            "size": 10,
                            "solidity": 0.2
                          }
                        },
                        "type": "barpolar"
                      }
                    ],
                    "carpet": [
                      {
                        "aaxis": {
                          "endlinecolor": "#2a3f5f",
                          "gridcolor": "white",
                          "linecolor": "white",
                          "minorgridcolor": "white",
                          "startlinecolor": "#2a3f5f"
                        },
                        "baxis": {
                          "endlinecolor": "#2a3f5f",
                          "gridcolor": "white",
                          "linecolor": "white",
                          "minorgridcolor": "white",
                          "startlinecolor": "#2a3f5f"
                        },
                        "type": "carpet"
                      }
                    ],
                    "choropleth": [
                      {
                        "colorbar": {
                          "outlinewidth": 0,
                          "ticks": ""
                        },
                        "type": "choropleth"
                      }
                    ],
                    "contour": [
                      {
                        "colorbar": {
                          "outlinewidth": 0,
                          "ticks": ""
                        },
                        "colorscale": [
                          [
                            0,
                            "#0d0887"
                          ],
                          [
                            0.1111111111111111,
                            "#46039f"
                          ],
                          [
                            0.2222222222222222,
                            "#7201a8"
                          ],
                          [
                            0.3333333333333333,
                            "#9c179e"
                          ],
                          [
                            0.4444444444444444,
                            "#bd3786"
                          ],
                          [
                            0.5555555555555556,
                            "#d8576b"
                          ],
                          [
                            0.6666666666666666,
                            "#ed7953"
                          ],
                          [
                            0.7777777777777778,
                            "#fb9f3a"
                          ],
                          [
                            0.8888888888888888,
                            "#fdca26"
                          ],
                          [
                            1,
                            "#f0f921"
                          ]
                        ],
                        "type": "contour"
                      }
                    ],
                    "contourcarpet": [
                      {
                        "colorbar": {
                          "outlinewidth": 0,
                          "ticks": ""
                        },
                        "type": "contourcarpet"
                      }
                    ],
                    "heatmap": [
                      {
                        "colorbar": {
                          "outlinewidth": 0,
                          "ticks": ""
                        },
                        "colorscale": [
                          [
                            0,
                            "#0d0887"
                          ],
                          [
                            0.1111111111111111,
                            "#46039f"
                          ],
                          [
                            0.2222222222222222,
                            "#7201a8"
                          ],
                          [
                            0.3333333333333333,
                            "#9c179e"
                          ],
                          [
                            0.4444444444444444,
                            "#bd3786"
                          ],
                          [
                            0.5555555555555556,
                            "#d8576b"
                          ],
                          [
                            0.6666666666666666,
                            "#ed7953"
                          ],
                          [
                            0.7777777777777778,
                            "#fb9f3a"
                          ],
                          [
                            0.8888888888888888,
                            "#fdca26"
                          ],
                          [
                            1,
                            "#f0f921"
                          ]
                        ],
                        "type": "heatmap"
                      }
                    ],
                    "heatmapgl": [
                      {
                        "colorbar": {
                          "outlinewidth": 0,
                          "ticks": ""
                        },
                        "colorscale": [
                          [
                            0,
                            "#0d0887"
                          ],
                          [
                            0.1111111111111111,
                            "#46039f"
                          ],
                          [
                            0.2222222222222222,
                            "#7201a8"
                          ],
                          [
                            0.3333333333333333,
                            "#9c179e"
                          ],
                          [
                            0.4444444444444444,
                            "#bd3786"
                          ],
                          [
                            0.5555555555555556,
                            "#d8576b"
                          ],
                          [
                            0.6666666666666666,
                            "#ed7953"
                          ],
                          [
                            0.7777777777777778,
                            "#fb9f3a"
                          ],
                          [
                            0.8888888888888888,
                            "#fdca26"
                          ],
                          [
                            1,
                            "#f0f921"
                          ]
                        ],
                        "type": "heatmapgl"
                      }
                    ],
                    "histogram": [
                      {
                        "marker": {
                          "pattern": {
                            "fillmode": "overlay",
                            "size": 10,
                            "solidity": 0.2
                          }
                        },
                        "type": "histogram"
                      }
                    ],
                    "histogram2d": [
                      {
                        "colorbar": {
                          "outlinewidth": 0,
                          "ticks": ""
                        },
                        "colorscale": [
                          [
                            0,
                            "#0d0887"
                          ],
                          [
                            0.1111111111111111,
                            "#46039f"
                          ],
                          [
                            0.2222222222222222,
                            "#7201a8"
                          ],
                          [
                            0.3333333333333333,
                            "#9c179e"
                          ],
                          [
                            0.4444444444444444,
                            "#bd3786"
                          ],
                          [
                            0.5555555555555556,
                            "#d8576b"
                          ],
                          [
                            0.6666666666666666,
                            "#ed7953"
                          ],
                          [
                            0.7777777777777778,
                            "#fb9f3a"
                          ],
                          [
                            0.8888888888888888,
                            "#fdca26"
                          ],
                          [
                            1,
                            "#f0f921"
                          ]
                        ],
                        "type": "histogram2d"
                      }
                    ],
                    "histogram2dcontour": [
                      {
                        "colorbar": {
                          "outlinewidth": 0,
                          "ticks": ""
                        },
                        "colorscale": [
                          [
                            0,
                            "#0d0887"
                          ],
                          [
                            0.1111111111111111,
                            "#46039f"
                          ],
                          [
                            0.2222222222222222,
                            "#7201a8"
                          ],
                          [
                            0.3333333333333333,
                            "#9c179e"
                          ],
                          [
                            0.4444444444444444,
                            "#bd3786"
                          ],
                          [
                            0.5555555555555556,
                            "#d8576b"
                          ],
                          [
                            0.6666666666666666,
                            "#ed7953"
                          ],
                          [
                            0.7777777777777778,
                            "#fb9f3a"
                          ],
                          [
                            0.8888888888888888,
                            "#fdca26"
                          ],
                          [
                            1,
                            "#f0f921"
                          ]
                        ],
                        "type": "histogram2dcontour"
                      }
                    ],
                    "mesh3d": [
                      {
                        "colorbar": {
                          "outlinewidth": 0,
                          "ticks": ""
                        },
                        "type": "mesh3d"
                      }
                    ],
                    "parcoords": [
                      {
                        "line": {
                          "colorbar": {
                            "outlinewidth": 0,
                            "ticks": ""
                          }
                        },
                        "type": "parcoords"
                      }
                    ],
                    "pie": [
                      {
                        "automargin": true,
                        "type": "pie"
                      }
                    ],
                    "scatter": [
                      {
                        "fillpattern": {
                          "fillmode": "overlay",
                          "size": 10,
                          "solidity": 0.2
                        },
                        "type": "scatter"
                      }
                    ],
                    "scatter3d": [
                      {
                        "line": {
                          "colorbar": {
                            "outlinewidth": 0,
                            "ticks": ""
                          }
                        },
                        "marker": {
                          "colorbar": {
                            "outlinewidth": 0,
                            "ticks": ""
                          }
                        },
                        "type": "scatter3d"
                      }
                    ],
                    "scattercarpet": [
                      {
                        "marker": {
                          "colorbar": {
                            "outlinewidth": 0,
                            "ticks": ""
                          }
                        },
                        "type": "scattercarpet"
                      }
                    ],
                    "scattergeo": [
                      {
                        "marker": {
                          "colorbar": {
                            "outlinewidth": 0,
                            "ticks": ""
                          }
                        },
                        "type": "scattergeo"
                      }
                    ],
                    "scattergl": [
                      {
                        "marker": {
                          "colorbar": {
                            "outlinewidth": 0,
                            "ticks": ""
                          }
                        },
                        "type": "scattergl"
                      }
                    ],
                    "scattermapbox": [
                      {
                        "marker": {
                          "colorbar": {
                            "outlinewidth": 0,
                            "ticks": ""
                          }
                        },
                        "type": "scattermapbox"
                      }
                    ],
                    "scatterpolar": [
                      {
                        "marker": {
                          "colorbar": {
                            "outlinewidth": 0,
                            "ticks": ""
                          }
                        },
                        "type": "scatterpolar"
                      }
                    ],
                    "scatterpolargl": [
                      {
                        "marker": {
                          "colorbar": {
                            "outlinewidth": 0,
                            "ticks": ""
                          }
                        },
                        "type": "scatterpolargl"
                      }
                    ],
                    "scatterternary": [
                      {
                        "marker": {
                          "colorbar": {
                            "outlinewidth": 0,
                            "ticks": ""
                          }
                        },
                        "type": "scatterternary"
                      }
                    ],
                    "surface": [
                      {
                        "colorbar": {
                          "outlinewidth": 0,
                          "ticks": ""
                        },
                        "colorscale": [
                          [
                            0,
                            "#0d0887"
                          ],
                          [
                            0.1111111111111111,
                            "#46039f"
                          ],
                          [
                            0.2222222222222222,
                            "#7201a8"
                          ],
                          [
                            0.3333333333333333,
                            "#9c179e"
                          ],
                          [
                            0.4444444444444444,
                            "#bd3786"
                          ],
                          [
                            0.5555555555555556,
                            "#d8576b"
                          ],
                          [
                            0.6666666666666666,
                            "#ed7953"
                          ],
                          [
                            0.7777777777777778,
                            "#fb9f3a"
                          ],
                          [
                            0.8888888888888888,
                            "#fdca26"
                          ],
                          [
                            1,
                            "#f0f921"
                          ]
                        ],
                        "type": "surface"
                      }
                    ],
                    "table": [
                      {
                        "cells": {
                          "fill": {
                            "color": "#EBF0F8"
                          },
                          "line": {
                            "color": "white"
                          }
                        },
                        "header": {
                          "fill": {
                            "color": "#C8D4E3"
                          },
                          "line": {
                            "color": "white"
                          }
                        },
                        "type": "table"
                      }
                    ]
                  },
                  "layout": {
                    "annotationdefaults": {
                      "arrowcolor": "#2a3f5f",
                      "arrowhead": 0,
                      "arrowwidth": 1
                    },
                    "autotypenumbers": "strict",
                    "coloraxis": {
                      "colorbar": {
                        "outlinewidth": 0,
                        "ticks": ""
                      }
                    },
                    "colorscale": {
                      "diverging": [
                        [
                          0,
                          "#8e0152"
                        ],
                        [
                          0.1,
                          "#c51b7d"
                        ],
                        [
                          0.2,
                          "#de77ae"
                        ],
                        [
                          0.3,
                          "#f1b6da"
                        ],
                        [
                          0.4,
                          "#fde0ef"
                        ],
                        [
                          0.5,
                          "#f7f7f7"
                        ],
                        [
                          0.6,
                          "#e6f5d0"
                        ],
                        [
                          0.7,
                          "#b8e186"
                        ],
                        [
                          0.8,
                          "#7fbc41"
                        ],
                        [
                          0.9,
                          "#4d9221"
                        ],
                        [
                          1,
                          "#276419"
                        ]
                      ],
                      "sequential": [
                        [
                          0,
                          "#0d0887"
                        ],
                        [
                          0.1111111111111111,
                          "#46039f"
                        ],
                        [
                          0.2222222222222222,
                          "#7201a8"
                        ],
                        [
                          0.3333333333333333,
                          "#9c179e"
                        ],
                        [
                          0.4444444444444444,
                          "#bd3786"
                        ],
                        [
                          0.5555555555555556,
                          "#d8576b"
                        ],
                        [
                          0.6666666666666666,
                          "#ed7953"
                        ],
                        [
                          0.7777777777777778,
                          "#fb9f3a"
                        ],
                        [
                          0.8888888888888888,
                          "#fdca26"
                        ],
                        [
                          1,
                          "#f0f921"
                        ]
                      ],
                      "sequentialminus": [
                        [
                          0,
                          "#0d0887"
                        ],
                        [
                          0.1111111111111111,
                          "#46039f"
                        ],
                        [
                          0.2222222222222222,
                          "#7201a8"
                        ],
                        [
                          0.3333333333333333,
                          "#9c179e"
                        ],
                        [
                          0.4444444444444444,
                          "#bd3786"
                        ],
                        [
                          0.5555555555555556,
                          "#d8576b"
                        ],
                        [
                          0.6666666666666666,
                          "#ed7953"
                        ],
                        [
                          0.7777777777777778,
                          "#fb9f3a"
                        ],
                        [
                          0.8888888888888888,
                          "#fdca26"
                        ],
                        [
                          1,
                          "#f0f921"
                        ]
                      ]
                    },
                    "colorway": [
                      "#636efa",
                      "#EF553B",
                      "#00cc96",
                      "#ab63fa",
                      "#FFA15A",
                      "#19d3f3",
                      "#FF6692",
                      "#B6E880",
                      "#FF97FF",
                      "#FECB52"
                    ],
                    "font": {
                      "color": "#2a3f5f"
                    },
                    "geo": {
                      "bgcolor": "white",
                      "lakecolor": "white",
                      "landcolor": "#E5ECF6",
                      "showlakes": true,
                      "showland": true,
                      "subunitcolor": "white"
                    },
                    "hoverlabel": {
                      "align": "left"
                    },
                    "hovermode": "closest",
                    "mapbox": {
                      "style": "light"
                    },
                    "paper_bgcolor": "white",
                    "plot_bgcolor": "#E5ECF6",
                    "polar": {
                      "angularaxis": {
                        "gridcolor": "white",
                        "linecolor": "white",
                        "ticks": ""
                      },
                      "bgcolor": "#E5ECF6",
                      "radialaxis": {
                        "gridcolor": "white",
                        "linecolor": "white",
                        "ticks": ""
                      }
                    },
                    "scene": {
                      "xaxis": {
                        "backgroundcolor": "#E5ECF6",
                        "gridcolor": "white",
                        "gridwidth": 2,
                        "linecolor": "white",
                        "showbackground": true,
                        "ticks": "",
                        "zerolinecolor": "white"
                      },
                      "yaxis": {
                        "backgroundcolor": "#E5ECF6",
                        "gridcolor": "white",
                        "gridwidth": 2,
                        "linecolor": "white",
                        "showbackground": true,
                        "ticks": "",
                        "zerolinecolor": "white"
                      },
                      "zaxis": {
                        "backgroundcolor": "#E5ECF6",
                        "gridcolor": "white",
                        "gridwidth": 2,
                        "linecolor": "white",
                        "showbackground": true,
                        "ticks": "",
                        "zerolinecolor": "white"
                      }
                    },
                    "shapedefaults": {
                      "line": {
                        "color": "#2a3f5f"
                      }
                    },
                    "ternary": {
                      "aaxis": {
                        "gridcolor": "white",
                        "linecolor": "white",
                        "ticks": ""
                      },
                      "baxis": {
                        "gridcolor": "white",
                        "linecolor": "white",
                        "ticks": ""
                      },
                      "bgcolor": "#E5ECF6",
                      "caxis": {
                        "gridcolor": "white",
                        "linecolor": "white",
                        "ticks": ""
                      }
                    },
                    "title": {
                      "x": 0.05
                    },
                    "xaxis": {
                      "automargin": true,
                      "gridcolor": "white",
                      "linecolor": "white",
                      "ticks": "",
                      "title": {
                        "standoff": 15
                      },
                      "zerolinecolor": "white",
                      "zerolinewidth": 2
                    },
                    "yaxis": {
                      "automargin": true,
                      "gridcolor": "white",
                      "linecolor": "white",
                      "ticks": "",
                      "title": {
                        "standoff": 15
                      },
                      "zerolinecolor": "white",
                      "zerolinewidth": 2
                    }
                  }
                },
                "xaxis": {
                  "anchor": "y",
                  "domain": [
                    0,
                    1
                  ],
                  "title": {
                    "text": "Model"
                  }
                },
                "xaxis2": {
                  "anchor": "y2",
                  "domain": [
                    0,
                    1
                  ],
                  "matches": "x",
                  "showgrid": true,
                  "showticklabels": false
                },
                "yaxis": {
                  "anchor": "x",
                  "domain": [
                    0,
                    0.8316
                  ],
                  "title": {
                    "text": "sum of Price"
                  }
                },
                "yaxis2": {
                  "anchor": "x2",
                  "domain": [
                    0.8416,
                    1
                  ],
                  "matches": "y2",
                  "showgrid": false,
                  "showline": false,
                  "showticklabels": false,
                  "ticks": ""
                }
              }
            }
          },
          "metadata": {},
          "output_type": "display_data"
        }
      ],
      "source": [
        "fig = px.histogram(model_df, y='Price', x='Model', marginal='box')\n",
        "fig.show()"
      ]
    },
    {
      "cell_type": "markdown",
      "metadata": {},
      "source": [
        "It look like the car's price dependents more on the brand, but for some brands, it also varies depending on the model. \n",
        "\n",
        "Let's try using target encoding in another way: grouping car models by quartiles of price.\n",
        "\n",
        "For these experiments, create copies of the train and test datasets."
      ]
    },
    {
      "cell_type": "code",
      "execution_count": 37,
      "metadata": {},
      "outputs": [],
      "source": [
        "X_train_enc = X_train.copy(deep=True)\n",
        "X_test_enc = X_test.copy(deep=True)"
      ]
    },
    {
      "cell_type": "code",
      "execution_count": 38,
      "metadata": {},
      "outputs": [
        {
          "data": {
            "text/html": [
              "<div>\n",
              "<style scoped>\n",
              "    .dataframe tbody tr th:only-of-type {\n",
              "        vertical-align: middle;\n",
              "    }\n",
              "\n",
              "    .dataframe tbody tr th {\n",
              "        vertical-align: top;\n",
              "    }\n",
              "\n",
              "    .dataframe thead th {\n",
              "        text-align: right;\n",
              "    }\n",
              "</style>\n",
              "<table border=\"1\" class=\"dataframe\">\n",
              "  <thead>\n",
              "    <tr style=\"text-align: right;\">\n",
              "      <th></th>\n",
              "      <th>Model</th>\n",
              "      <th>Price</th>\n",
              "      <th>model_cat</th>\n",
              "    </tr>\n",
              "  </thead>\n",
              "  <tbody>\n",
              "    <tr>\n",
              "      <th>0</th>\n",
              "      <td>3 Series</td>\n",
              "      <td>2.800000e+06</td>\n",
              "      <td>3</td>\n",
              "    </tr>\n",
              "    <tr>\n",
              "      <th>1</th>\n",
              "      <td>5 Series</td>\n",
              "      <td>3.000000e+06</td>\n",
              "      <td>3</td>\n",
              "    </tr>\n",
              "    <tr>\n",
              "      <th>2</th>\n",
              "      <td>7 Series</td>\n",
              "      <td>3.500000e+06</td>\n",
              "      <td>3</td>\n",
              "    </tr>\n",
              "    <tr>\n",
              "      <th>3</th>\n",
              "      <td>A3</td>\n",
              "      <td>2.000000e+06</td>\n",
              "      <td>2</td>\n",
              "    </tr>\n",
              "    <tr>\n",
              "      <th>4</th>\n",
              "      <td>A5</td>\n",
              "      <td>2.600000e+06</td>\n",
              "      <td>3</td>\n",
              "    </tr>\n",
              "    <tr>\n",
              "      <th>5</th>\n",
              "      <td>A6</td>\n",
              "      <td>3.200000e+06</td>\n",
              "      <td>3</td>\n",
              "    </tr>\n",
              "    <tr>\n",
              "      <th>6</th>\n",
              "      <td>Altroz</td>\n",
              "      <td>6.000000e+05</td>\n",
              "      <td>0</td>\n",
              "    </tr>\n",
              "    <tr>\n",
              "      <th>7</th>\n",
              "      <td>Ameo</td>\n",
              "      <td>5.000000e+05</td>\n",
              "      <td>0</td>\n",
              "    </tr>\n",
              "    <tr>\n",
              "      <th>8</th>\n",
              "      <td>Aspire</td>\n",
              "      <td>6.000000e+05</td>\n",
              "      <td>0</td>\n",
              "    </tr>\n",
              "    <tr>\n",
              "      <th>9</th>\n",
              "      <td>BR-V</td>\n",
              "      <td>8.500000e+05</td>\n",
              "      <td>1</td>\n",
              "    </tr>\n",
              "    <tr>\n",
              "      <th>10</th>\n",
              "      <td>C-Class</td>\n",
              "      <td>2.700000e+06</td>\n",
              "      <td>3</td>\n",
              "    </tr>\n",
              "    <tr>\n",
              "      <th>11</th>\n",
              "      <td>Camry</td>\n",
              "      <td>1.800000e+06</td>\n",
              "      <td>2</td>\n",
              "    </tr>\n",
              "    <tr>\n",
              "      <th>12</th>\n",
              "      <td>Civic</td>\n",
              "      <td>1.000000e+06</td>\n",
              "      <td>1</td>\n",
              "    </tr>\n",
              "    <tr>\n",
              "      <th>13</th>\n",
              "      <td>Corolla</td>\n",
              "      <td>8.000000e+05</td>\n",
              "      <td>1</td>\n",
              "    </tr>\n",
              "    <tr>\n",
              "      <th>14</th>\n",
              "      <td>E-Class</td>\n",
              "      <td>2.700000e+06</td>\n",
              "      <td>3</td>\n",
              "    </tr>\n",
              "    <tr>\n",
              "      <th>15</th>\n",
              "      <td>EcoSport</td>\n",
              "      <td>7.500000e+05</td>\n",
              "      <td>1</td>\n",
              "    </tr>\n",
              "    <tr>\n",
              "      <th>16</th>\n",
              "      <td>Elantra</td>\n",
              "      <td>8.000000e+05</td>\n",
              "      <td>1</td>\n",
              "    </tr>\n",
              "    <tr>\n",
              "      <th>17</th>\n",
              "      <td>Endeavour</td>\n",
              "      <td>2.000000e+06</td>\n",
              "      <td>2</td>\n",
              "    </tr>\n",
              "    <tr>\n",
              "      <th>18</th>\n",
              "      <td>Fortuner</td>\n",
              "      <td>2.500000e+06</td>\n",
              "      <td>2</td>\n",
              "    </tr>\n",
              "    <tr>\n",
              "      <th>19</th>\n",
              "      <td>GLA</td>\n",
              "      <td>2.400000e+06</td>\n",
              "      <td>2</td>\n",
              "    </tr>\n",
              "    <tr>\n",
              "      <th>20</th>\n",
              "      <td>GLC</td>\n",
              "      <td>2.500000e+06</td>\n",
              "      <td>2</td>\n",
              "    </tr>\n",
              "    <tr>\n",
              "      <th>21</th>\n",
              "      <td>GLE</td>\n",
              "      <td>4.000000e+06</td>\n",
              "      <td>3</td>\n",
              "    </tr>\n",
              "    <tr>\n",
              "      <th>22</th>\n",
              "      <td>Harrier</td>\n",
              "      <td>1.600000e+06</td>\n",
              "      <td>2</td>\n",
              "    </tr>\n",
              "    <tr>\n",
              "      <th>23</th>\n",
              "      <td>Innova</td>\n",
              "      <td>1.400000e+06</td>\n",
              "      <td>2</td>\n",
              "    </tr>\n",
              "    <tr>\n",
              "      <th>24</th>\n",
              "      <td>Innova Crysta</td>\n",
              "      <td>1.400000e+06</td>\n",
              "      <td>2</td>\n",
              "    </tr>\n",
              "    <tr>\n",
              "      <th>25</th>\n",
              "      <td>Mustang</td>\n",
              "      <td>2.633333e+06</td>\n",
              "      <td>3</td>\n",
              "    </tr>\n",
              "    <tr>\n",
              "      <th>26</th>\n",
              "      <td>Nexon</td>\n",
              "      <td>7.500000e+05</td>\n",
              "      <td>1</td>\n",
              "    </tr>\n",
              "    <tr>\n",
              "      <th>27</th>\n",
              "      <td>Passat</td>\n",
              "      <td>1.600000e+06</td>\n",
              "      <td>2</td>\n",
              "    </tr>\n",
              "    <tr>\n",
              "      <th>28</th>\n",
              "      <td>Q7</td>\n",
              "      <td>3.000000e+06</td>\n",
              "      <td>3</td>\n",
              "    </tr>\n",
              "    <tr>\n",
              "      <th>29</th>\n",
              "      <td>Ranger</td>\n",
              "      <td>1.500000e+06</td>\n",
              "      <td>2</td>\n",
              "    </tr>\n",
              "    <tr>\n",
              "      <th>30</th>\n",
              "      <td>S-Cross</td>\n",
              "      <td>7.000000e+05</td>\n",
              "      <td>0</td>\n",
              "    </tr>\n",
              "    <tr>\n",
              "      <th>31</th>\n",
              "      <td>Safari</td>\n",
              "      <td>1.300000e+06</td>\n",
              "      <td>1</td>\n",
              "    </tr>\n",
              "    <tr>\n",
              "      <th>32</th>\n",
              "      <td>Santro</td>\n",
              "      <td>4.500000e+05</td>\n",
              "      <td>0</td>\n",
              "    </tr>\n",
              "    <tr>\n",
              "      <th>33</th>\n",
              "      <td>Scorpio</td>\n",
              "      <td>9.000000e+05</td>\n",
              "      <td>1</td>\n",
              "    </tr>\n",
              "    <tr>\n",
              "      <th>34</th>\n",
              "      <td>Sonata</td>\n",
              "      <td>8.500000e+05</td>\n",
              "      <td>1</td>\n",
              "    </tr>\n",
              "    <tr>\n",
              "      <th>35</th>\n",
              "      <td>Swift</td>\n",
              "      <td>6.000000e+05</td>\n",
              "      <td>0</td>\n",
              "    </tr>\n",
              "    <tr>\n",
              "      <th>36</th>\n",
              "      <td>T-Roc</td>\n",
              "      <td>1.600000e+06</td>\n",
              "      <td>2</td>\n",
              "    </tr>\n",
              "    <tr>\n",
              "      <th>37</th>\n",
              "      <td>Thar</td>\n",
              "      <td>1.200000e+06</td>\n",
              "      <td>1</td>\n",
              "    </tr>\n",
              "    <tr>\n",
              "      <th>38</th>\n",
              "      <td>Tiago</td>\n",
              "      <td>5.000000e+05</td>\n",
              "      <td>0</td>\n",
              "    </tr>\n",
              "    <tr>\n",
              "      <th>39</th>\n",
              "      <td>Tigor</td>\n",
              "      <td>5.000000e+05</td>\n",
              "      <td>0</td>\n",
              "    </tr>\n",
              "    <tr>\n",
              "      <th>40</th>\n",
              "      <td>Vento</td>\n",
              "      <td>6.500000e+05</td>\n",
              "      <td>0</td>\n",
              "    </tr>\n",
              "    <tr>\n",
              "      <th>41</th>\n",
              "      <td>Venue</td>\n",
              "      <td>5.500000e+05</td>\n",
              "      <td>0</td>\n",
              "    </tr>\n",
              "    <tr>\n",
              "      <th>42</th>\n",
              "      <td>Verna</td>\n",
              "      <td>8.500000e+05</td>\n",
              "      <td>1</td>\n",
              "    </tr>\n",
              "    <tr>\n",
              "      <th>43</th>\n",
              "      <td>Vitara</td>\n",
              "      <td>7.000000e+05</td>\n",
              "      <td>0</td>\n",
              "    </tr>\n",
              "    <tr>\n",
              "      <th>44</th>\n",
              "      <td>WR-V</td>\n",
              "      <td>7.500000e+05</td>\n",
              "      <td>1</td>\n",
              "    </tr>\n",
              "    <tr>\n",
              "      <th>45</th>\n",
              "      <td>X3</td>\n",
              "      <td>2.800000e+06</td>\n",
              "      <td>3</td>\n",
              "    </tr>\n",
              "    <tr>\n",
              "      <th>46</th>\n",
              "      <td>X5</td>\n",
              "      <td>3.200000e+06</td>\n",
              "      <td>3</td>\n",
              "    </tr>\n",
              "    <tr>\n",
              "      <th>47</th>\n",
              "      <td>XUV300</td>\n",
              "      <td>7.000000e+05</td>\n",
              "      <td>0</td>\n",
              "    </tr>\n",
              "    <tr>\n",
              "      <th>48</th>\n",
              "      <td>Yaris</td>\n",
              "      <td>6.500000e+05</td>\n",
              "      <td>0</td>\n",
              "    </tr>\n",
              "  </tbody>\n",
              "</table>\n",
              "</div>"
            ],
            "text/plain": [
              "            Model         Price  model_cat\n",
              "0        3 Series  2.800000e+06          3\n",
              "1        5 Series  3.000000e+06          3\n",
              "2        7 Series  3.500000e+06          3\n",
              "3              A3  2.000000e+06          2\n",
              "4              A5  2.600000e+06          3\n",
              "5              A6  3.200000e+06          3\n",
              "6          Altroz  6.000000e+05          0\n",
              "7            Ameo  5.000000e+05          0\n",
              "8          Aspire  6.000000e+05          0\n",
              "9            BR-V  8.500000e+05          1\n",
              "10        C-Class  2.700000e+06          3\n",
              "11          Camry  1.800000e+06          2\n",
              "12          Civic  1.000000e+06          1\n",
              "13        Corolla  8.000000e+05          1\n",
              "14        E-Class  2.700000e+06          3\n",
              "15       EcoSport  7.500000e+05          1\n",
              "16        Elantra  8.000000e+05          1\n",
              "17      Endeavour  2.000000e+06          2\n",
              "18       Fortuner  2.500000e+06          2\n",
              "19            GLA  2.400000e+06          2\n",
              "20            GLC  2.500000e+06          2\n",
              "21            GLE  4.000000e+06          3\n",
              "22        Harrier  1.600000e+06          2\n",
              "23         Innova  1.400000e+06          2\n",
              "24  Innova Crysta  1.400000e+06          2\n",
              "25        Mustang  2.633333e+06          3\n",
              "26          Nexon  7.500000e+05          1\n",
              "27         Passat  1.600000e+06          2\n",
              "28             Q7  3.000000e+06          3\n",
              "29         Ranger  1.500000e+06          2\n",
              "30        S-Cross  7.000000e+05          0\n",
              "31         Safari  1.300000e+06          1\n",
              "32         Santro  4.500000e+05          0\n",
              "33        Scorpio  9.000000e+05          1\n",
              "34         Sonata  8.500000e+05          1\n",
              "35          Swift  6.000000e+05          0\n",
              "36          T-Roc  1.600000e+06          2\n",
              "37           Thar  1.200000e+06          1\n",
              "38          Tiago  5.000000e+05          0\n",
              "39          Tigor  5.000000e+05          0\n",
              "40          Vento  6.500000e+05          0\n",
              "41          Venue  5.500000e+05          0\n",
              "42          Verna  8.500000e+05          1\n",
              "43         Vitara  7.000000e+05          0\n",
              "44           WR-V  7.500000e+05          1\n",
              "45             X3  2.800000e+06          3\n",
              "46             X5  3.200000e+06          3\n",
              "47         XUV300  7.000000e+05          0\n",
              "48          Yaris  6.500000e+05          0"
            ]
          },
          "execution_count": 38,
          "metadata": {},
          "output_type": "execute_result"
        }
      ],
      "source": [
        "train_model_cat = (cars\n",
        "                   .loc[X_train_enc.index, ['Model', 'Price']]\n",
        "                   .groupby('Model')\n",
        "                   .mean()\n",
        "                   .reset_index())\n",
        "\n",
        "train_model_cat['model_cat'] = (pd.qcut(train_model_cat.Price, 4, labels=[0, 1, 2, 3])\n",
        "                                .astype('int'))\n",
        "train_model_cat"
      ]
    },
    {
      "cell_type": "markdown",
      "metadata": {},
      "source": [
        "Because there are new models in the test dataset that do not appear in the train dataset, fill unknown models with `-1`. We need to handle missing values because linear regression requires complete data.  "
      ]
    },
    {
      "cell_type": "code",
      "execution_count": 39,
      "metadata": {},
      "outputs": [],
      "source": [
        "train_model_target_enc = (X_train_enc[['Model']]\n",
        "                          .merge(train_model_cat[['Model', 'model_cat']],\n",
        "                                 on='Model')\n",
        "                          .set_index(X_train_enc.index)[['model_cat']])\n",
        "\n",
        "test_model_target_enc = (X_test_enc[['Model']]\n",
        "                         .merge(train_model_cat[['Model', 'model_cat']],\n",
        "                                on='Model',\n",
        "                                how='left')\n",
        "                         .set_index(X_test_enc.index)\n",
        "                         .fillna(-1)[['model_cat']])"
      ]
    },
    {
      "cell_type": "markdown",
      "metadata": {},
      "source": [
        "Because of in this case we dealing with high-cardinality categorical feature `Model` (58 unique categories) and we want to reduce the dimensionality compared to one-hot encoding, so let's try Binary encoding."
      ]
    },
    {
      "cell_type": "code",
      "execution_count": 40,
      "metadata": {},
      "outputs": [],
      "source": [
        "binary_enc = ce.BinaryEncoder(cols=['Model'])\n",
        "\n",
        "with warnings.catch_warnings(action=\"ignore\"):\n",
        "    train_model_binary_enc = binary_enc.fit_transform(X_train_enc.Model)\n",
        "    test_model_binary_enc = binary_enc.transform(X_test_enc.Model)\n"
      ]
    },
    {
      "cell_type": "markdown",
      "metadata": {},
      "source": [
        "Another opportunity is to use Feature Hashing, which maps each category to a fixed number of numerical columns"
      ]
    },
    {
      "cell_type": "code",
      "execution_count": 41,
      "metadata": {},
      "outputs": [],
      "source": [
        "hashing_enc = ce.HashingEncoder(cols=['Model'], n_components=5)\n",
        "\n",
        "with warnings.catch_warnings(action=\"ignore\"):\n",
        "    train_model_hashing_enc = hashing_enc.fit_transform(X_train_enc.Model)\n",
        "    test_model_hashing_enc = hashing_enc.transform(X_test_enc.Model)\n"
      ]
    },
    {
      "cell_type": "code",
      "execution_count": 42,
      "metadata": {},
      "outputs": [],
      "source": [
        "X_train.drop(columns=['Model'], inplace=True, errors='ignore')\n",
        "X_test.drop(columns=['Model'], inplace=True, errors='ignore')\n",
        "X_train_enc.drop(columns=['Model'], inplace=True, errors='ignore')\n",
        "X_test_enc.drop(columns=['Model'], inplace=True, errors='ignore')"
      ]
    },
    {
      "cell_type": "markdown",
      "metadata": {
        "id": "wHDyZp9QSnsF"
      },
      "source": [
        "## **Завдання 5.**\n",
        "Оберіть лише числові колонки з `X_train` (можна для цього використати `pandas.select_dtypes(...)` або видалити всі НЕчислові дані, вони нам вже не потрібні), обʼєднайте ці дані з `y_train` (зручно з `pandas.concat([df1, df2], axis=1)`), побудуйте для цих даних матрицю кореляції і проаналізуйте її. Напишіть висновок, які колонки корелюють з цільовою змінною на більш ніж 0.5 за модулем (може бути як позитивна, так і негативна кореляція)."
      ]
    },
    {
      "cell_type": "code",
      "execution_count": 43,
      "metadata": {
        "id": "0EIv0cVVf05Z"
      },
      "outputs": [
        {
          "data": {
            "text/html": [
              "<div>\n",
              "<style scoped>\n",
              "    .dataframe tbody tr th:only-of-type {\n",
              "        vertical-align: middle;\n",
              "    }\n",
              "\n",
              "    .dataframe tbody tr th {\n",
              "        vertical-align: top;\n",
              "    }\n",
              "\n",
              "    .dataframe thead th {\n",
              "        text-align: right;\n",
              "    }\n",
              "</style>\n",
              "<table border=\"1\" class=\"dataframe\">\n",
              "  <thead>\n",
              "    <tr style=\"text-align: right;\">\n",
              "      <th></th>\n",
              "      <th>Year</th>\n",
              "      <th>Kilometers_Driven</th>\n",
              "      <th>Mileage</th>\n",
              "      <th>Engine</th>\n",
              "      <th>Power</th>\n",
              "      <th>Seats</th>\n",
              "      <th>is_petrol</th>\n",
              "      <th>is_automatic</th>\n",
              "      <th>Audi</th>\n",
              "      <th>BMW</th>\n",
              "      <th>Ford</th>\n",
              "      <th>Honda</th>\n",
              "      <th>Hyundai</th>\n",
              "      <th>Mahindra</th>\n",
              "      <th>Maruti</th>\n",
              "      <th>Mercedes</th>\n",
              "      <th>Tata</th>\n",
              "      <th>Toyota</th>\n",
              "      <th>Volkswagen</th>\n",
              "      <th>Owner_Type_Codes</th>\n",
              "      <th>Price</th>\n",
              "    </tr>\n",
              "  </thead>\n",
              "  <tbody>\n",
              "    <tr>\n",
              "      <th>83</th>\n",
              "      <td>2019</td>\n",
              "      <td>22000</td>\n",
              "      <td>18</td>\n",
              "      <td>1498</td>\n",
              "      <td>148</td>\n",
              "      <td>5</td>\n",
              "      <td>1</td>\n",
              "      <td>1</td>\n",
              "      <td>0</td>\n",
              "      <td>0</td>\n",
              "      <td>0</td>\n",
              "      <td>0</td>\n",
              "      <td>0</td>\n",
              "      <td>0</td>\n",
              "      <td>0</td>\n",
              "      <td>0</td>\n",
              "      <td>0</td>\n",
              "      <td>0</td>\n",
              "      <td>1</td>\n",
              "      <td>1</td>\n",
              "      <td>1600000</td>\n",
              "    </tr>\n",
              "    <tr>\n",
              "      <th>55</th>\n",
              "      <td>2018</td>\n",
              "      <td>28000</td>\n",
              "      <td>17</td>\n",
              "      <td>1968</td>\n",
              "      <td>187</td>\n",
              "      <td>5</td>\n",
              "      <td>0</td>\n",
              "      <td>1</td>\n",
              "      <td>1</td>\n",
              "      <td>0</td>\n",
              "      <td>0</td>\n",
              "      <td>0</td>\n",
              "      <td>0</td>\n",
              "      <td>0</td>\n",
              "      <td>0</td>\n",
              "      <td>0</td>\n",
              "      <td>0</td>\n",
              "      <td>0</td>\n",
              "      <td>0</td>\n",
              "      <td>0</td>\n",
              "      <td>2600000</td>\n",
              "    </tr>\n",
              "    <tr>\n",
              "      <th>26</th>\n",
              "      <td>2018</td>\n",
              "      <td>28000</td>\n",
              "      <td>15</td>\n",
              "      <td>1984</td>\n",
              "      <td>241</td>\n",
              "      <td>5</td>\n",
              "      <td>1</td>\n",
              "      <td>1</td>\n",
              "      <td>1</td>\n",
              "      <td>0</td>\n",
              "      <td>0</td>\n",
              "      <td>0</td>\n",
              "      <td>0</td>\n",
              "      <td>0</td>\n",
              "      <td>0</td>\n",
              "      <td>0</td>\n",
              "      <td>0</td>\n",
              "      <td>0</td>\n",
              "      <td>0</td>\n",
              "      <td>0</td>\n",
              "      <td>3200000</td>\n",
              "    </tr>\n",
              "    <tr>\n",
              "      <th>54</th>\n",
              "      <td>2017</td>\n",
              "      <td>32000</td>\n",
              "      <td>18</td>\n",
              "      <td>1598</td>\n",
              "      <td>103</td>\n",
              "      <td>5</td>\n",
              "      <td>1</td>\n",
              "      <td>0</td>\n",
              "      <td>0</td>\n",
              "      <td>0</td>\n",
              "      <td>0</td>\n",
              "      <td>0</td>\n",
              "      <td>0</td>\n",
              "      <td>0</td>\n",
              "      <td>0</td>\n",
              "      <td>0</td>\n",
              "      <td>0</td>\n",
              "      <td>0</td>\n",
              "      <td>1</td>\n",
              "      <td>1</td>\n",
              "      <td>650000</td>\n",
              "    </tr>\n",
              "    <tr>\n",
              "      <th>19</th>\n",
              "      <td>2017</td>\n",
              "      <td>26000</td>\n",
              "      <td>12</td>\n",
              "      <td>1991</td>\n",
              "      <td>241</td>\n",
              "      <td>5</td>\n",
              "      <td>1</td>\n",
              "      <td>1</td>\n",
              "      <td>0</td>\n",
              "      <td>0</td>\n",
              "      <td>0</td>\n",
              "      <td>0</td>\n",
              "      <td>0</td>\n",
              "      <td>0</td>\n",
              "      <td>0</td>\n",
              "      <td>1</td>\n",
              "      <td>0</td>\n",
              "      <td>0</td>\n",
              "      <td>0</td>\n",
              "      <td>1</td>\n",
              "      <td>2500000</td>\n",
              "    </tr>\n",
              "  </tbody>\n",
              "</table>\n",
              "</div>"
            ],
            "text/plain": [
              "    Year  Kilometers_Driven  Mileage  Engine  Power  Seats  is_petrol  \\\n",
              "83  2019              22000       18    1498    148      5          1   \n",
              "55  2018              28000       17    1968    187      5          0   \n",
              "26  2018              28000       15    1984    241      5          1   \n",
              "54  2017              32000       18    1598    103      5          1   \n",
              "19  2017              26000       12    1991    241      5          1   \n",
              "\n",
              "    is_automatic  Audi  BMW  Ford  Honda  Hyundai  Mahindra  Maruti  Mercedes  \\\n",
              "83             1     0    0     0      0        0         0       0         0   \n",
              "55             1     1    0     0      0        0         0       0         0   \n",
              "26             1     1    0     0      0        0         0       0         0   \n",
              "54             0     0    0     0      0        0         0       0         0   \n",
              "19             1     0    0     0      0        0         0       0         1   \n",
              "\n",
              "    Tata  Toyota  Volkswagen  Owner_Type_Codes    Price  \n",
              "83     0       0           1                 1  1600000  \n",
              "55     0       0           0                 0  2600000  \n",
              "26     0       0           0                 0  3200000  \n",
              "54     0       0           1                 1   650000  \n",
              "19     0       0           0                 1  2500000  "
            ]
          },
          "execution_count": 43,
          "metadata": {},
          "output_type": "execute_result"
        }
      ],
      "source": [
        "train_enc = pd.concat([X_train.select_dtypes(include='number'), y_train], axis=1)\n",
        "train_enc.head()"
      ]
    },
    {
      "cell_type": "code",
      "execution_count": 44,
      "metadata": {},
      "outputs": [],
      "source": [
        "corr_df = train_enc.corr()"
      ]
    },
    {
      "cell_type": "code",
      "execution_count": 45,
      "metadata": {},
      "outputs": [
        {
          "data": {
            "text/html": [
              "<div>\n",
              "<style scoped>\n",
              "    .dataframe tbody tr th:only-of-type {\n",
              "        vertical-align: middle;\n",
              "    }\n",
              "\n",
              "    .dataframe tbody tr th {\n",
              "        vertical-align: top;\n",
              "    }\n",
              "\n",
              "    .dataframe thead th {\n",
              "        text-align: right;\n",
              "    }\n",
              "</style>\n",
              "<table border=\"1\" class=\"dataframe\">\n",
              "  <thead>\n",
              "    <tr style=\"text-align: right;\">\n",
              "      <th></th>\n",
              "      <th>Year</th>\n",
              "      <th>Kilometers_Driven</th>\n",
              "      <th>Mileage</th>\n",
              "      <th>Engine</th>\n",
              "      <th>Power</th>\n",
              "      <th>Seats</th>\n",
              "      <th>is_petrol</th>\n",
              "      <th>is_automatic</th>\n",
              "      <th>Audi</th>\n",
              "      <th>BMW</th>\n",
              "      <th>Ford</th>\n",
              "      <th>Honda</th>\n",
              "      <th>Hyundai</th>\n",
              "      <th>Mahindra</th>\n",
              "      <th>Maruti</th>\n",
              "      <th>Mercedes</th>\n",
              "      <th>Tata</th>\n",
              "      <th>Toyota</th>\n",
              "      <th>Volkswagen</th>\n",
              "      <th>Owner_Type_Codes</th>\n",
              "      <th>Price</th>\n",
              "    </tr>\n",
              "  </thead>\n",
              "  <tbody>\n",
              "    <tr>\n",
              "      <th>Year</th>\n",
              "      <td>1.000000</td>\n",
              "      <td>-0.708525</td>\n",
              "      <td>0.278559</td>\n",
              "      <td>-0.392764</td>\n",
              "      <td>-0.248442</td>\n",
              "      <td>-0.278755</td>\n",
              "      <td>0.248515</td>\n",
              "      <td>-0.200603</td>\n",
              "      <td>-0.256523</td>\n",
              "      <td>0.202517</td>\n",
              "      <td>-0.150454</td>\n",
              "      <td>-0.037437</td>\n",
              "      <td>-0.092099</td>\n",
              "      <td>0.181669</td>\n",
              "      <td>0.285094</td>\n",
              "      <td>-0.115157</td>\n",
              "      <td>0.248715</td>\n",
              "      <td>-0.219346</td>\n",
              "      <td>0.018255</td>\n",
              "      <td>-0.014499</td>\n",
              "      <td>-0.233769</td>\n",
              "    </tr>\n",
              "    <tr>\n",
              "      <th>Kilometers_Driven</th>\n",
              "      <td>-0.708525</td>\n",
              "      <td>1.000000</td>\n",
              "      <td>-0.126621</td>\n",
              "      <td>0.101219</td>\n",
              "      <td>-0.060803</td>\n",
              "      <td>0.403656</td>\n",
              "      <td>-0.332351</td>\n",
              "      <td>-0.066491</td>\n",
              "      <td>0.095879</td>\n",
              "      <td>-0.247042</td>\n",
              "      <td>-0.009761</td>\n",
              "      <td>0.057372</td>\n",
              "      <td>0.154362</td>\n",
              "      <td>-0.040344</td>\n",
              "      <td>-0.190420</td>\n",
              "      <td>-0.091731</td>\n",
              "      <td>0.030399</td>\n",
              "      <td>0.368519</td>\n",
              "      <td>-0.137675</td>\n",
              "      <td>-0.001772</td>\n",
              "      <td>-0.083951</td>\n",
              "    </tr>\n",
              "    <tr>\n",
              "      <th>Mileage</th>\n",
              "      <td>0.278559</td>\n",
              "      <td>-0.126621</td>\n",
              "      <td>1.000000</td>\n",
              "      <td>-0.710516</td>\n",
              "      <td>-0.684705</td>\n",
              "      <td>-0.178619</td>\n",
              "      <td>-0.070112</td>\n",
              "      <td>-0.399164</td>\n",
              "      <td>-0.152701</td>\n",
              "      <td>-0.134105</td>\n",
              "      <td>-0.296480</td>\n",
              "      <td>0.358630</td>\n",
              "      <td>0.217406</td>\n",
              "      <td>0.029427</td>\n",
              "      <td>0.116389</td>\n",
              "      <td>-0.238489</td>\n",
              "      <td>0.347678</td>\n",
              "      <td>-0.201565</td>\n",
              "      <td>0.085114</td>\n",
              "      <td>0.026624</td>\n",
              "      <td>-0.638404</td>\n",
              "    </tr>\n",
              "    <tr>\n",
              "      <th>Engine</th>\n",
              "      <td>-0.392764</td>\n",
              "      <td>0.101219</td>\n",
              "      <td>-0.710516</td>\n",
              "      <td>1.000000</td>\n",
              "      <td>0.801638</td>\n",
              "      <td>0.167326</td>\n",
              "      <td>-0.174455</td>\n",
              "      <td>0.456296</td>\n",
              "      <td>0.085153</td>\n",
              "      <td>0.287119</td>\n",
              "      <td>0.184231</td>\n",
              "      <td>-0.154491</td>\n",
              "      <td>-0.182213</td>\n",
              "      <td>-0.024973</td>\n",
              "      <td>-0.193257</td>\n",
              "      <td>0.163871</td>\n",
              "      <td>-0.340051</td>\n",
              "      <td>0.234889</td>\n",
              "      <td>-0.165115</td>\n",
              "      <td>-0.196106</td>\n",
              "      <td>0.710561</td>\n",
              "    </tr>\n",
              "    <tr>\n",
              "      <th>Power</th>\n",
              "      <td>-0.248442</td>\n",
              "      <td>-0.060803</td>\n",
              "      <td>-0.684705</td>\n",
              "      <td>0.801638</td>\n",
              "      <td>1.000000</td>\n",
              "      <td>-0.139388</td>\n",
              "      <td>0.076357</td>\n",
              "      <td>0.586910</td>\n",
              "      <td>0.157050</td>\n",
              "      <td>0.372652</td>\n",
              "      <td>0.240501</td>\n",
              "      <td>-0.191810</td>\n",
              "      <td>-0.170966</td>\n",
              "      <td>-0.118021</td>\n",
              "      <td>-0.220984</td>\n",
              "      <td>0.280827</td>\n",
              "      <td>-0.316989</td>\n",
              "      <td>-0.040478</td>\n",
              "      <td>-0.148437</td>\n",
              "      <td>-0.204309</td>\n",
              "      <td>0.849137</td>\n",
              "    </tr>\n",
              "  </tbody>\n",
              "</table>\n",
              "</div>"
            ],
            "text/plain": [
              "                       Year  Kilometers_Driven   Mileage    Engine     Power  \\\n",
              "Year               1.000000          -0.708525  0.278559 -0.392764 -0.248442   \n",
              "Kilometers_Driven -0.708525           1.000000 -0.126621  0.101219 -0.060803   \n",
              "Mileage            0.278559          -0.126621  1.000000 -0.710516 -0.684705   \n",
              "Engine            -0.392764           0.101219 -0.710516  1.000000  0.801638   \n",
              "Power             -0.248442          -0.060803 -0.684705  0.801638  1.000000   \n",
              "\n",
              "                      Seats  is_petrol  is_automatic      Audi       BMW  \\\n",
              "Year              -0.278755   0.248515     -0.200603 -0.256523  0.202517   \n",
              "Kilometers_Driven  0.403656  -0.332351     -0.066491  0.095879 -0.247042   \n",
              "Mileage           -0.178619  -0.070112     -0.399164 -0.152701 -0.134105   \n",
              "Engine             0.167326  -0.174455      0.456296  0.085153  0.287119   \n",
              "Power             -0.139388   0.076357      0.586910  0.157050  0.372652   \n",
              "\n",
              "                       Ford     Honda   Hyundai  Mahindra    Maruti  Mercedes  \\\n",
              "Year              -0.150454 -0.037437 -0.092099  0.181669  0.285094 -0.115157   \n",
              "Kilometers_Driven -0.009761  0.057372  0.154362 -0.040344 -0.190420 -0.091731   \n",
              "Mileage           -0.296480  0.358630  0.217406  0.029427  0.116389 -0.238489   \n",
              "Engine             0.184231 -0.154491 -0.182213 -0.024973 -0.193257  0.163871   \n",
              "Power              0.240501 -0.191810 -0.170966 -0.118021 -0.220984  0.280827   \n",
              "\n",
              "                       Tata    Toyota  Volkswagen  Owner_Type_Codes     Price  \n",
              "Year               0.248715 -0.219346    0.018255         -0.014499 -0.233769  \n",
              "Kilometers_Driven  0.030399  0.368519   -0.137675         -0.001772 -0.083951  \n",
              "Mileage            0.347678 -0.201565    0.085114          0.026624 -0.638404  \n",
              "Engine            -0.340051  0.234889   -0.165115         -0.196106  0.710561  \n",
              "Power             -0.316989 -0.040478   -0.148437         -0.204309  0.849137  "
            ]
          },
          "execution_count": 45,
          "metadata": {},
          "output_type": "execute_result"
        }
      ],
      "source": [
        "corr_df.head()"
      ]
    },
    {
      "cell_type": "code",
      "execution_count": 46,
      "metadata": {},
      "outputs": [
        {
          "data": {
            "image/png": "[encoded data removed]",
            "text/plain": [
              "<Figure size 1000x900 with 2 Axes>"
            ]
          },
          "metadata": {},
          "output_type": "display_data"
        }
      ],
      "source": [
        "plt.figure(figsize=(10, 9))\n",
        "\n",
        "sns.heatmap(data=corr_df[(np.abs(corr_df) > 0.5) & (np.abs(corr_df) < 0.999)],\n",
        "            annot=True,\n",
        "            cmap='RdYlGn',\n",
        "            cbar=True)\n",
        "plt.show()"
      ]
    },
    {
      "cell_type": "code",
      "execution_count": 47,
      "metadata": {},
      "outputs": [
        {
          "data": {
            "text/plain": [
              "Power                0.849137\n",
              "Engine               0.710561\n",
              "is_automatic         0.680731\n",
              "Mileage             -0.638404\n",
              "Year                      NaN\n",
              "Kilometers_Driven         NaN\n",
              "Seats                     NaN\n",
              "is_petrol                 NaN\n",
              "Audi                      NaN\n",
              "BMW                       NaN\n",
              "Name: Price, dtype: float64"
            ]
          },
          "execution_count": 47,
          "metadata": {},
          "output_type": "execute_result"
        }
      ],
      "source": [
        "(corr_df[(np.abs(corr_df) > 0.5) & (np.abs(corr_df) < 0.999)]\n",
        " ['Price']\n",
        " .sort_values(ascending=False).head(10))"
      ]
    },
    {
      "cell_type": "markdown",
      "metadata": {},
      "source": [
        "- The target variable `Price` exhibits an absolute correlation value higher than 0.5 with the following columns:\n",
        "    - `Power` (0.849137)\n",
        "    - `Engine` (0.710561)\n",
        "    - `is_automatic` (0.680731)\n",
        "    - `Mileage` (-0.638404)\n",
        "\n",
        "- `Price` has a strong positive correlation with `Power`, `Engine`, and `is_automatic`. This indicates that as a car's power or engine capacity increases, or if the car has an automatic transmission, its price tends to increase as well.\n",
        "- Conversely, `Mileage` shows a relatively strong negative correlation with `Price`. This suggests that as a car's mileage increases, its price decreases."
      ]
    },
    {
      "cell_type": "markdown",
      "metadata": {
        "id": "G7BZ3pD-USgU"
      },
      "source": [
        "## **Завдання 6**.\n",
        "Тренуємо лінійну регресію.\n",
        "\n",
        "0. Видаліть усі НЕчислові колонки з `X_train`, `X_test`, якщо ще цього не зробили.\n",
        "1. Натренуйте лінійну регресую з `sklearn` на усіх числових даних тренувального набору `X_train`.\n",
        "2. Зробіть передбачення на  `X_train`, `X_test`. Знайдіть і виведіть root mean squared error відхилення передбачення від справжніх значень цільової змінної.\n",
        "3. Побудуйте графік розсіювання передбачень проти реальних даних цільової змінної для тренувального і тестувального наборів даних. Що можете сказати про якість моделі?"
      ]
    },
    {
      "cell_type": "code",
      "execution_count": 48,
      "metadata": {},
      "outputs": [
        {
          "data": {
            "text/plain": [
              "Year                 int64\n",
              "Kilometers_Driven    int64\n",
              "Mileage              int64\n",
              "Engine               int64\n",
              "Power                int64\n",
              "Seats                int64\n",
              "is_petrol            int64\n",
              "is_automatic         int64\n",
              "Audi                 int64\n",
              "BMW                  int64\n",
              "Ford                 int64\n",
              "Honda                int64\n",
              "Hyundai              int64\n",
              "Mahindra             int64\n",
              "Maruti               int64\n",
              "Mercedes             int64\n",
              "Tata                 int64\n",
              "Toyota               int64\n",
              "Volkswagen           int64\n",
              "Owner_Type_Codes     int64\n",
              "dtype: object"
            ]
          },
          "execution_count": 48,
          "metadata": {},
          "output_type": "execute_result"
        }
      ],
      "source": [
        "X_train.dtypes"
      ]
    },
    {
      "cell_type": "code",
      "execution_count": 49,
      "metadata": {},
      "outputs": [
        {
          "name": "stdout",
          "output_type": "stream",
          "text": [
            "Loss (RMSE): 259601.2654272341\n"
          ]
        }
      ],
      "source": [
        "model = LinearRegression().fit(X_train, y_train)\n",
        "\n",
        "y_predict = model.predict(X_test)\n",
        "\n",
        "loss = root_mean_squared_error(y_test, y_predict)\n",
        "print(f\"Loss (RMSE): {loss}\")"
      ]
    },
    {
      "cell_type": "code",
      "execution_count": 50,
      "metadata": {},
      "outputs": [
        {
          "data": {
            "image/png": "[encoded data removed]",
            "text/plain": [
              "<Figure size 1000x500 with 2 Axes>"
            ]
          },
          "metadata": {},
          "output_type": "display_data"
        }
      ],
      "source": [
        "fig, (ax1, ax2) = plt.subplots(1, 2, figsize=(10, 5))\n",
        "ax1.scatter(y_train, model.predict(X_train), color='tan')\n",
        "ax1.axline( (0,0), slope=1, linestyle='--', color='r')\n",
        "ax1.set_title('Predictions on Train')\n",
        "ax1.set_xlabel('True values')\n",
        "ax1.set_ylabel('Predicted values')\n",
        "\n",
        "ax2.scatter(y_test, y_predict, color='tan')\n",
        "ax2.axline( (0,0), slope=1, linestyle='--', color='r')\n",
        "ax2.set_title('Predictions on Test')\n",
        "ax2.set_xlabel('True values')\n",
        "\n",
        "fig.tight_layout()\n",
        "plt.show()\n"
      ]
    },
    {
      "cell_type": "code",
      "execution_count": 51,
      "metadata": {},
      "outputs": [
        {
          "data": {
            "text/plain": [
              "count        80\n",
              "mean    1680000\n",
              "std     1040405\n",
              "min      450000\n",
              "25%      700000\n",
              "50%     1500000\n",
              "75%     2700000\n",
              "max     4000000\n",
              "Name: Price, dtype: float64"
            ]
          },
          "metadata": {},
          "output_type": "display_data"
        }
      ],
      "source": [
        "with pd.option_context('display.float_format', '{:.0f}'.format):\n",
        "    display(y_train.describe())"
      ]
    },
    {
      "cell_type": "code",
      "execution_count": 52,
      "metadata": {},
      "outputs": [
        {
          "data": {
            "text/html": [
              "<div>\n",
              "<style scoped>\n",
              "    .dataframe tbody tr th:only-of-type {\n",
              "        vertical-align: middle;\n",
              "    }\n",
              "\n",
              "    .dataframe tbody tr th {\n",
              "        vertical-align: top;\n",
              "    }\n",
              "\n",
              "    .dataframe thead th {\n",
              "        text-align: right;\n",
              "    }\n",
              "</style>\n",
              "<table border=\"1\" class=\"dataframe\">\n",
              "  <thead>\n",
              "    <tr style=\"text-align: right;\">\n",
              "      <th></th>\n",
              "      <th>y_test</th>\n",
              "      <th>y_predict</th>\n",
              "      <th>errors</th>\n",
              "    </tr>\n",
              "  </thead>\n",
              "  <tbody>\n",
              "    <tr>\n",
              "      <th>0</th>\n",
              "      <td>450000</td>\n",
              "      <td>190972.0</td>\n",
              "      <td>-259028.0</td>\n",
              "    </tr>\n",
              "    <tr>\n",
              "      <th>1</th>\n",
              "      <td>550000</td>\n",
              "      <td>327737.0</td>\n",
              "      <td>-222263.0</td>\n",
              "    </tr>\n",
              "    <tr>\n",
              "      <th>2</th>\n",
              "      <td>550000</td>\n",
              "      <td>733116.0</td>\n",
              "      <td>183116.0</td>\n",
              "    </tr>\n",
              "    <tr>\n",
              "      <th>3</th>\n",
              "      <td>600000</td>\n",
              "      <td>546518.0</td>\n",
              "      <td>-53482.0</td>\n",
              "    </tr>\n",
              "    <tr>\n",
              "      <th>4</th>\n",
              "      <td>650000</td>\n",
              "      <td>633463.0</td>\n",
              "      <td>-16537.0</td>\n",
              "    </tr>\n",
              "    <tr>\n",
              "      <th>5</th>\n",
              "      <td>650000</td>\n",
              "      <td>671291.0</td>\n",
              "      <td>21291.0</td>\n",
              "    </tr>\n",
              "    <tr>\n",
              "      <th>6</th>\n",
              "      <td>650000</td>\n",
              "      <td>1104496.0</td>\n",
              "      <td>454496.0</td>\n",
              "    </tr>\n",
              "    <tr>\n",
              "      <th>7</th>\n",
              "      <td>650000</td>\n",
              "      <td>599429.0</td>\n",
              "      <td>-50571.0</td>\n",
              "    </tr>\n",
              "    <tr>\n",
              "      <th>8</th>\n",
              "      <td>800000</td>\n",
              "      <td>947318.0</td>\n",
              "      <td>147318.0</td>\n",
              "    </tr>\n",
              "    <tr>\n",
              "      <th>9</th>\n",
              "      <td>850000</td>\n",
              "      <td>480639.0</td>\n",
              "      <td>-369361.0</td>\n",
              "    </tr>\n",
              "    <tr>\n",
              "      <th>10</th>\n",
              "      <td>850000</td>\n",
              "      <td>650023.0</td>\n",
              "      <td>-199977.0</td>\n",
              "    </tr>\n",
              "    <tr>\n",
              "      <th>11</th>\n",
              "      <td>850000</td>\n",
              "      <td>759697.0</td>\n",
              "      <td>-90303.0</td>\n",
              "    </tr>\n",
              "    <tr>\n",
              "      <th>12</th>\n",
              "      <td>1200000</td>\n",
              "      <td>1047581.0</td>\n",
              "      <td>-152419.0</td>\n",
              "    </tr>\n",
              "    <tr>\n",
              "      <th>13</th>\n",
              "      <td>1300000</td>\n",
              "      <td>1342062.0</td>\n",
              "      <td>42062.0</td>\n",
              "    </tr>\n",
              "    <tr>\n",
              "      <th>14</th>\n",
              "      <td>1400000</td>\n",
              "      <td>1856745.0</td>\n",
              "      <td>456745.0</td>\n",
              "    </tr>\n",
              "    <tr>\n",
              "      <th>15</th>\n",
              "      <td>1800000</td>\n",
              "      <td>1387881.0</td>\n",
              "      <td>-412119.0</td>\n",
              "    </tr>\n",
              "    <tr>\n",
              "      <th>16</th>\n",
              "      <td>1900000</td>\n",
              "      <td>2198456.0</td>\n",
              "      <td>298456.0</td>\n",
              "    </tr>\n",
              "    <tr>\n",
              "      <th>17</th>\n",
              "      <td>2200000</td>\n",
              "      <td>2681380.0</td>\n",
              "      <td>481380.0</td>\n",
              "    </tr>\n",
              "    <tr>\n",
              "      <th>18</th>\n",
              "      <td>2400000</td>\n",
              "      <td>2628786.0</td>\n",
              "      <td>228786.0</td>\n",
              "    </tr>\n",
              "    <tr>\n",
              "      <th>19</th>\n",
              "      <td>2700000</td>\n",
              "      <td>2747292.0</td>\n",
              "      <td>47292.0</td>\n",
              "    </tr>\n",
              "  </tbody>\n",
              "</table>\n",
              "</div>"
            ],
            "text/plain": [
              "     y_test  y_predict    errors\n",
              "0    450000   190972.0 -259028.0\n",
              "1    550000   327737.0 -222263.0\n",
              "2    550000   733116.0  183116.0\n",
              "3    600000   546518.0  -53482.0\n",
              "4    650000   633463.0  -16537.0\n",
              "5    650000   671291.0   21291.0\n",
              "6    650000  1104496.0  454496.0\n",
              "7    650000   599429.0  -50571.0\n",
              "8    800000   947318.0  147318.0\n",
              "9    850000   480639.0 -369361.0\n",
              "10   850000   650023.0 -199977.0\n",
              "11   850000   759697.0  -90303.0\n",
              "12  1200000  1047581.0 -152419.0\n",
              "13  1300000  1342062.0   42062.0\n",
              "14  1400000  1856745.0  456745.0\n",
              "15  1800000  1387881.0 -412119.0\n",
              "16  1900000  2198456.0  298456.0\n",
              "17  2200000  2681380.0  481380.0\n",
              "18  2400000  2628786.0  228786.0\n",
              "19  2700000  2747292.0   47292.0"
            ]
          },
          "execution_count": 52,
          "metadata": {},
          "output_type": "execute_result"
        }
      ],
      "source": [
        "predict_df = (pd.DataFrame({\n",
        "    'y_test': y_test,\n",
        "    'y_predict': y_predict,\n",
        "    'errors': (y_predict - y_test)\n",
        "}).sort_values(by='y_test').reset_index(drop=True))\n",
        "predict_df.round()"
      ]
    },
    {
      "cell_type": "code",
      "execution_count": 53,
      "metadata": {},
      "outputs": [
        {
          "data": {
            "image/png": "[encoded data removed]",
            "text/plain": [
              "<Figure size 1000x500 with 2 Axes>"
            ]
          },
          "metadata": {},
          "output_type": "display_data"
        }
      ],
      "source": [
        "fig, (ax1, ax2) = plt.subplots(1, 2, figsize=(10, 5))\n",
        "ax1.plot(predict_df.y_test, 'o', color='tan', label='Actual price')\n",
        "ax1.plot(predict_df.y_predict, 'o', color='r', label='Predicted price')\n",
        "ax1.legend()\n",
        "ax1.set_xticks([])\n",
        "\n",
        "ax2.stem(predict_df.errors, linefmt='tan')\n",
        "ax2.set_title('Predictions Errors')\n",
        "ax2.set_xticks([])\n",
        "\n",
        "fig.tight_layout()\n",
        "plt.show()"
      ]
    },
    {
      "cell_type": "code",
      "execution_count": 54,
      "metadata": {},
      "outputs": [
        {
          "data": {
            "image/png": "[encoded data removed]",
            "text/plain": [
              "<Figure size 1000x500 with 2 Axes>"
            ]
          },
          "metadata": {},
          "output_type": "display_data"
        }
      ],
      "source": [
        "fig, (ax1, ax2) = plt.subplots(1, 2, figsize=(10, 5))\n",
        "fig.suptitle('Errors Distribution')\n",
        "ax1.hist(predict_df.errors, color='tan')\n",
        "\n",
        "ax2.plot(predict_df.errors, 'o', color='tan')\n",
        "ax2.set_xticks([])\n",
        "fig.tight_layout()\n",
        "plt.show()"
      ]
    },
    {
      "cell_type": "markdown",
      "metadata": {},
      "source": [
        "- The model performance is reasonable, as the loss value is approximately a quarter (one-fourth) of the standard deviation.\n",
        "- The errors do not show dependence on the magnitude of the price, indicating consistent performance across the range of price values.\n",
        "- The model makes errors in overestimating and underestimating the price, suggesting a balanced distribution of prediction errors."
      ]
    },
    {
      "cell_type": "markdown",
      "metadata": {},
      "source": [
        "Let's doing the same for data with different approaches to encoding `Model` column"
      ]
    },
    {
      "cell_type": "code",
      "execution_count": 55,
      "metadata": {},
      "outputs": [],
      "source": [
        "def try_model_enc_rmse(X_train_enc, X_test_enc, train_enc_model, test_enc_model):\n",
        "    X_train_enc = pd.concat([X_train_enc, train_enc_model], axis=1)\n",
        "    X_test_enc = pd.concat([X_test_enc, test_enc_model], axis=1)\n",
        "\n",
        "    model_enc = LinearRegression().fit(X_train_enc, y_train)\n",
        "    y_predict_enc = model_enc.predict(X_test_enc)\n",
        "\n",
        "    loss_enc = root_mean_squared_error(y_test, y_predict_enc)\n",
        "    return loss_enc"
      ]
    },
    {
      "cell_type": "code",
      "execution_count": 56,
      "metadata": {},
      "outputs": [
        {
          "name": "stdout",
          "output_type": "stream",
          "text": [
            "Loss (RMSE) for Target Encoding: 482892.3492612963\n",
            "Loss (RMSE) for Binary Encoding: 234075.38623768237\n",
            "Loss (RMSE) for Hashing Encoding: 272152.33834187797\n"
          ]
        }
      ],
      "source": [
        "enc_ = {'Target Encoding': [train_model_target_enc, test_model_target_enc],\n",
        "        'Binary Encoding': [train_model_binary_enc, test_model_binary_enc],\n",
        "        'Hashing Encoding': [train_model_hashing_enc, test_model_hashing_enc]}\n",
        "\n",
        "for enc_name, (train_enc_model, test_enc_model) in enc_.items():\n",
        "    loss = try_model_enc_rmse(X_train_enc, X_test_enc, train_enc_model, test_enc_model)\n",
        "    print(f\"Loss (RMSE) for {enc_name}: {loss}\")"
      ]
    },
    {
      "cell_type": "markdown",
      "metadata": {},
      "source": [
        "The model with Binary encoding the `Model` column provides better results, as it achieves lower value for loss metrics such as `RMSE`. This suggests that encoding the `Model` column captures significant information that improves the model's predictive performance."
      ]
    },
    {
      "cell_type": "markdown",
      "metadata": {
        "id": "0LcACfQ3W3VP"
      },
      "source": [
        "## **Завдання 7**.\n",
        "Ми хочемо проаналізувати як впливає кожен чинник на цільову змінну. Для цього давайте промасштабуємо наші дані.\n",
        "1. Зробіть масштабування незалежних змінних використовуючи `StandardScaler`. Тренуємо на тренувальних даних, а на тестувальних лише викликаємо `transform`.\n",
        "\n",
        "2. Натренуйте модель на відмасштабованих даних і перегляньте коефіцієнти моделі. Які колонки є найвпливовішими на формування передбачення з точки зору коефіцієнтів? Проаналізуйте напрям дії найважливіших коефіцієнтів. Чи це логічно з точки зору значення відповідних змінних, що вони впливають на цільову змінну саме в напрямі збільшення / зменшення?"
      ]
    },
    {
      "cell_type": "markdown",
      "metadata": {},
      "source": [
        "Use only initial numerical columns for StandardScaler and stay encoded columns as is. "
      ]
    },
    {
      "cell_type": "code",
      "execution_count": 57,
      "metadata": {},
      "outputs": [
        {
          "data": {
            "text/plain": [
              "Index(['Year', 'Kilometers_Driven', 'Mileage', 'Engine', 'Power', 'Seats',\n",
              "       'is_petrol', 'is_automatic', 'Audi', 'BMW', 'Ford', 'Honda', 'Hyundai',\n",
              "       'Mahindra', 'Maruti', 'Mercedes', 'Tata', 'Toyota', 'Volkswagen',\n",
              "       'Owner_Type_Codes'],\n",
              "      dtype='object')"
            ]
          },
          "execution_count": 57,
          "metadata": {},
          "output_type": "execute_result"
        }
      ],
      "source": [
        "X_train.columns"
      ]
    },
    {
      "cell_type": "code",
      "execution_count": 58,
      "metadata": {},
      "outputs": [
        {
          "data": {
            "text/plain": [
              "['Year', 'Kilometers_Driven', 'Mileage', 'Engine', 'Power', 'Seats']"
            ]
          },
          "execution_count": 58,
          "metadata": {},
          "output_type": "execute_result"
        }
      ],
      "source": [
        "num_cols"
      ]
    },
    {
      "cell_type": "code",
      "execution_count": 59,
      "metadata": {},
      "outputs": [
        {
          "data": {
            "text/plain": [
              "['Tata',\n",
              " 'Hyundai',\n",
              " 'Maruti',\n",
              " 'BMW',\n",
              " 'Volkswagen',\n",
              " 'is_automatic',\n",
              " 'Mahindra',\n",
              " 'Toyota',\n",
              " 'Honda',\n",
              " 'Mercedes',\n",
              " 'is_petrol',\n",
              " 'Audi',\n",
              " 'Owner_Type_Codes',\n",
              " 'Ford']"
            ]
          },
          "execution_count": 59,
          "metadata": {},
          "output_type": "execute_result"
        }
      ],
      "source": [
        "cat_cols = list(set(X_train.columns) - set(num_cols))\n",
        "cat_cols"
      ]
    },
    {
      "cell_type": "code",
      "execution_count": 60,
      "metadata": {
        "id": "HA-l3vUWf6Af"
      },
      "outputs": [],
      "source": [
        "scaler = StandardScaler().set_output(transform='pandas').fit(X_train[num_cols])\n",
        "scaled_num_train = scaler.transform(X_train[num_cols])\n",
        "scaled_num_test = scaler.transform(X_test[num_cols])"
      ]
    },
    {
      "cell_type": "markdown",
      "metadata": {},
      "source": [
        "Concatenate scaled numerical columns with categorical columns."
      ]
    },
    {
      "cell_type": "code",
      "execution_count": 61,
      "metadata": {},
      "outputs": [],
      "source": [
        "X_train_scaled = pd.concat((scaled_num_train, X_train[cat_cols]), axis=1)\n",
        "X_test_scaled = pd.concat((scaled_num_test, X_test[cat_cols]), axis=1)"
      ]
    },
    {
      "cell_type": "code",
      "execution_count": 62,
      "metadata": {},
      "outputs": [],
      "source": [
        "def train_linear_model_with_rmse(X_train, y_train, X_test, y_test):\n",
        "    model = LinearRegression().fit(X_train, y_train)\n",
        "    y_predict = model.predict(X_test)\n",
        "    loss = root_mean_squared_error(y_test, y_predict)\n",
        "    print(f'Loss RMSE: {loss}')\n",
        "    return model"
      ]
    },
    {
      "cell_type": "code",
      "execution_count": 63,
      "metadata": {},
      "outputs": [
        {
          "name": "stdout",
          "output_type": "stream",
          "text": [
            "Loss RMSE: 259601.2654272342\n"
          ]
        },
        {
          "data": {
            "text/html": [
              "<style>#sk-container-id-1 {\n",
              "  /* Definition of color scheme common for light and dark mode */\n",
              "  --sklearn-color-text: #000;\n",
              "  --sklearn-color-text-muted: #666;\n",
              "  --sklearn-color-line: gray;\n",
              "  /* Definition of color scheme for unfitted estimators */\n",
              "  --sklearn-color-unfitted-level-0: #fff5e6;\n",
              "  --sklearn-color-unfitted-level-1: #f6e4d2;\n",
              "  --sklearn-color-unfitted-level-2: #ffe0b3;\n",
              "  --sklearn-color-unfitted-level-3: chocolate;\n",
              "  /* Definition of color scheme for fitted estimators */\n",
              "  --sklearn-color-fitted-level-0: #f0f8ff;\n",
              "  --sklearn-color-fitted-level-1: #d4ebff;\n",
              "  --sklearn-color-fitted-level-2: #b3dbfd;\n",
              "  --sklearn-color-fitted-level-3: cornflowerblue;\n",
              "\n",
              "  /* Specific color for light theme */\n",
              "  --sklearn-color-text-on-default-background: var(--sg-text-color, var(--theme-code-foreground, var(--jp-content-font-color1, black)));\n",
              "  --sklearn-color-background: var(--sg-background-color, var(--theme-background, var(--jp-layout-color0, white)));\n",
              "  --sklearn-color-border-box: var(--sg-text-color, var(--theme-code-foreground, var(--jp-content-font-color1, black)));\n",
              "  --sklearn-color-icon: #696969;\n",
              "\n",
              "  @media (prefers-color-scheme: dark) {\n",
              "    /* Redefinition of color scheme for dark theme */\n",
              "    --sklearn-color-text-on-default-background: var(--sg-text-color, var(--theme-code-foreground, var(--jp-content-font-color1, white)));\n",
              "    --sklearn-color-background: var(--sg-background-color, var(--theme-background, var(--jp-layout-color0, #111)));\n",
              "    --sklearn-color-border-box: var(--sg-text-color, var(--theme-code-foreground, var(--jp-content-font-color1, white)));\n",
              "    --sklearn-color-icon: #878787;\n",
              "  }\n",
              "}\n",
              "\n",
              "#sk-container-id-1 {\n",
              "  color: var(--sklearn-color-text);\n",
              "}\n",
              "\n",
              "#sk-container-id-1 pre {\n",
              "  padding: 0;\n",
              "}\n",
              "\n",
              "#sk-container-id-1 input.sk-hidden--visually {\n",
              "  border: 0;\n",
              "  clip: rect(1px 1px 1px 1px);\n",
              "  clip: rect(1px, 1px, 1px, 1px);\n",
              "  height: 1px;\n",
              "  margin: -1px;\n",
              "  overflow: hidden;\n",
              "  padding: 0;\n",
              "  position: absolute;\n",
              "  width: 1px;\n",
              "}\n",
              "\n",
              "#sk-container-id-1 div.sk-dashed-wrapped {\n",
              "  border: 1px dashed var(--sklearn-color-line);\n",
              "  margin: 0 0.4em 0.5em 0.4em;\n",
              "  box-sizing: border-box;\n",
              "  padding-bottom: 0.4em;\n",
              "  background-color: var(--sklearn-color-background);\n",
              "}\n",
              "\n",
              "#sk-container-id-1 div.sk-container {\n",
              "  /* jupyter's `normalize.less` sets `[hidden] { display: none; }`\n",
              "     but bootstrap.min.css set `[hidden] { display: none !important; }`\n",
              "     so we also need the `!important` here to be able to override the\n",
              "     default hidden behavior on the sphinx rendered scikit-learn.org.\n",
              "     See: https://github.com/scikit-learn/scikit-learn/issues/21755 */\n",
              "  display: inline-block !important;\n",
              "  position: relative;\n",
              "}\n",
              "\n",
              "#sk-container-id-1 div.sk-text-repr-fallback {\n",
              "  display: none;\n",
              "}\n",
              "\n",
              "div.sk-parallel-item,\n",
              "div.sk-serial,\n",
              "div.sk-item {\n",
              "  /* draw centered vertical line to link estimators */\n",
              "  background-image: linear-gradient(var(--sklearn-color-text-on-default-background), var(--sklearn-color-text-on-default-background));\n",
              "  background-size: 2px 100%;\n",
              "  background-repeat: no-repeat;\n",
              "  background-position: center center;\n",
              "}\n",
              "\n",
              "/* Parallel-specific style estimator block */\n",
              "\n",
              "#sk-container-id-1 div.sk-parallel-item::after {\n",
              "  content: \"\";\n",
              "  width: 100%;\n",
              "  border-bottom: 2px solid var(--sklearn-color-text-on-default-background);\n",
              "  flex-grow: 1;\n",
              "}\n",
              "\n",
              "#sk-container-id-1 div.sk-parallel {\n",
              "  display: flex;\n",
              "  align-items: stretch;\n",
              "  justify-content: center;\n",
              "  background-color: var(--sklearn-color-background);\n",
              "  position: relative;\n",
              "}\n",
              "\n",
              "#sk-container-id-1 div.sk-parallel-item {\n",
              "  display: flex;\n",
              "  flex-direction: column;\n",
              "}\n",
              "\n",
              "#sk-container-id-1 div.sk-parallel-item:first-child::after {\n",
              "  align-self: flex-end;\n",
              "  width: 50%;\n",
              "}\n",
              "\n",
              "#sk-container-id-1 div.sk-parallel-item:last-child::after {\n",
              "  align-self: flex-start;\n",
              "  width: 50%;\n",
              "}\n",
              "\n",
              "#sk-container-id-1 div.sk-parallel-item:only-child::after {\n",
              "  width: 0;\n",
              "}\n",
              "\n",
              "/* Serial-specific style estimator block */\n",
              "\n",
              "#sk-container-id-1 div.sk-serial {\n",
              "  display: flex;\n",
              "  flex-direction: column;\n",
              "  align-items: center;\n",
              "  background-color: var(--sklearn-color-background);\n",
              "  padding-right: 1em;\n",
              "  padding-left: 1em;\n",
              "}\n",
              "\n",
              "\n",
              "/* Toggleable style: style used for estimator/Pipeline/ColumnTransformer box that is\n",
              "clickable and can be expanded/collapsed.\n",
              "- Pipeline and ColumnTransformer use this feature and define the default style\n",
              "- Estimators will overwrite some part of the style using the `sk-estimator` class\n",
              "*/\n",
              "\n",
              "/* Pipeline and ColumnTransformer style (default) */\n",
              "\n",
              "#sk-container-id-1 div.sk-toggleable {\n",
              "  /* Default theme specific background. It is overwritten whether we have a\n",
              "  specific estimator or a Pipeline/ColumnTransformer */\n",
              "  background-color: var(--sklearn-color-background);\n",
              "}\n",
              "\n",
              "/* Toggleable label */\n",
              "#sk-container-id-1 label.sk-toggleable__label {\n",
              "  cursor: pointer;\n",
              "  display: flex;\n",
              "  width: 100%;\n",
              "  margin-bottom: 0;\n",
              "  padding: 0.5em;\n",
              "  box-sizing: border-box;\n",
              "  text-align: center;\n",
              "  align-items: start;\n",
              "  justify-content: space-between;\n",
              "  gap: 0.5em;\n",
              "}\n",
              "\n",
              "#sk-container-id-1 label.sk-toggleable__label .caption {\n",
              "  font-size: 0.6rem;\n",
              "  font-weight: lighter;\n",
              "  color: var(--sklearn-color-text-muted);\n",
              "}\n",
              "\n",
              "#sk-container-id-1 label.sk-toggleable__label-arrow:before {\n",
              "  /* Arrow on the left of the label */\n",
              "  content: \"▸\";\n",
              "  float: left;\n",
              "  margin-right: 0.25em;\n",
              "  color: var(--sklearn-color-icon);\n",
              "}\n",
              "\n",
              "#sk-container-id-1 label.sk-toggleable__label-arrow:hover:before {\n",
              "  color: var(--sklearn-color-text);\n",
              "}\n",
              "\n",
              "/* Toggleable content - dropdown */\n",
              "\n",
              "#sk-container-id-1 div.sk-toggleable__content {\n",
              "  max-height: 0;\n",
              "  max-width: 0;\n",
              "  overflow: hidden;\n",
              "  text-align: left;\n",
              "  /* unfitted */\n",
              "  background-color: var(--sklearn-color-unfitted-level-0);\n",
              "}\n",
              "\n",
              "#sk-container-id-1 div.sk-toggleable__content.fitted {\n",
              "  /* fitted */\n",
              "  background-color: var(--sklearn-color-fitted-level-0);\n",
              "}\n",
              "\n",
              "#sk-container-id-1 div.sk-toggleable__content pre {\n",
              "  margin: 0.2em;\n",
              "  border-radius: 0.25em;\n",
              "  color: var(--sklearn-color-text);\n",
              "  /* unfitted */\n",
              "  background-color: var(--sklearn-color-unfitted-level-0);\n",
              "}\n",
              "\n",
              "#sk-container-id-1 div.sk-toggleable__content.fitted pre {\n",
              "  /* unfitted */\n",
              "  background-color: var(--sklearn-color-fitted-level-0);\n",
              "}\n",
              "\n",
              "#sk-container-id-1 input.sk-toggleable__control:checked~div.sk-toggleable__content {\n",
              "  /* Expand drop-down */\n",
              "  max-height: 200px;\n",
              "  max-width: 100%;\n",
              "  overflow: auto;\n",
              "}\n",
              "\n",
              "#sk-container-id-1 input.sk-toggleable__control:checked~label.sk-toggleable__label-arrow:before {\n",
              "  content: \"▾\";\n",
              "}\n",
              "\n",
              "/* Pipeline/ColumnTransformer-specific style */\n",
              "\n",
              "#sk-container-id-1 div.sk-label input.sk-toggleable__control:checked~label.sk-toggleable__label {\n",
              "  color: var(--sklearn-color-text);\n",
              "  background-color: var(--sklearn-color-unfitted-level-2);\n",
              "}\n",
              "\n",
              "#sk-container-id-1 div.sk-label.fitted input.sk-toggleable__control:checked~label.sk-toggleable__label {\n",
              "  background-color: var(--sklearn-color-fitted-level-2);\n",
              "}\n",
              "\n",
              "/* Estimator-specific style */\n",
              "\n",
              "/* Colorize estimator box */\n",
              "#sk-container-id-1 div.sk-estimator input.sk-toggleable__control:checked~label.sk-toggleable__label {\n",
              "  /* unfitted */\n",
              "  background-color: var(--sklearn-color-unfitted-level-2);\n",
              "}\n",
              "\n",
              "#sk-container-id-1 div.sk-estimator.fitted input.sk-toggleable__control:checked~label.sk-toggleable__label {\n",
              "  /* fitted */\n",
              "  background-color: var(--sklearn-color-fitted-level-2);\n",
              "}\n",
              "\n",
              "#sk-container-id-1 div.sk-label label.sk-toggleable__label,\n",
              "#sk-container-id-1 div.sk-label label {\n",
              "  /* The background is the default theme color */\n",
              "  color: var(--sklearn-color-text-on-default-background);\n",
              "}\n",
              "\n",
              "/* On hover, darken the color of the background */\n",
              "#sk-container-id-1 div.sk-label:hover label.sk-toggleable__label {\n",
              "  color: var(--sklearn-color-text);\n",
              "  background-color: var(--sklearn-color-unfitted-level-2);\n",
              "}\n",
              "\n",
              "/* Label box, darken color on hover, fitted */\n",
              "#sk-container-id-1 div.sk-label.fitted:hover label.sk-toggleable__label.fitted {\n",
              "  color: var(--sklearn-color-text);\n",
              "  background-color: var(--sklearn-color-fitted-level-2);\n",
              "}\n",
              "\n",
              "/* Estimator label */\n",
              "\n",
              "#sk-container-id-1 div.sk-label label {\n",
              "  font-family: monospace;\n",
              "  font-weight: bold;\n",
              "  display: inline-block;\n",
              "  line-height: 1.2em;\n",
              "}\n",
              "\n",
              "#sk-container-id-1 div.sk-label-container {\n",
              "  text-align: center;\n",
              "}\n",
              "\n",
              "/* Estimator-specific */\n",
              "#sk-container-id-1 div.sk-estimator {\n",
              "  font-family: monospace;\n",
              "  border: 1px dotted var(--sklearn-color-border-box);\n",
              "  border-radius: 0.25em;\n",
              "  box-sizing: border-box;\n",
              "  margin-bottom: 0.5em;\n",
              "  /* unfitted */\n",
              "  background-color: var(--sklearn-color-unfitted-level-0);\n",
              "}\n",
              "\n",
              "#sk-container-id-1 div.sk-estimator.fitted {\n",
              "  /* fitted */\n",
              "  background-color: var(--sklearn-color-fitted-level-0);\n",
              "}\n",
              "\n",
              "/* on hover */\n",
              "#sk-container-id-1 div.sk-estimator:hover {\n",
              "  /* unfitted */\n",
              "  background-color: var(--sklearn-color-unfitted-level-2);\n",
              "}\n",
              "\n",
              "#sk-container-id-1 div.sk-estimator.fitted:hover {\n",
              "  /* fitted */\n",
              "  background-color: var(--sklearn-color-fitted-level-2);\n",
              "}\n",
              "\n",
              "/* Specification for estimator info (e.g. \"i\" and \"?\") */\n",
              "\n",
              "/* Common style for \"i\" and \"?\" */\n",
              "\n",
              ".sk-estimator-doc-link,\n",
              "a:link.sk-estimator-doc-link,\n",
              "a:visited.sk-estimator-doc-link {\n",
              "  float: right;\n",
              "  font-size: smaller;\n",
              "  line-height: 1em;\n",
              "  font-family: monospace;\n",
              "  background-color: var(--sklearn-color-background);\n",
              "  border-radius: 1em;\n",
              "  height: 1em;\n",
              "  width: 1em;\n",
              "  text-decoration: none !important;\n",
              "  margin-left: 0.5em;\n",
              "  text-align: center;\n",
              "  /* unfitted */\n",
              "  border: var(--sklearn-color-unfitted-level-1) 1pt solid;\n",
              "  color: var(--sklearn-color-unfitted-level-1);\n",
              "}\n",
              "\n",
              ".sk-estimator-doc-link.fitted,\n",
              "a:link.sk-estimator-doc-link.fitted,\n",
              "a:visited.sk-estimator-doc-link.fitted {\n",
              "  /* fitted */\n",
              "  border: var(--sklearn-color-fitted-level-1) 1pt solid;\n",
              "  color: var(--sklearn-color-fitted-level-1);\n",
              "}\n",
              "\n",
              "/* On hover */\n",
              "div.sk-estimator:hover .sk-estimator-doc-link:hover,\n",
              ".sk-estimator-doc-link:hover,\n",
              "div.sk-label-container:hover .sk-estimator-doc-link:hover,\n",
              ".sk-estimator-doc-link:hover {\n",
              "  /* unfitted */\n",
              "  background-color: var(--sklearn-color-unfitted-level-3);\n",
              "  color: var(--sklearn-color-background);\n",
              "  text-decoration: none;\n",
              "}\n",
              "\n",
              "div.sk-estimator.fitted:hover .sk-estimator-doc-link.fitted:hover,\n",
              ".sk-estimator-doc-link.fitted:hover,\n",
              "div.sk-label-container:hover .sk-estimator-doc-link.fitted:hover,\n",
              ".sk-estimator-doc-link.fitted:hover {\n",
              "  /* fitted */\n",
              "  background-color: var(--sklearn-color-fitted-level-3);\n",
              "  color: var(--sklearn-color-background);\n",
              "  text-decoration: none;\n",
              "}\n",
              "\n",
              "/* Span, style for the box shown on hovering the info icon */\n",
              ".sk-estimator-doc-link span {\n",
              "  display: none;\n",
              "  z-index: 9999;\n",
              "  position: relative;\n",
              "  font-weight: normal;\n",
              "  right: .2ex;\n",
              "  padding: .5ex;\n",
              "  margin: .5ex;\n",
              "  width: min-content;\n",
              "  min-width: 20ex;\n",
              "  max-width: 50ex;\n",
              "  color: var(--sklearn-color-text);\n",
              "  box-shadow: 2pt 2pt 4pt #999;\n",
              "  /* unfitted */\n",
              "  background: var(--sklearn-color-unfitted-level-0);\n",
              "  border: .5pt solid var(--sklearn-color-unfitted-level-3);\n",
              "}\n",
              "\n",
              ".sk-estimator-doc-link.fitted span {\n",
              "  /* fitted */\n",
              "  background: var(--sklearn-color-fitted-level-0);\n",
              "  border: var(--sklearn-color-fitted-level-3);\n",
              "}\n",
              "\n",
              ".sk-estimator-doc-link:hover span {\n",
              "  display: block;\n",
              "}\n",
              "\n",
              "/* \"?\"-specific style due to the `<a>` HTML tag */\n",
              "\n",
              "#sk-container-id-1 a.estimator_doc_link {\n",
              "  float: right;\n",
              "  font-size: 1rem;\n",
              "  line-height: 1em;\n",
              "  font-family: monospace;\n",
              "  background-color: var(--sklearn-color-background);\n",
              "  border-radius: 1rem;\n",
              "  height: 1rem;\n",
              "  width: 1rem;\n",
              "  text-decoration: none;\n",
              "  /* unfitted */\n",
              "  color: var(--sklearn-color-unfitted-level-1);\n",
              "  border: var(--sklearn-color-unfitted-level-1) 1pt solid;\n",
              "}\n",
              "\n",
              "#sk-container-id-1 a.estimator_doc_link.fitted {\n",
              "  /* fitted */\n",
              "  border: var(--sklearn-color-fitted-level-1) 1pt solid;\n",
              "  color: var(--sklearn-color-fitted-level-1);\n",
              "}\n",
              "\n",
              "/* On hover */\n",
              "#sk-container-id-1 a.estimator_doc_link:hover {\n",
              "  /* unfitted */\n",
              "  background-color: var(--sklearn-color-unfitted-level-3);\n",
              "  color: var(--sklearn-color-background);\n",
              "  text-decoration: none;\n",
              "}\n",
              "\n",
              "#sk-container-id-1 a.estimator_doc_link.fitted:hover {\n",
              "  /* fitted */\n",
              "  background-color: var(--sklearn-color-fitted-level-3);\n",
              "}\n",
              "</style><div id=\"sk-container-id-1\" class=\"sk-top-container\"><div class=\"sk-text-repr-fallback\"><pre>LinearRegression()</pre><b>In a Jupyter environment, please rerun this cell to show the HTML representation or trust the notebook. <br />On GitHub, the HTML representation is unable to render, please try loading this page with nbviewer.org.</b></div><div class=\"sk-container\" hidden><div class=\"sk-item\"><div class=\"sk-estimator fitted sk-toggleable\"><input class=\"sk-toggleable__control sk-hidden--visually\" id=\"sk-estimator-id-1\" type=\"checkbox\" checked><label for=\"sk-estimator-id-1\" class=\"sk-toggleable__label fitted sk-toggleable__label-arrow\"><div><div>LinearRegression</div></div><div><a class=\"sk-estimator-doc-link fitted\" rel=\"noreferrer\" target=\"_blank\" href=\"https://scikit-learn.org/1.6/modules/generated/sklearn.linear_model.LinearRegression.html\">?<span>Documentation for LinearRegression</span></a><span class=\"sk-estimator-doc-link fitted\">i<span>Fitted</span></span></div></label><div class=\"sk-toggleable__content fitted\"><pre>LinearRegression()</pre></div> </div></div></div></div>"
            ],
            "text/plain": [
              "LinearRegression()"
            ]
          },
          "execution_count": 63,
          "metadata": {},
          "output_type": "execute_result"
        }
      ],
      "source": [
        "train_linear_model_with_rmse(X_train_scaled, y_train, X_test_scaled, y_test)"
      ]
    },
    {
      "cell_type": "code",
      "execution_count": 64,
      "metadata": {},
      "outputs": [],
      "source": [
        "weights_df = pd.DataFrame({'feature': np.append(X_train_scaled.columns, 'const'),\n",
        "                           'weight': np.append(model.coef_, model.intercept_)})"
      ]
    },
    {
      "cell_type": "code",
      "execution_count": 65,
      "metadata": {},
      "outputs": [
        {
          "data": {
            "text/html": [
              "<div>\n",
              "<style scoped>\n",
              "    .dataframe tbody tr th:only-of-type {\n",
              "        vertical-align: middle;\n",
              "    }\n",
              "\n",
              "    .dataframe tbody tr th {\n",
              "        vertical-align: top;\n",
              "    }\n",
              "\n",
              "    .dataframe thead th {\n",
              "        text-align: right;\n",
              "    }\n",
              "</style>\n",
              "<table border=\"1\" class=\"dataframe\">\n",
              "  <thead>\n",
              "    <tr style=\"text-align: right;\">\n",
              "      <th></th>\n",
              "      <th>feature</th>\n",
              "      <th>weight</th>\n",
              "    </tr>\n",
              "  </thead>\n",
              "  <tbody>\n",
              "    <tr>\n",
              "      <th>20</th>\n",
              "      <td>const</td>\n",
              "      <td>22529792</td>\n",
              "    </tr>\n",
              "    <tr>\n",
              "      <th>8</th>\n",
              "      <td>Maruti</td>\n",
              "      <td>758803</td>\n",
              "    </tr>\n",
              "    <tr>\n",
              "      <th>15</th>\n",
              "      <td>Mercedes</td>\n",
              "      <td>733975</td>\n",
              "    </tr>\n",
              "    <tr>\n",
              "      <th>9</th>\n",
              "      <td>BMW</td>\n",
              "      <td>730327</td>\n",
              "    </tr>\n",
              "    <tr>\n",
              "      <th>7</th>\n",
              "      <td>Hyundai</td>\n",
              "      <td>236368</td>\n",
              "    </tr>\n",
              "    <tr>\n",
              "      <th>17</th>\n",
              "      <td>Audi</td>\n",
              "      <td>130458</td>\n",
              "    </tr>\n",
              "    <tr>\n",
              "      <th>19</th>\n",
              "      <td>Ford</td>\n",
              "      <td>66278</td>\n",
              "    </tr>\n",
              "    <tr>\n",
              "      <th>4</th>\n",
              "      <td>Power</td>\n",
              "      <td>6141</td>\n",
              "    </tr>\n",
              "    <tr>\n",
              "      <th>1</th>\n",
              "      <td>Kilometers_Driven</td>\n",
              "      <td>-11</td>\n",
              "    </tr>\n",
              "    <tr>\n",
              "      <th>3</th>\n",
              "      <td>Engine</td>\n",
              "      <td>-38</td>\n",
              "    </tr>\n",
              "    <tr>\n",
              "      <th>5</th>\n",
              "      <td>Seats</td>\n",
              "      <td>-2353</td>\n",
              "    </tr>\n",
              "    <tr>\n",
              "      <th>0</th>\n",
              "      <td>Year</td>\n",
              "      <td>-10354</td>\n",
              "    </tr>\n",
              "    <tr>\n",
              "      <th>2</th>\n",
              "      <td>Mileage</td>\n",
              "      <td>-38667</td>\n",
              "    </tr>\n",
              "    <tr>\n",
              "      <th>16</th>\n",
              "      <td>is_petrol</td>\n",
              "      <td>-126504</td>\n",
              "    </tr>\n",
              "    <tr>\n",
              "      <th>11</th>\n",
              "      <td>is_automatic</td>\n",
              "      <td>-189003</td>\n",
              "    </tr>\n",
              "    <tr>\n",
              "      <th>18</th>\n",
              "      <td>Owner_Type_Codes</td>\n",
              "      <td>-258785</td>\n",
              "    </tr>\n",
              "    <tr>\n",
              "      <th>10</th>\n",
              "      <td>Volkswagen</td>\n",
              "      <td>-305098</td>\n",
              "    </tr>\n",
              "    <tr>\n",
              "      <th>6</th>\n",
              "      <td>Tata</td>\n",
              "      <td>-370608</td>\n",
              "    </tr>\n",
              "    <tr>\n",
              "      <th>14</th>\n",
              "      <td>Honda</td>\n",
              "      <td>-394216</td>\n",
              "    </tr>\n",
              "    <tr>\n",
              "      <th>12</th>\n",
              "      <td>Mahindra</td>\n",
              "      <td>-505043</td>\n",
              "    </tr>\n",
              "    <tr>\n",
              "      <th>13</th>\n",
              "      <td>Toyota</td>\n",
              "      <td>-574913</td>\n",
              "    </tr>\n",
              "  </tbody>\n",
              "</table>\n",
              "</div>"
            ],
            "text/plain": [
              "              feature   weight\n",
              "20              const 22529792\n",
              "8              Maruti   758803\n",
              "15           Mercedes   733975\n",
              "9                 BMW   730327\n",
              "7             Hyundai   236368\n",
              "17               Audi   130458\n",
              "19               Ford    66278\n",
              "4               Power     6141\n",
              "1   Kilometers_Driven      -11\n",
              "3              Engine      -38\n",
              "5               Seats    -2353\n",
              "0                Year   -10354\n",
              "2             Mileage   -38667\n",
              "16          is_petrol  -126504\n",
              "11       is_automatic  -189003\n",
              "18   Owner_Type_Codes  -258785\n",
              "10         Volkswagen  -305098\n",
              "6                Tata  -370608\n",
              "14              Honda  -394216\n",
              "12           Mahindra  -505043\n",
              "13             Toyota  -574913"
            ]
          },
          "metadata": {},
          "output_type": "display_data"
        }
      ],
      "source": [
        "with pd.option_context('display.float_format', '{:.0f}'.format):\n",
        "    display(weights_df.sort_values('weight', ascending=False))"
      ]
    },
    {
      "cell_type": "markdown",
      "metadata": {},
      "source": [
        "Feature Importance Analysis Based on Model Weights:\n",
        "- The most important columns, based on model's weights, are `const`, `Mercedes`, `Toyota`, `Mahindra`, `Ford`, `Tata`, and `Honda` (representing car brands). This aligns with the expectation that the the car's brand significantly impacts price determination.\n",
        "- Brands such as `Mercedes`, `Maruti`, and `Hyundai` are associated with an increase in car prices, while `Mahindra`, `Ford`, `Tata`, and `Honda` tend to lower the price.\n",
        "- The presence of an automatic transmission (`is_automatic` column) and the `is_petrol` fuel type tend to increase car prices."
      ]
    },
    {
      "cell_type": "markdown",
      "metadata": {
        "id": "WNNkfnrHr7wL"
      },
      "source": [
        "## **Завдання 8.**\n",
        "На тих самих відмасштабованих даних натренуйте модель з `statsmodels`. Виведіть звіт і проаналізуйте p-value коефіцієнтів. Які ознаки є стат. значущими на рівні значущості 0.05? Напишіть їх список."
      ]
    },
    {
      "cell_type": "code",
      "execution_count": 66,
      "metadata": {},
      "outputs": [],
      "source": [
        "X_train_scaled_const = sm.add_constant(X_train_scaled)\n",
        "model_sm = sm.OLS(y_train, X_train_scaled_const)\n",
        "results = model_sm.fit()"
      ]
    },
    {
      "cell_type": "code",
      "execution_count": 67,
      "metadata": {},
      "outputs": [
        {
          "name": "stdout",
          "output_type": "stream",
          "text": [
            "                            OLS Regression Results                            \n",
            "==============================================================================\n",
            "Dep. Variable:                  Price   R-squared:                       0.959\n",
            "Model:                            OLS   Adj. R-squared:                  0.946\n",
            "Method:                 Least Squares   F-statistic:                     73.14\n",
            "Date:                Thu, 09 Jan 2025   Prob (F-statistic):           2.34e-34\n",
            "Time:                        10:29:33   Log-Likelihood:                -1094.0\n",
            "No. Observations:                  80   AIC:                             2228.\n",
            "Df Residuals:                      60   BIC:                             2276.\n",
            "Df Model:                          19                                         \n",
            "Covariance Type:            nonrobust                                         \n",
            "=====================================================================================\n",
            "                        coef    std err          t      P>|t|      [0.025      0.975]\n",
            "-------------------------------------------------------------------------------------\n",
            "const              1.471e+06   7.09e+04     20.756      0.000    1.33e+06    1.61e+06\n",
            "Year               -1.16e+04    5.8e+04     -0.200      0.842   -1.28e+05    1.04e+05\n",
            "Kilometers_Driven -9.971e+04   5.63e+04     -1.772      0.082   -2.12e+05    1.29e+04\n",
            "Mileage           -1.319e+05   5.78e+04     -2.281      0.026   -2.48e+05   -1.62e+04\n",
            "Engine            -2.468e+04   6.95e+04     -0.355      0.724   -1.64e+05    1.14e+05\n",
            "Power                  5e+05   7.23e+04      6.919      0.000    3.55e+05    6.45e+05\n",
            "Seats             -1744.0488   4.18e+04     -0.042      0.967   -8.53e+04    8.18e+04\n",
            "Tata               7185.4630   1.17e+05      0.061      0.951   -2.28e+05    2.42e+05\n",
            "Hyundai           -3.714e+05   1.09e+05     -3.419      0.001   -5.89e+05   -1.54e+05\n",
            "Maruti            -2.605e+05   1.16e+05     -2.248      0.028   -4.92e+05   -2.87e+04\n",
            "BMW                 8.64e+05   1.03e+05      8.415      0.000    6.59e+05    1.07e+06\n",
            "Volkswagen        -1.251e+05   1.07e+05     -1.168      0.248   -3.39e+05    8.92e+04\n",
            "is_automatic       2.364e+05   8.75e+04      2.700      0.009    6.13e+04    4.11e+05\n",
            "Mahindra          -4.412e+05   1.29e+05     -3.422      0.001   -6.99e+05   -1.83e+05\n",
            "Toyota             2.641e+05    1.1e+05      2.401      0.019    4.41e+04    4.84e+05\n",
            "Honda             -5.531e+04   1.37e+05     -0.405      0.687   -3.29e+05    2.18e+05\n",
            "Mercedes           8.677e+05   1.01e+05      8.563      0.000    6.65e+05    1.07e+06\n",
            "is_petrol         -3.706e+05   8.91e+04     -4.161      0.000   -5.49e+05   -1.92e+05\n",
            "Audi               8.925e+05   1.04e+05      8.587      0.000    6.85e+05     1.1e+06\n",
            "Owner_Type_Codes   6.628e+04   7.15e+04      0.927      0.357   -7.67e+04    2.09e+05\n",
            "Ford              -1.714e+05   1.06e+05     -1.610      0.113   -3.84e+05    4.16e+04\n",
            "==============================================================================\n",
            "Omnibus:                        0.150   Durbin-Watson:                   2.054\n",
            "Prob(Omnibus):                  0.928   Jarque-Bera (JB):                0.272\n",
            "Skew:                           0.093   Prob(JB):                        0.873\n",
            "Kurtosis:                       2.784   Cond. No.                     2.33e+16\n",
            "==============================================================================\n",
            "\n",
            "Notes:\n",
            "[1] Standard Errors assume that the covariance matrix of the errors is correctly specified.\n",
            "[2] The smallest eigenvalue is 4.25e-31. This might indicate that there are\n",
            "strong multicollinearity problems or that the design matrix is singular.\n"
          ]
        }
      ],
      "source": [
        "print(results.summary())"
      ]
    },
    {
      "cell_type": "code",
      "execution_count": 68,
      "metadata": {},
      "outputs": [
        {
          "data": {
            "text/plain": [
              "const           4.527937e-29\n",
              "Mileage         2.613313e-02\n",
              "Power           3.439085e-09\n",
              "Hyundai         1.135831e-03\n",
              "Maruti          2.827471e-02\n",
              "BMW             9.640821e-12\n",
              "is_automatic    8.990654e-03\n",
              "Mahindra        1.123548e-03\n",
              "Toyota          1.945814e-02\n",
              "Mercedes        5.400425e-12\n",
              "is_petrol       1.024429e-04\n",
              "Audi            4.920043e-12\n",
              "dtype: float64"
            ]
          },
          "execution_count": 68,
          "metadata": {},
          "output_type": "execute_result"
        }
      ],
      "source": [
        "results.pvalues[results.pvalues < 0.05]"
      ]
    },
    {
      "cell_type": "markdown",
      "metadata": {},
      "source": [
        "-  `R-squared = 0.959` (`Adj. R-squared = 0.946`) - the model explains approximately 95% of the variation in the dependent variable.\n",
        "- The values `F-statistic = 73.14` and `p-value = 2.34e-34` mean that the model is significant and the independent variables significantly improve the explanation of the dependent variable.\n",
        "- Features that are statistically significant at the 0.05 significance level: `const`, `Mileage`, `Power`, `Mahindra`, `Maruti`, `Mercedes`, `is_petrol`, `Toyota`, `BMW`, `is_automatic`, `Audi`, `Hyundai`.\n"
      ]
    },
    {
      "cell_type": "markdown",
      "metadata": {
        "id": "pvOdCEVccfcM"
      },
      "source": [
        "## **Завдання 9**.\n",
        "Натренуйте лінійну регресію з `statsmodels` тільки на ознаках, які виявились стат. значущими в попередньому завданні. Проаналізуйте показники моделі. Чи значно змінились R2 і Adj. R-squared?"
      ]
    },
    {
      "cell_type": "code",
      "execution_count": 69,
      "metadata": {
        "id": "2uE1DqiCf85H"
      },
      "outputs": [
        {
          "name": "stdout",
          "output_type": "stream",
          "text": [
            "                            OLS Regression Results                            \n",
            "==============================================================================\n",
            "Dep. Variable:                  Price   R-squared:                       0.954\n",
            "Model:                            OLS   Adj. R-squared:                  0.947\n",
            "Method:                 Least Squares   F-statistic:                     129.2\n",
            "Date:                Thu, 09 Jan 2025   Prob (F-statistic):           4.53e-41\n",
            "Time:                        10:29:33   Log-Likelihood:                -1098.0\n",
            "No. Observations:                  80   AIC:                             2220.\n",
            "Df Residuals:                      68   BIC:                             2248.\n",
            "Df Model:                          11                                         \n",
            "Covariance Type:            nonrobust                                         \n",
            "================================================================================\n",
            "                   coef    std err          t      P>|t|      [0.025      0.975]\n",
            "--------------------------------------------------------------------------------\n",
            "const         1.348e+06   6.68e+04     20.180      0.000    1.21e+06    1.48e+06\n",
            "Mileage      -9.871e+04   4.01e+04     -2.461      0.016   -1.79e+05   -1.87e+04\n",
            "Power         4.626e+05   4.63e+04      9.986      0.000     3.7e+05    5.55e+05\n",
            "Hyundai      -3.073e+05   1.11e+05     -2.776      0.007   -5.28e+05   -8.64e+04\n",
            "Maruti       -1.178e+05   1.19e+05     -0.991      0.325   -3.55e+05    1.19e+05\n",
            "BMW            1.06e+06   1.05e+05     10.079      0.000     8.5e+05    1.27e+06\n",
            "is_automatic  2.546e+05   7.51e+04      3.392      0.001    1.05e+05    4.04e+05\n",
            "Mahindra     -2.859e+05   1.33e+05     -2.156      0.035   -5.51e+05   -2.13e+04\n",
            "Toyota        2.597e+05   1.01e+05      2.570      0.012    5.81e+04    4.61e+05\n",
            "Mercedes      1.017e+06   1.03e+05      9.890      0.000    8.12e+05    1.22e+06\n",
            "is_petrol    -2.644e+05   5.69e+04     -4.650      0.000   -3.78e+05   -1.51e+05\n",
            "Audi          9.665e+05   1.05e+05      9.234      0.000    7.58e+05    1.18e+06\n",
            "==============================================================================\n",
            "Omnibus:                        0.359   Durbin-Watson:                   1.845\n",
            "Prob(Omnibus):                  0.836   Jarque-Bera (JB):                0.479\n",
            "Skew:                           0.145   Prob(JB):                        0.787\n",
            "Kurtosis:                       2.755   Cond. No.                         8.75\n",
            "==============================================================================\n",
            "\n",
            "Notes:\n",
            "[1] Standard Errors assume that the covariance matrix of the errors is correctly specified.\n"
          ]
        }
      ],
      "source": [
        "significant_05_features = results.pvalues[results.pvalues < 0.05].index.to_list()\n",
        "X_train_scaled_const[significant_05_features]\n",
        "\n",
        "model_sm_05 = sm.OLS(y_train, X_train_scaled_const[significant_05_features])\n",
        "results_05 = model_sm_05.fit()\n",
        "print(results_05.summary())"
      ]
    },
    {
      "cell_type": "markdown",
      "metadata": {},
      "source": [
        "- The new values `R-squared = 0.954` (vs `0.959` earlier) and `Adj. R-squared = 0.947` (vs `0.946` earlier) show minimal differences from the initial model.\n",
        "- The feature `Maruti` is not statistically significant at the 0.05 level in the updated model.\n"
      ]
    },
    {
      "cell_type": "markdown",
      "metadata": {
        "id": "q-AJSrlxdx-p"
      },
      "source": [
        "## **Завдання 10**.\n",
        "Натренуйте лінійну регресію з `statsmodels` на усіх ознаках з масштабованого `X_train`, у яких p_value в завданні 7 менше за `0.25`. Ми таким чином помʼякшили критерій відбору ознак. Проаналізуйте показники моделі. Чи значно змінились R2 і Adj. R-squared порівняно з завданням 7? Яку модель з останніх 3х завдань ви б лишили для використання?"
      ]
    },
    {
      "cell_type": "code",
      "execution_count": 70,
      "metadata": {},
      "outputs": [
        {
          "data": {
            "text/plain": [
              "const                4.527937e-29\n",
              "Kilometers_Driven    8.154400e-02\n",
              "Mileage              2.613313e-02\n",
              "Power                3.439085e-09\n",
              "Hyundai              1.135831e-03\n",
              "Maruti               2.827471e-02\n",
              "BMW                  9.640821e-12\n",
              "Volkswagen           2.475896e-01\n",
              "is_automatic         8.990654e-03\n",
              "Mahindra             1.123548e-03\n",
              "Toyota               1.945814e-02\n",
              "Mercedes             5.400425e-12\n",
              "is_petrol            1.024429e-04\n",
              "Audi                 4.920043e-12\n",
              "Ford                 1.127464e-01\n",
              "dtype: float64"
            ]
          },
          "execution_count": 70,
          "metadata": {},
          "output_type": "execute_result"
        }
      ],
      "source": [
        "results.pvalues[results.pvalues < 0.25]"
      ]
    },
    {
      "cell_type": "code",
      "execution_count": 71,
      "metadata": {
        "id": "nBVF4b-bgAdz"
      },
      "outputs": [
        {
          "name": "stdout",
          "output_type": "stream",
          "text": [
            "                            OLS Regression Results                            \n",
            "==============================================================================\n",
            "Dep. Variable:                  Price   R-squared:                       0.958\n",
            "Model:                            OLS   Adj. R-squared:                  0.949\n",
            "Method:                 Least Squares   F-statistic:                     105.5\n",
            "Date:                Thu, 09 Jan 2025   Prob (F-statistic):           4.79e-39\n",
            "Time:                        10:29:33   Log-Likelihood:                -1094.8\n",
            "No. Observations:                  80   AIC:                             2220.\n",
            "Df Residuals:                      65   BIC:                             2255.\n",
            "Df Model:                          14                                         \n",
            "Covariance Type:            nonrobust                                         \n",
            "=====================================================================================\n",
            "                        coef    std err          t      P>|t|      [0.025      0.975]\n",
            "-------------------------------------------------------------------------------------\n",
            "const              1.414e+06   8.88e+04     15.915      0.000    1.24e+06    1.59e+06\n",
            "Kilometers_Driven -7.888e+04   3.44e+04     -2.291      0.025   -1.48e+05   -1.01e+04\n",
            "Mileage           -1.234e+05   4.42e+04     -2.788      0.007   -2.12e+05    -3.5e+04\n",
            "Power              4.652e+05   4.86e+04      9.571      0.000    3.68e+05    5.62e+05\n",
            "Hyundai           -2.711e+05   1.22e+05     -2.218      0.030   -5.15e+05    -2.7e+04\n",
            "Maruti            -1.756e+05   1.32e+05     -1.331      0.188   -4.39e+05    8.78e+04\n",
            "BMW                 9.68e+05   1.34e+05      7.201      0.000       7e+05    1.24e+06\n",
            "Volkswagen        -1.709e+04   1.28e+05     -0.134      0.894   -2.72e+05    2.38e+05\n",
            "is_automatic       2.406e+05   8.46e+04      2.846      0.006    7.18e+04     4.1e+05\n",
            "Mahindra          -3.575e+05   1.44e+05     -2.489      0.015   -6.44e+05   -7.06e+04\n",
            "Toyota             3.031e+05   1.23e+05      2.461      0.017    5.71e+04    5.49e+05\n",
            "Mercedes           9.529e+05   1.32e+05      7.195      0.000    6.88e+05    1.22e+06\n",
            "is_petrol         -3.233e+05   6.16e+04     -5.245      0.000   -4.46e+05      -2e+05\n",
            "Audi               9.544e+05   1.29e+05      7.397      0.000    6.97e+05    1.21e+06\n",
            "Ford              -5.748e+04   1.25e+05     -0.461      0.646   -3.06e+05    1.92e+05\n",
            "==============================================================================\n",
            "Omnibus:                        0.294   Durbin-Watson:                   2.000\n",
            "Prob(Omnibus):                  0.863   Jarque-Bera (JB):                0.420\n",
            "Skew:                           0.130   Prob(JB):                        0.811\n",
            "Kurtosis:                       2.758   Cond. No.                         15.0\n",
            "==============================================================================\n",
            "\n",
            "Notes:\n",
            "[1] Standard Errors assume that the covariance matrix of the errors is correctly specified.\n"
          ]
        }
      ],
      "source": [
        "significant_25_features = results.pvalues[results.pvalues < 0.25].index.to_list()\n",
        "\n",
        "model_sm_25 = sm.OLS(y_train, X_train_scaled_const[significant_25_features])\n",
        "results_25 = model_sm_25.fit()\n",
        "print(results_25.summary())"
      ]
    },
    {
      "cell_type": "markdown",
      "metadata": {},
      "source": [
        "- The new values `R-squared = 0.958` and `Adj. R-squared = 0.949` are comparable to the initial model with all features.\n",
        "- The final model can be chosen for use, as its `R-squared` value, although slightly, is less than that of the first model and is still quite high, and the `Adj. R-squared` value is the highest among the three, indicating a better fit with fewer variables.\n",
        "- Additionally, the lower `AIC` and `BIC` values for the last model reinforce its suitability by suggesting it strikes a better balance between model complexity and performance.\n"
      ]
    },
    {
      "cell_type": "markdown",
      "metadata": {},
      "source": [
        "### Additional Analysis with the encoding column `Model`"
      ]
    },
    {
      "cell_type": "markdown",
      "metadata": {},
      "source": [
        "#### Binary Encoding\n",
        "\n",
        "Let's analyze the model with Binary Encoding the`Model` column."
      ]
    },
    {
      "cell_type": "code",
      "execution_count": 72,
      "metadata": {},
      "outputs": [
        {
          "name": "stdout",
          "output_type": "stream",
          "text": [
            "Loss RMSE: 234075.38623768347\n"
          ]
        },
        {
          "data": {
            "text/html": [
              "<div>\n",
              "<style scoped>\n",
              "    .dataframe tbody tr th:only-of-type {\n",
              "        vertical-align: middle;\n",
              "    }\n",
              "\n",
              "    .dataframe tbody tr th {\n",
              "        vertical-align: top;\n",
              "    }\n",
              "\n",
              "    .dataframe thead th {\n",
              "        text-align: right;\n",
              "    }\n",
              "</style>\n",
              "<table border=\"1\" class=\"dataframe\">\n",
              "  <thead>\n",
              "    <tr style=\"text-align: right;\">\n",
              "      <th></th>\n",
              "      <th>feature</th>\n",
              "      <th>weight</th>\n",
              "    </tr>\n",
              "  </thead>\n",
              "  <tbody>\n",
              "    <tr>\n",
              "      <th>26</th>\n",
              "      <td>const</td>\n",
              "      <td>1589724</td>\n",
              "    </tr>\n",
              "    <tr>\n",
              "      <th>15</th>\n",
              "      <td>Mercedes</td>\n",
              "      <td>808803</td>\n",
              "    </tr>\n",
              "    <tr>\n",
              "      <th>17</th>\n",
              "      <td>Audi</td>\n",
              "      <td>802618</td>\n",
              "    </tr>\n",
              "    <tr>\n",
              "      <th>9</th>\n",
              "      <td>BMW</td>\n",
              "      <td>697728</td>\n",
              "    </tr>\n",
              "    <tr>\n",
              "      <th>4</th>\n",
              "      <td>Power</td>\n",
              "      <td>511358</td>\n",
              "    </tr>\n",
              "    <tr>\n",
              "      <th>11</th>\n",
              "      <td>is_automatic</td>\n",
              "      <td>272615</td>\n",
              "    </tr>\n",
              "    <tr>\n",
              "      <th>22</th>\n",
              "      <td>Model_2</td>\n",
              "      <td>153064</td>\n",
              "    </tr>\n",
              "    <tr>\n",
              "      <th>13</th>\n",
              "      <td>Toyota</td>\n",
              "      <td>136196</td>\n",
              "    </tr>\n",
              "    <tr>\n",
              "      <th>5</th>\n",
              "      <td>Seats</td>\n",
              "      <td>93896</td>\n",
              "    </tr>\n",
              "    <tr>\n",
              "      <th>18</th>\n",
              "      <td>Owner_Type_Codes</td>\n",
              "      <td>69610</td>\n",
              "    </tr>\n",
              "    <tr>\n",
              "      <th>20</th>\n",
              "      <td>Model_0</td>\n",
              "      <td>42997</td>\n",
              "    </tr>\n",
              "    <tr>\n",
              "      <th>21</th>\n",
              "      <td>Model_1</td>\n",
              "      <td>20184</td>\n",
              "    </tr>\n",
              "    <tr>\n",
              "      <th>24</th>\n",
              "      <td>Model_4</td>\n",
              "      <td>9423</td>\n",
              "    </tr>\n",
              "    <tr>\n",
              "      <th>0</th>\n",
              "      <td>Year</td>\n",
              "      <td>-24031</td>\n",
              "    </tr>\n",
              "    <tr>\n",
              "      <th>3</th>\n",
              "      <td>Engine</td>\n",
              "      <td>-46423</td>\n",
              "    </tr>\n",
              "    <tr>\n",
              "      <th>23</th>\n",
              "      <td>Model_3</td>\n",
              "      <td>-106887</td>\n",
              "    </tr>\n",
              "    <tr>\n",
              "      <th>2</th>\n",
              "      <td>Mileage</td>\n",
              "      <td>-118484</td>\n",
              "    </tr>\n",
              "    <tr>\n",
              "      <th>1</th>\n",
              "      <td>Kilometers_Driven</td>\n",
              "      <td>-123540</td>\n",
              "    </tr>\n",
              "    <tr>\n",
              "      <th>10</th>\n",
              "      <td>Volkswagen</td>\n",
              "      <td>-141466</td>\n",
              "    </tr>\n",
              "    <tr>\n",
              "      <th>6</th>\n",
              "      <td>Tata</td>\n",
              "      <td>-143799</td>\n",
              "    </tr>\n",
              "    <tr>\n",
              "      <th>25</th>\n",
              "      <td>Model_5</td>\n",
              "      <td>-187390</td>\n",
              "    </tr>\n",
              "    <tr>\n",
              "      <th>19</th>\n",
              "      <td>Ford</td>\n",
              "      <td>-246220</td>\n",
              "    </tr>\n",
              "    <tr>\n",
              "      <th>14</th>\n",
              "      <td>Honda</td>\n",
              "      <td>-319003</td>\n",
              "    </tr>\n",
              "    <tr>\n",
              "      <th>16</th>\n",
              "      <td>is_petrol</td>\n",
              "      <td>-323141</td>\n",
              "    </tr>\n",
              "    <tr>\n",
              "      <th>8</th>\n",
              "      <td>Maruti</td>\n",
              "      <td>-395308</td>\n",
              "    </tr>\n",
              "    <tr>\n",
              "      <th>7</th>\n",
              "      <td>Hyundai</td>\n",
              "      <td>-530247</td>\n",
              "    </tr>\n",
              "    <tr>\n",
              "      <th>12</th>\n",
              "      <td>Mahindra</td>\n",
              "      <td>-669302</td>\n",
              "    </tr>\n",
              "  </tbody>\n",
              "</table>\n",
              "</div>"
            ],
            "text/plain": [
              "              feature  weight\n",
              "26              const 1589724\n",
              "15           Mercedes  808803\n",
              "17               Audi  802618\n",
              "9                 BMW  697728\n",
              "4               Power  511358\n",
              "11       is_automatic  272615\n",
              "22            Model_2  153064\n",
              "13             Toyota  136196\n",
              "5               Seats   93896\n",
              "18   Owner_Type_Codes   69610\n",
              "20            Model_0   42997\n",
              "21            Model_1   20184\n",
              "24            Model_4    9423\n",
              "0                Year  -24031\n",
              "3              Engine  -46423\n",
              "23            Model_3 -106887\n",
              "2             Mileage -118484\n",
              "1   Kilometers_Driven -123540\n",
              "10         Volkswagen -141466\n",
              "6                Tata -143799\n",
              "25            Model_5 -187390\n",
              "19               Ford -246220\n",
              "14              Honda -319003\n",
              "16          is_petrol -323141\n",
              "8              Maruti -395308\n",
              "7             Hyundai -530247\n",
              "12           Mahindra -669302"
            ]
          },
          "metadata": {},
          "output_type": "display_data"
        }
      ],
      "source": [
        "X_train_enc_scaled = pd.concat((X_train_scaled, train_model_binary_enc), axis=1)\n",
        "X_test_enc_scaled = pd.concat((X_test_scaled, test_model_binary_enc), axis=1)\n",
        "\n",
        "model_enc_scaled = train_linear_model_with_rmse(X_train_enc_scaled,\n",
        "                                                y_train,\n",
        "                                                X_test_enc_scaled,\n",
        "                                                y_test)\n",
        "\n",
        "weights_df_enc = pd.DataFrame({'feature': np.append(X_train_enc_scaled.columns, 'const'),\n",
        "                               'weight': np.append(model_enc_scaled.coef_,\n",
        "                                               model_enc_scaled.intercept_)})\n",
        "\n",
        "with pd.option_context('display.float_format', '{:.0f}'.format):\n",
        "    display(weights_df_enc.sort_values('weight', ascending=False))"
      ]
    },
    {
      "cell_type": "markdown",
      "metadata": {},
      "source": [
        "The new features has higher coefficient values, indicating a strong influence on the target variable. This suggest they are meaningful additions and improve the model's predictive effectiveness."
      ]
    },
    {
      "cell_type": "code",
      "execution_count": 73,
      "metadata": {},
      "outputs": [
        {
          "name": "stdout",
          "output_type": "stream",
          "text": [
            "                            OLS Regression Results                            \n",
            "==============================================================================\n",
            "Dep. Variable:                  Price   R-squared:                       0.965\n",
            "Model:                            OLS   Adj. R-squared:                  0.949\n",
            "Method:                 Least Squares   F-statistic:                     59.56\n",
            "Date:                Thu, 09 Jan 2025   Prob (F-statistic):           7.20e-31\n",
            "Time:                        10:29:33   Log-Likelihood:                -1087.3\n",
            "No. Observations:                  80   AIC:                             2227.\n",
            "Df Residuals:                      54   BIC:                             2289.\n",
            "Df Model:                          25                                         \n",
            "Covariance Type:            nonrobust                                         \n",
            "=====================================================================================\n",
            "                        coef    std err          t      P>|t|      [0.025      0.975]\n",
            "-------------------------------------------------------------------------------------\n",
            "const              1.457e+06   1.07e+05     13.610      0.000    1.24e+06    1.67e+06\n",
            "Year              -2.403e+04   5.88e+04     -0.409      0.684   -1.42e+05    9.39e+04\n",
            "Kilometers_Driven -1.235e+05   6.02e+04     -2.053      0.045   -2.44e+05   -2922.401\n",
            "Mileage           -1.185e+05   5.94e+04     -1.995      0.051   -2.38e+05     562.968\n",
            "Engine            -4.642e+04   6.93e+04     -0.670      0.506   -1.85e+05    9.25e+04\n",
            "Power              5.114e+05   7.12e+04      7.185      0.000    3.69e+05    6.54e+05\n",
            "Seats               9.39e+04   5.34e+04      1.759      0.084   -1.31e+04    2.01e+05\n",
            "Tata              -1.132e+04   1.24e+05     -0.092      0.927   -2.59e+05    2.37e+05\n",
            "Hyundai           -3.978e+05    1.2e+05     -3.324      0.002   -6.38e+05   -1.58e+05\n",
            "Maruti            -2.628e+05   1.19e+05     -2.211      0.031   -5.01e+05   -2.45e+04\n",
            "BMW                8.302e+05   1.06e+05      7.831      0.000    6.18e+05    1.04e+06\n",
            "Volkswagen        -8989.1885   1.21e+05     -0.074      0.941   -2.52e+05    2.34e+05\n",
            "is_automatic       2.726e+05   1.02e+05      2.675      0.010    6.83e+04    4.77e+05\n",
            "Mahindra          -5.368e+05   1.39e+05     -3.874      0.000   -8.15e+05   -2.59e+05\n",
            "Toyota             2.687e+05   1.12e+05      2.394      0.020    4.36e+04    4.94e+05\n",
            "Honda             -1.865e+05   1.43e+05     -1.308      0.196   -4.72e+05    9.93e+04\n",
            "Mercedes           9.413e+05   1.11e+05      8.500      0.000    7.19e+05    1.16e+06\n",
            "is_petrol         -3.231e+05   9.27e+04     -3.486      0.001   -5.09e+05   -1.37e+05\n",
            "Audi               9.351e+05   1.13e+05      8.302      0.000    7.09e+05    1.16e+06\n",
            "Owner_Type_Codes   6.961e+04   7.24e+04      0.962      0.340   -7.54e+04    2.15e+05\n",
            "Ford              -1.137e+05   1.09e+05     -1.043      0.301   -3.32e+05    1.05e+05\n",
            "Model_0              4.3e+04    8.6e+04      0.500      0.619   -1.29e+05    2.15e+05\n",
            "Model_1            2.018e+04   8.06e+04      0.250      0.803   -1.41e+05    1.82e+05\n",
            "Model_2            1.531e+05   7.77e+04      1.971      0.054   -2662.701    3.09e+05\n",
            "Model_3           -1.069e+05   6.78e+04     -1.576      0.121   -2.43e+05    2.91e+04\n",
            "Model_4            9423.4002   6.52e+04      0.145      0.886   -1.21e+05     1.4e+05\n",
            "Model_5           -1.874e+05   8.19e+04     -2.287      0.026   -3.52e+05   -2.31e+04\n",
            "==============================================================================\n",
            "Omnibus:                        2.809   Durbin-Watson:                   2.126\n",
            "Prob(Omnibus):                  0.246   Jarque-Bera (JB):                2.629\n",
            "Skew:                           0.440   Prob(JB):                        0.269\n",
            "Kurtosis:                       2.880   Cond. No.                     2.17e+16\n",
            "==============================================================================\n",
            "\n",
            "Notes:\n",
            "[1] Standard Errors assume that the covariance matrix of the errors is correctly specified.\n",
            "[2] The smallest eigenvalue is 6.1e-31. This might indicate that there are\n",
            "strong multicollinearity problems or that the design matrix is singular.\n"
          ]
        }
      ],
      "source": [
        "X_train_enc_scaled_const = sm.add_constant(X_train_enc_scaled)\n",
        "model_enc_sm = sm.OLS(y_train, X_train_enc_scaled_const)\n",
        "results_enc = model_enc_sm.fit()\n",
        "\n",
        "print(results_enc.summary())"
      ]
    },
    {
      "cell_type": "code",
      "execution_count": 74,
      "metadata": {},
      "outputs": [
        {
          "data": {
            "text/plain": [
              "const                4.306256e-19\n",
              "Kilometers_Driven    4.488492e-02\n",
              "Power                2.061621e-09\n",
              "Hyundai              1.597245e-03\n",
              "Maruti               3.126099e-02\n",
              "BMW                  1.848075e-10\n",
              "is_automatic         9.866194e-03\n",
              "Mahindra             2.917890e-04\n",
              "Toyota               2.019015e-02\n",
              "Mercedes             1.549349e-11\n",
              "is_petrol            9.825670e-04\n",
              "Audi                 3.218746e-11\n",
              "Model_5              2.611338e-02\n",
              "dtype: float64"
            ]
          },
          "execution_count": 74,
          "metadata": {},
          "output_type": "execute_result"
        }
      ],
      "source": [
        "results_enc.pvalues[results_enc.pvalues < 0.05]"
      ]
    },
    {
      "cell_type": "markdown",
      "metadata": {},
      "source": [
        "- Only one newly created columns from encoding the `Model` column is statistically significant at the 0.05 level\n",
        "- The model achieves the highest `R-squared = 0.965` and `Adj. R-squared = 0.949` values, with a lower `RMSE`\n",
        "- Slightly higher `AIC` and `BIC` suggest increased complexity, but the improvement in accuracy is notable"
      ]
    },
    {
      "cell_type": "code",
      "execution_count": 75,
      "metadata": {},
      "outputs": [
        {
          "name": "stdout",
          "output_type": "stream",
          "text": [
            "                            OLS Regression Results                            \n",
            "==============================================================================\n",
            "Dep. Variable:                  Price   R-squared:                       0.964\n",
            "Model:                            OLS   Adj. R-squared:                  0.954\n",
            "Method:                 Least Squares   F-statistic:                     96.37\n",
            "Date:                Thu, 09 Jan 2025   Prob (F-statistic):           5.64e-38\n",
            "Time:                        10:29:33   Log-Likelihood:                -1089.0\n",
            "No. Observations:                  80   AIC:                             2214.\n",
            "Df Residuals:                      62   BIC:                             2257.\n",
            "Df Model:                          17                                         \n",
            "Covariance Type:            nonrobust                                         \n",
            "=====================================================================================\n",
            "                        coef    std err          t      P>|t|      [0.025      0.975]\n",
            "-------------------------------------------------------------------------------------\n",
            "const              1.441e+06   8.95e+04     16.104      0.000    1.26e+06    1.62e+06\n",
            "Kilometers_Driven -9.038e+04   3.35e+04     -2.698      0.009   -1.57e+05   -2.34e+04\n",
            "Mileage           -1.005e+05   4.75e+04     -2.114      0.039   -1.96e+05   -5487.736\n",
            "Power              4.577e+05   4.68e+04      9.776      0.000    3.64e+05    5.51e+05\n",
            "Seats              9.181e+04    4.5e+04      2.040      0.046    1842.028    1.82e+05\n",
            "Hyundai           -3.172e+05   1.15e+05     -2.767      0.007   -5.46e+05    -8.8e+04\n",
            "Maruti            -2.076e+05   1.16e+05     -1.789      0.079    -4.4e+05    2.44e+04\n",
            "BMW                9.196e+05   1.07e+05      8.621      0.000    7.06e+05    1.13e+06\n",
            "is_automatic       3.096e+05   7.49e+04      4.135      0.000     1.6e+05    4.59e+05\n",
            "Mahindra          -4.533e+05   1.39e+05     -3.256      0.002   -7.32e+05   -1.75e+05\n",
            "Toyota             2.754e+05   1.05e+05      2.617      0.011     6.5e+04    4.86e+05\n",
            "Honda             -1.589e+05   1.32e+05     -1.201      0.234   -4.24e+05    1.06e+05\n",
            "Mercedes           9.835e+05   1.01e+05      9.711      0.000    7.81e+05    1.19e+06\n",
            "is_petrol         -2.664e+05   7.19e+04     -3.706      0.000    -4.1e+05   -1.23e+05\n",
            "Audi               9.396e+05   1.05e+05      8.955      0.000     7.3e+05    1.15e+06\n",
            "Model_2            1.092e+05    5.8e+04      1.881      0.065   -6834.227    2.25e+05\n",
            "Model_3           -1.034e+05   6.14e+04     -1.685      0.097   -2.26e+05    1.93e+04\n",
            "Model_5           -1.713e+05   7.29e+04     -2.348      0.022   -3.17e+05   -2.55e+04\n",
            "==============================================================================\n",
            "Omnibus:                        1.478   Durbin-Watson:                   2.066\n",
            "Prob(Omnibus):                  0.478   Jarque-Bera (JB):                1.498\n",
            "Skew:                           0.308   Prob(JB):                        0.473\n",
            "Kurtosis:                       2.736   Cond. No.                         12.5\n",
            "==============================================================================\n",
            "\n",
            "Notes:\n",
            "[1] Standard Errors assume that the covariance matrix of the errors is correctly specified.\n"
          ]
        }
      ],
      "source": [
        "significant_25_features_enc = results_enc.pvalues[results_enc.pvalues < 0.25].index.to_list()\n",
        "\n",
        "model_sm_enc_25 = sm.OLS(y_train, X_train_enc_scaled_const[significant_25_features_enc])\n",
        "results_enc_25 = model_sm_enc_25.fit()\n",
        "print(results_enc_25.summary())"
      ]
    },
    {
      "cell_type": "markdown",
      "metadata": {},
      "source": [
        "This model include statistically significant features at the 0.25 significance level from `BinaryEncoding` (`Model_2`, `Model_3`, and `Model_5`). \n",
        "\n",
        "Model evaluation:\n",
        "- `R-squared = 0.964`\n",
        "- `Adjusted R-squared = 0.954`\n",
        "- Akaike Information Criterion `AIC = 2214`\n",
        "- Bayesian Information Criterion `BIC = 2232`\n",
        "- This is the best-performing model in terms of both explanatory and penalized model complexity (as measured by BIC)\n",
        "\n",
        "This model is could be recommended for use in production or further validation due to its robust performance and balanced complexity.\n"
      ]
    },
    {
      "cell_type": "markdown",
      "metadata": {},
      "source": [
        "#### Hashing Encoding\n",
        "\n",
        "Let's analyze the model with Hashing Encoding the`Model` column."
      ]
    },
    {
      "cell_type": "code",
      "execution_count": 76,
      "metadata": {},
      "outputs": [
        {
          "name": "stdout",
          "output_type": "stream",
          "text": [
            "                            OLS Regression Results                            \n",
            "==============================================================================\n",
            "Dep. Variable:                  Price   R-squared:                       0.967\n",
            "Model:                            OLS   Adj. R-squared:                  0.953\n",
            "Method:                 Least Squares   F-statistic:                     71.26\n",
            "Date:                Thu, 09 Jan 2025   Prob (F-statistic):           2.18e-33\n",
            "Time:                        10:31:16   Log-Likelihood:                -1085.0\n",
            "No. Observations:                  80   AIC:                             2218.\n",
            "Df Residuals:                      56   BIC:                             2275.\n",
            "Df Model:                          23                                         \n",
            "Covariance Type:            nonrobust                                         \n",
            "=====================================================================================\n",
            "                        coef    std err          t      P>|t|      [0.025      0.975]\n",
            "-------------------------------------------------------------------------------------\n",
            "const              1.261e+06   5.88e+04     21.463      0.000    1.14e+06    1.38e+06\n",
            "Year               2.555e+04   5.48e+04      0.466      0.643   -8.42e+04    1.35e+05\n",
            "Kilometers_Driven -1.099e+05   5.34e+04     -2.060      0.044   -2.17e+05   -3020.458\n",
            "Mileage           -1.159e+05   5.41e+04     -2.143      0.036   -2.24e+05   -7584.011\n",
            "Engine            -2.177e+04   6.54e+04     -0.333      0.740   -1.53e+05    1.09e+05\n",
            "Power               5.61e+05   7.07e+04      7.932      0.000    4.19e+05    7.03e+05\n",
            "Seats             -2955.7279   4.14e+04     -0.071      0.943   -8.59e+04       8e+04\n",
            "Tata               6.081e+04   1.32e+05      0.459      0.648   -2.05e+05    3.26e+05\n",
            "Hyundai           -3.617e+05   1.11e+05     -3.258      0.002   -5.84e+05   -1.39e+05\n",
            "Maruti            -3.428e+05   1.15e+05     -2.991      0.004   -5.72e+05   -1.13e+05\n",
            "BMW                8.056e+05    9.6e+04      8.390      0.000    6.13e+05    9.98e+05\n",
            "Volkswagen        -1.176e+05   1.02e+05     -1.152      0.254   -3.22e+05    8.68e+04\n",
            "is_automatic       1.603e+05   8.47e+04      1.892      0.064   -9430.289     3.3e+05\n",
            "Mahindra          -5.106e+05   1.24e+05     -4.133      0.000   -7.58e+05   -2.63e+05\n",
            "Toyota              2.49e+05   1.05e+05      2.380      0.021    3.94e+04    4.59e+05\n",
            "Honda             -1.102e+05   1.34e+05     -0.821      0.415   -3.79e+05    1.59e+05\n",
            "Mercedes           7.984e+05   9.79e+04      8.152      0.000    6.02e+05    9.95e+05\n",
            "is_petrol         -4.387e+05   8.79e+04     -4.992      0.000   -6.15e+05   -2.63e+05\n",
            "Audi               1.022e+06   1.21e+05      8.479      0.000    7.81e+05    1.26e+06\n",
            "Owner_Type_Codes   1.548e+05   8.24e+04      1.879      0.065   -1.02e+04     3.2e+05\n",
            "Ford              -2.322e+05   1.04e+05     -2.238      0.029    -4.4e+05   -2.43e+04\n",
            "col_0              2.671e+05   7.73e+04      3.455      0.001    1.12e+05    4.22e+05\n",
            "col_1              2.448e+05   6.58e+04      3.721      0.000    1.13e+05    3.77e+05\n",
            "col_2              2.888e+05   8.81e+04      3.278      0.002    1.12e+05    4.65e+05\n",
            "col_3              3.942e+05   6.45e+04      6.108      0.000    2.65e+05    5.23e+05\n",
            "col_4                6.6e+04      6e+04      1.100      0.276   -5.42e+04    1.86e+05\n",
            "==============================================================================\n",
            "Omnibus:                        0.420   Durbin-Watson:                   2.098\n",
            "Prob(Omnibus):                  0.810   Jarque-Bera (JB):                0.142\n",
            "Skew:                          -0.091   Prob(JB):                        0.931\n",
            "Kurtosis:                       3.099   Cond. No.                     1.98e+16\n",
            "==============================================================================\n",
            "\n",
            "Notes:\n",
            "[1] Standard Errors assume that the covariance matrix of the errors is correctly specified.\n",
            "[2] The smallest eigenvalue is 5.93e-31. This might indicate that there are\n",
            "strong multicollinearity problems or that the design matrix is singular.\n"
          ]
        }
      ],
      "source": [
        "X_train_hash_enc_scaled = pd.concat((X_train_scaled, train_model_hashing_enc), axis=1)\n",
        "X_test_hash_enc_scaled = pd.concat((X_test_scaled, test_model_hashing_enc), axis=1)\n",
        "\n",
        "X_train_hash_enc_scaled_const = sm.add_constant(X_train_hash_enc_scaled)\n",
        "model_hash_enc_sm = sm.OLS(y_train, X_train_hash_enc_scaled_const)\n",
        "results_hash_enc = model_hash_enc_sm.fit()\n",
        "\n",
        "print(results_hash_enc.summary())"
      ]
    },
    {
      "cell_type": "code",
      "execution_count": 77,
      "metadata": {},
      "outputs": [
        {
          "data": {
            "text/plain": [
              "const                1.070839e-28\n",
              "Kilometers_Driven    4.407227e-02\n",
              "Mileage              3.643391e-02\n",
              "Power                1.001330e-10\n",
              "Hyundai              1.906932e-03\n",
              "Maruti               4.124750e-03\n",
              "BMW                  1.768244e-11\n",
              "Mahindra             1.209675e-04\n",
              "Toyota               2.076100e-02\n",
              "Mercedes             4.347229e-11\n",
              "is_petrol            6.172246e-06\n",
              "Audi                 1.268963e-11\n",
              "Ford                 2.923432e-02\n",
              "col_0                1.056521e-03\n",
              "col_1                4.618948e-04\n",
              "col_2                1.801224e-03\n",
              "col_3                1.012054e-07\n",
              "dtype: float64"
            ]
          },
          "execution_count": 77,
          "metadata": {},
          "output_type": "execute_result"
        }
      ],
      "source": [
        "results_hash_enc.pvalues[results_hash_enc.pvalues < 0.05]"
      ]
    },
    {
      "cell_type": "markdown",
      "metadata": {},
      "source": [
        "- This model include statistically significant new features at the 0.25 significance level with high coefficient values, indicating a strong influence on the target variable. \n",
        "- The model achieves the highest `R-squared = 0.967` and `Adj. R-squared = 0.953` values."
      ]
    },
    {
      "cell_type": "code",
      "execution_count": 78,
      "metadata": {},
      "outputs": [
        {
          "name": "stdout",
          "output_type": "stream",
          "text": [
            "                            OLS Regression Results                            \n",
            "==============================================================================\n",
            "Dep. Variable:                  Price   R-squared:                       0.966\n",
            "Model:                            OLS   Adj. R-squared:                  0.956\n",
            "Method:                 Least Squares   F-statistic:                     95.33\n",
            "Date:                Thu, 09 Jan 2025   Prob (F-statistic):           9.13e-38\n",
            "Time:                        10:37:17   Log-Likelihood:                -1086.6\n",
            "No. Observations:                  80   AIC:                             2211.\n",
            "Df Residuals:                      61   BIC:                             2256.\n",
            "Df Model:                          18                                         \n",
            "Covariance Type:            nonrobust                                         \n",
            "=====================================================================================\n",
            "                        coef    std err          t      P>|t|      [0.025      0.975]\n",
            "-------------------------------------------------------------------------------------\n",
            "const               1.31e+06   9.14e+04     14.343      0.000    1.13e+06    1.49e+06\n",
            "Kilometers_Driven -1.178e+05    3.6e+04     -3.275      0.002    -1.9e+05   -4.59e+04\n",
            "Mileage           -1.189e+05   4.08e+04     -2.914      0.005      -2e+05   -3.73e+04\n",
            "Power               5.26e+05   5.23e+04     10.061      0.000    4.21e+05    6.31e+05\n",
            "Hyundai           -2.503e+05    1.2e+05     -2.086      0.041    -4.9e+05   -1.03e+04\n",
            "Maruti            -2.285e+05   1.24e+05     -1.837      0.071   -4.77e+05    2.03e+04\n",
            "BMW                9.126e+05   1.18e+05      7.753      0.000    6.77e+05    1.15e+06\n",
            "is_automatic       1.558e+05    7.9e+04      1.972      0.053   -2216.370    3.14e+05\n",
            "Mahindra          -4.134e+05   1.38e+05     -2.987      0.004    -6.9e+05   -1.37e+05\n",
            "Toyota             2.955e+05   1.17e+05      2.529      0.014    6.18e+04    5.29e+05\n",
            "Mercedes           8.558e+05   1.14e+05      7.519      0.000    6.28e+05    1.08e+06\n",
            "is_petrol          -3.91e+05   6.81e+04     -5.745      0.000   -5.27e+05   -2.55e+05\n",
            "Audi               1.012e+06   1.18e+05      8.564      0.000    7.76e+05    1.25e+06\n",
            "Owner_Type_Codes   9.398e+04   6.18e+04      1.522      0.133   -2.95e+04    2.17e+05\n",
            "Ford              -1.384e+05   1.22e+05     -1.133      0.262   -3.83e+05    1.06e+05\n",
            "col_0              1.869e+05   9.95e+04      1.878      0.065   -1.21e+04    3.86e+05\n",
            "col_1              1.143e+05   8.93e+04      1.280      0.205   -6.43e+04    2.93e+05\n",
            "col_2              2.514e+05   1.01e+05      2.487      0.016    4.93e+04    4.54e+05\n",
            "col_3              2.677e+05    8.3e+04      3.225      0.002    1.02e+05    4.34e+05\n",
            "==============================================================================\n",
            "Omnibus:                        0.235   Durbin-Watson:                   2.050\n",
            "Prob(Omnibus):                  0.889   Jarque-Bera (JB):                0.137\n",
            "Skew:                          -0.100   Prob(JB):                        0.934\n",
            "Kurtosis:                       2.967   Cond. No.                         14.9\n",
            "==============================================================================\n",
            "\n",
            "Notes:\n",
            "[1] Standard Errors assume that the covariance matrix of the errors is correctly specified.\n"
          ]
        }
      ],
      "source": [
        "significant_25_features_hash_enc = results_hash_enc.pvalues[results_hash_enc.pvalues < 0.25].index.to_list()\n",
        "\n",
        "model_sm_hash_enc_25 = sm.OLS(y_train, X_train_hash_enc_scaled_const[significant_25_features_hash_enc])\n",
        "results_hash_enc_25 = model_sm_hash_enc_25.fit()\n",
        "print(results_hash_enc_25.summary())"
      ]
    },
    {
      "cell_type": "markdown",
      "metadata": {},
      "source": [
        "This model include statistically significant features at the 0.25 significance level from `HashingEncoding` (`col_0`, `col_1`, `col_2`, and `col_3`). \n",
        "\n",
        "Model evaluation:\n",
        "- `R-squared = 0.966`\n",
        "- `Adjusted R-squared = 0.956`\n",
        "- Akaike Information Criterion `AIC = 2211`\n",
        "- Bayesian Information Criterion `BIC = 2256`\n",
        "- This is the best-performing model on train in terms of both explanatory and penalized model complexity (as measured by BIC)\n",
        "\n",
        "But also this model has lower `RMSE` on test data, than the model with `BinaryEncoding`.\n"
      ]
    }
  ],
  "metadata": {
    "colab": {
      "provenance": []
    },
    "kernelspec": {
      "display_name": "py312",
      "language": "python",
      "name": "python3"
    },
    "language_info": {
      "codemirror_mode": {
        "name": "ipython",
        "version": 3
      },
      "file_extension": ".py",
      "mimetype": "text/x-python",
      "name": "python",
      "nbconvert_exporter": "python",
      "pygments_lexer": "ipython3",
      "version": "3.12.7"
    }
  },
  "nbformat": 4,
  "nbformat_minor": 0
}
